{
 "cells": [
  {
   "cell_type": "code",
   "execution_count": 1,
   "id": "bc9904d6",
   "metadata": {},
   "outputs": [],
   "source": [
    "using Flux"
   ]
  },
  {
   "cell_type": "markdown",
   "id": "ce277426",
   "metadata": {},
   "source": [
    "Wczytanie oraz przygotowanie danych"
   ]
  },
  {
   "cell_type": "code",
   "execution_count": 2,
   "id": "8fcdffc5",
   "metadata": {},
   "outputs": [],
   "source": [
    "using Flux.Data.MNIST\n",
    "using Images\n",
    "\n",
    "\n",
    "images = MNIST.images();\n",
    "labels = MNIST.labels();"
   ]
  },
  {
   "cell_type": "code",
   "execution_count": 3,
   "id": "7b24ebde",
   "metadata": {},
   "outputs": [
    {
     "data": {
      "text/plain": [
       "2000-element Vector{Flux.OneHotVector}:\n",
       " [0, 0, 0, 1, 0, 0, 0, 0, 0, 0]\n",
       " [0, 0, 0, 0, 0, 0, 0, 0, 1, 0]\n",
       " [0, 0, 0, 0, 0, 0, 0, 1, 0, 0]\n",
       " [0, 0, 0, 0, 0, 0, 0, 0, 0, 1]\n",
       " [0, 0, 0, 0, 0, 0, 0, 0, 0, 1]\n",
       " [1, 0, 0, 0, 0, 0, 0, 0, 0, 0]\n",
       " [0, 1, 0, 0, 0, 0, 0, 0, 0, 0]\n",
       " [0, 1, 0, 0, 0, 0, 0, 0, 0, 0]\n",
       " [0, 0, 0, 0, 0, 1, 0, 0, 0, 0]\n",
       " [0, 0, 1, 0, 0, 0, 0, 0, 0, 0]\n",
       " [1, 0, 0, 0, 0, 0, 0, 0, 0, 0]\n",
       " [0, 0, 0, 1, 0, 0, 0, 0, 0, 0]\n",
       " [0, 0, 0, 0, 0, 0, 0, 0, 1, 0]\n",
       " ⋮\n",
       " [0, 0, 0, 0, 1, 0, 0, 0, 0, 0]\n",
       " [0, 0, 0, 0, 0, 0, 0, 0, 1, 0]\n",
       " [0, 0, 0, 0, 0, 0, 0, 0, 0, 1]\n",
       " [0, 0, 0, 0, 0, 0, 0, 0, 0, 1]\n",
       " [0, 0, 0, 0, 0, 0, 0, 0, 0, 1]\n",
       " [1, 0, 0, 0, 0, 0, 0, 0, 0, 0]\n",
       " [0, 0, 0, 0, 0, 0, 0, 1, 0, 0]\n",
       " [0, 1, 0, 0, 0, 0, 0, 0, 0, 0]\n",
       " [0, 0, 0, 0, 0, 0, 1, 0, 0, 0]\n",
       " [0, 0, 1, 0, 0, 0, 0, 0, 0, 0]\n",
       " [0, 0, 0, 0, 0, 0, 0, 0, 1, 0]\n",
       " [0, 0, 0, 1, 0, 0, 0, 0, 0, 0]"
      ]
     },
     "execution_count": 3,
     "metadata": {},
     "output_type": "execute_result"
    }
   ],
   "source": [
    "preprocess(img) = vec(Float64.(img))#zmieniamy na float i na vektor bo tak będziemy pracować z siecia neuronową\n",
    "\n",
    "\n",
    "xs = preprocess.(images[1:4000])# używamy tej funkci 5 tys razy aby stworzyc set uczacy\n",
    "testowy_x = preprocess.(images[10001:12000])# set testowy\n",
    "\n",
    "ys = [Flux.onehot(labels, 0:9) for labels in labels[1:4000]] # zmieniamy 5 na wertor [ 0 0 0 0 0 1 0 0 0 0 ]\n",
    "testowy_y = [Flux.onehot(labels, 0:9) for labels in labels[10001:12000]]"
   ]
  },
  {
   "cell_type": "markdown",
   "id": "fab2a5c3",
   "metadata": {},
   "source": [
    "Wczytujemy baze danych MNIST z zdjeciami liczb \n",
    "Mamy 60 tys zdjec (imagies) i podpisów do nich(labels)\n",
    "images to jedno wymiarowa tablica dwuwyiarowych macierzy 28x28\n",
    "images[1] = to jedno zdjecie"
   ]
  },
  {
   "cell_type": "markdown",
   "id": "7f08c7f6",
   "metadata": {},
   "source": [
    "Tworzenie grafu"
   ]
  },
  {
   "cell_type": "code",
   "execution_count": 4,
   "id": "c5081ea4",
   "metadata": {},
   "outputs": [
    {
     "data": {
      "text/plain": [
       "backward (generic function with 12 methods)"
      ]
     },
     "execution_count": 4,
     "metadata": {},
     "output_type": "execute_result"
    }
   ],
   "source": [
    "#bebechy\n",
    "abstract type GraphNode end\n",
    "abstract type Operator <: GraphNode end\n",
    "\n",
    "struct Constant{T} <: GraphNode\n",
    "    output :: T\n",
    "end\n",
    "\n",
    "mutable struct Variable <: GraphNode\n",
    "    output :: Any\n",
    "    gradient :: Any\n",
    "    name :: String\n",
    "    Variable(output; name=\"?\") = new(output, nothing, name)\n",
    "end\n",
    "\n",
    "mutable struct ScalarOperator{F} <: Operator\n",
    "    inputs :: Any\n",
    "    output :: Any\n",
    "    gradient :: Any\n",
    "    name :: String\n",
    "    ScalarOperator(fun, inputs...; name=\"?\") = new{typeof(fun)}(inputs, nothing, nothing, name)\n",
    "end\n",
    "\n",
    "mutable struct BroadcastedOperator{F} <: Operator\n",
    "    inputs :: Any\n",
    "    output :: Any\n",
    "    gradient :: Any\n",
    "    name :: String\n",
    "    BroadcastedOperator(fun, inputs...; name=\"?\") = new{typeof(fun)}(inputs, nothing, nothing, name)\n",
    "end\n",
    "\n",
    "import Base: show, summary\n",
    "show(io::IO, x::ScalarOperator{F}) where {F} = print(io, \"op \", x.name, \"(\", F, \")\");\n",
    "show(io::IO, x::BroadcastedOperator{F}) where {F} = print(io, \"op.\", x.name, \"(\", F, \")\");\n",
    "show(io::IO, x::Constant) = print(io, \"const \", x.output)\n",
    "show(io::IO, x::Variable) = begin\n",
    "    print(io, \"var \", x.name);\n",
    "    print(io, \"\\n ┣━ ^ \"); summary(io, x.output)\n",
    "    print(io, \"\\n ┗━ ∇ \");  summary(io, x.gradient)\n",
    "end\n",
    "\n",
    "function visit(node::GraphNode, visited, order)\n",
    "    if node ∈ visited\n",
    "    else\n",
    "        push!(visited, node)\n",
    "        push!(order, node)\n",
    "    end\n",
    "    return nothing\n",
    "end\n",
    "    \n",
    "function visit(node::Operator, visited, order)\n",
    "    if node ∈ visited\n",
    "    else\n",
    "        push!(visited, node)\n",
    "        for input in node.inputs\n",
    "            visit(input, visited, order)\n",
    "        end\n",
    "        push!(order, node)\n",
    "    end\n",
    "    return nothing\n",
    "end\n",
    "\n",
    "function topological_sort(head::GraphNode)\n",
    "    visited = Set()\n",
    "    order = Vector()\n",
    "    visit(head, visited, order)\n",
    "    return order\n",
    "end\n",
    "\n",
    "reset!(node::Constant) = nothing\n",
    "reset!(node::Variable) = node.gradient = nothing\n",
    "reset!(node::Operator) = node.gradient = nothing\n",
    "\n",
    "compute!(node::Constant) = nothing\n",
    "compute!(node::Variable) = nothing\n",
    "compute!(node::Operator) =\n",
    "    node.output = forward(node, [input.output for input in node.inputs]...)\n",
    "\n",
    "function forward!(order::Vector)\n",
    "    for node in order\n",
    "        compute!(node)\n",
    "        reset!(node)\n",
    "    end\n",
    "    return last(order).output\n",
    "end\n",
    "\n",
    "update!(node::Constant, gradient) = nothing\n",
    "update!(node::GraphNode, gradient) = if isnothing(node.gradient)\n",
    "    node.gradient = gradient else node.gradient .+= gradient\n",
    "end\n",
    "\n",
    "function backward!(order::Vector; seed=1.0)\n",
    "    result = last(order)\n",
    "    result.gradient = seed\n",
    "    @assert length(result.output) == 1 \"Gradient is defined only for scalar functions\"\n",
    "    for node in reverse(order)\n",
    "        backward!(node)\n",
    "    end\n",
    "    return nothing\n",
    "end\n",
    "\n",
    "function backward!(node::Constant) end\n",
    "function backward!(node::Variable) end\n",
    "function backward!(node::Operator)\n",
    "    inputs = node.inputs\n",
    "    gradients = backward(node, [input.output for input in inputs]..., node.gradient)\n",
    "    for (input, gradient) in zip(inputs, gradients)\n",
    "        update!(input, gradient)\n",
    "    end\n",
    "    return nothing\n",
    "end\n",
    "\n",
    "\n",
    "import Base: ^\n",
    "^(x::GraphNode, n::GraphNode) = ScalarOperator(^, x, n)\n",
    "forward(::ScalarOperator{typeof(^)}, x, n) = return x^n\n",
    "backward(::ScalarOperator{typeof(^)}, x, n, g) = tuple(g * n * x ^ (n-1), g * log(abs(x)) * x ^ n)\n",
    "\n",
    "import Base: sin\n",
    "sin(x::GraphNode) = ScalarOperator(sin, x)\n",
    "forward(::ScalarOperator{typeof(sin)}, x) = return sin(x)\n",
    "backward(::ScalarOperator{typeof(sin)}, x, g) = tuple(g * cos(x))\n",
    "\n",
    "import Base: *\n",
    "import LinearAlgebra: mul!\n",
    "# x * y (aka matrix multiplication)\n",
    "*(A::GraphNode, x::GraphNode) = BroadcastedOperator(mul!, A, x)\n",
    "forward(::BroadcastedOperator{typeof(mul!)}, A, x) = return A * x\n",
    "backward(::BroadcastedOperator{typeof(mul!)}, A, x, g) = let\n",
    "    #print(\"mul \")\n",
    "    #print(g)\n",
    "    tuple(g * x', A' * g)\n",
    "end\n",
    "\n",
    "# x .* y (element-wise multiplication)\n",
    "Base.Broadcast.broadcasted(*, x::GraphNode, y::GraphNode) = BroadcastedOperator(*, x, y)\n",
    "forward(::BroadcastedOperator{typeof(*)}, x, y) = return x .* y\n",
    "backward(node::BroadcastedOperator{typeof(*)}, x, y, g) = let  #w*x\n",
    "    #print(\"* \")\n",
    "    𝟏 = ones(length(node.output))\n",
    "    Jx = diagm(y .* 𝟏)# to zostaje tylko y wiec to dajesz\n",
    "    Jy = diagm(x .* 𝟏)\n",
    "    \n",
    "    tuple(Jx' * g, Jy' * g)\n",
    "end\n",
    "\n",
    "Base.Broadcast.broadcasted(-, x::GraphNode, y::GraphNode) = BroadcastedOperator(-, x, y)\n",
    "forward(::BroadcastedOperator{typeof(-)}, x, y) = return x .- y\n",
    "backward(::BroadcastedOperator{typeof(-)}, x, y, g) = tuple(g,-g)\n",
    "\n",
    "Base.Broadcast.broadcasted(+, x::GraphNode, y::GraphNode) = BroadcastedOperator(+, x, y)\n",
    "forward(::BroadcastedOperator{typeof(+)}, x, y) = return x .+ y\n",
    "backward(::BroadcastedOperator{typeof(+)}, x, y, g) = tuple(g, g)\n",
    "\n",
    "import Base: sum\n",
    "sum(x::GraphNode) = BroadcastedOperator(sum, x)\n",
    "forward(::BroadcastedOperator{typeof(sum)}, x) = return sum(x)\n",
    "backward(::BroadcastedOperator{typeof(sum)}, x, g) = let\n",
    "    #print(\"sum \")\n",
    "    #print(g)\n",
    "    𝟏 = ones(length(x))\n",
    "    J = 𝟏'\n",
    "    tuple(J' * g)\n",
    "end\n",
    "\n",
    "Base.Broadcast.broadcasted(/, x::GraphNode, y::GraphNode) = BroadcastedOperator(/, x, y)\n",
    "forward(::BroadcastedOperator{typeof(/)}, x, y) = return x ./ y\n",
    "backward(node::BroadcastedOperator{typeof(/)}, x, y::Real, g) = let\n",
    "    𝟏 = ones(length(node.output))#robisz jedynki \n",
    "    Jx = diagm(𝟏 ./ y)\n",
    "    Jy = (-x ./ y .^2)\n",
    "    tuple(Jx' * g, Jy' * g)\n",
    "end\n",
    "\n",
    "\n",
    "import Base: max\n",
    "Base.Broadcast.broadcasted(max, x::GraphNode, y::GraphNode) = BroadcastedOperator(max, x, y)\n",
    "forward(::BroadcastedOperator{typeof(max)}, x, y) = return max.(x, y)\n",
    "backward(::BroadcastedOperator{typeof(max)}, x, y, g) = let\n",
    "    Jx = diagm(isless.(y, x))\n",
    "    #print(\"max \")\n",
    "    Jy = diagm(isless.(x, y))\n",
    "    tuple(Jx' * g, Jy' * g)\n",
    "end\n",
    "\n",
    "import Base: ^\n",
    "Base.Broadcast.broadcasted(^, x::GraphNode, y::GraphNode) = BroadcastedOperator(^, x, y)\n",
    "forward(::BroadcastedOperator{typeof(^)}, x, y) = return x.^y\n",
    "backward(node::BroadcastedOperator{typeof(^)}, x, y::Real, g) = let\n",
    "    #print(\"^ \")\n",
    "    #print(g)\n",
    "    𝟏 = ones(length(node.output))#robisz jedynki \n",
    "    Jx = diagm(y .* x .^ (y.-1))\n",
    "    Jy = diagm(x .^ y .* log.(broadcast(abs, x)))\n",
    "    tuple(Jx' * g, Jy' * g)\n",
    "end\n",
    "\n",
    "σ(x::GraphNode) = BroadcastedOperator(σ, x)\n",
    "forward(::BroadcastedOperator{typeof(σ)}, x) = return @. one(x) / (one(x) + exp(-x))\n",
    "backward(::BroadcastedOperator{typeof(σ)}, x, g) = let\n",
    "    a=exp.(-x)\n",
    "    Jx=diagm(@.a/(one(x)+a)^2)\n",
    "    tuple(Jx' * g)\n",
    "end\n",
    "\n",
    "mean_squared_loss_in_graf(x::GraphNode, y::GraphNode) = BroadcastedOperator(mean_squared_loss_in_graf, x, y)\n",
    "Base.Broadcast.broadcasted(mean_squared_loss_in_graf, x::GraphNode, y::GraphNode) = BroadcastedOperator(max, x, y)\n",
    "forward(::BroadcastedOperator{typeof(mean_squared_loss_in_graf)}, x, y) = return (1/length(x)) .* sum((x .- y) .^ 2.0)\n",
    "backward(::BroadcastedOperator{typeof(mean_squared_loss_in_graf)}, x, y, g) = let\n",
    "    𝟏 = ones(length(y))#sum\n",
    "    Jy = ((1/length(y)).*𝟏')'#sum*0.1\n",
    "    #print(Jy)\n",
    "    Jy=diagm(2 .* (x .- y))*Jy#^2\n",
    "    #print(Jy)\n",
    "    Jy=-Jy#x-y\n",
    "    #print(Jy)\n",
    "    Jx=Jy#test\n",
    "    tuple(Jx * g, Jy * g)\n",
    "end"
   ]
  },
  {
   "cell_type": "code",
   "execution_count": 5,
   "id": "60b0efd4",
   "metadata": {},
   "outputs": [
    {
     "name": "stdout",
     "output_type": "stream",
     "text": [
      "1. var y\n",
      " ┣━ ^ 10-element Vector{Float64}\n",
      " ┗━ ∇ Nothing\n",
      "2. var wo\n",
      " ┣━ ^ 10×20 Matrix{Float64}\n",
      " ┗━ ∇ Nothing\n",
      "3. var wh\n",
      " ┣━ ^ 20×784 Matrix{Float64}\n",
      " ┗━ ∇ Nothing\n",
      "4. var x\n",
      " ┣━ ^ 784-element Vector{Float64}\n",
      " ┗━ ∇ Nothing\n",
      "5. op.?(typeof(mul!))\n",
      "6. op.x̂(typeof(σ))\n",
      "7. op.ŷ(typeof(mul!))\n",
      "8. op.loss(typeof(mean_squared_loss_in_graf))\n"
     ]
    }
   ],
   "source": [
    "# siec neuronowa\n",
    "using LinearAlgebra\n",
    "Wh  = Variable(randn(20,784), name=\"wh\")#tworzymy losowe wagi \n",
    "Wo  = Variable(randn(10,20), name=\"wo\")\n",
    "x = Variable(xs[1], name=\"x\")#wczytujemy pierwsze dane\n",
    "y = Variable(Vector{Float64}(ys[1]), name=\"y\")\n",
    "\n",
    "#rózne funkcje aktywacji\n",
    "#σ(x) = one(x) / (one(x) + exp(-x))#aktualnie używana ale zamieniona na czesc grafu\n",
    "linear(x)=x\n",
    "ReLU(x)= max.(Constant(0.0),x) \n",
    "\n",
    "epos=100\n",
    "\n",
    "#różne funkcje strat\n",
    "# function mean_squared_loss(y, ŷ)#aktualnie używana ale zamieniona na czesc grafu\n",
    "#     return Constant(0.1) .* sum((y .- ŷ) .^ Constant(2.0))\n",
    "# end   a *sum(b-x)^2\n",
    "\n",
    "function cross_entropy(y, ŷ)\n",
    "    return sum(Constant(-1.0).*y.*log.(ŷ))\n",
    "end\n",
    "\n",
    "#definicja grafu\n",
    "function dense(w, x, activation) return activation(w * x) end\n",
    "function dense(w, x) return w * x end\n",
    "\n",
    "function net(x, wh, wo, y)\n",
    "    x̂ = dense(wh, x, σ)\n",
    "    x̂.name = \"x̂\"\n",
    "    ŷ = dense(wo, x̂)\n",
    "    ŷ.name = \"ŷ\"\n",
    "    E = mean_squared_loss_in_graf(y, ŷ)\n",
    "    E.name = \"loss\"\n",
    "    return topological_sort(E)\n",
    "end\n",
    "\n",
    "graph = net(x, Wh, Wo, y)\n",
    "\n",
    "for (i,n) in enumerate(graph)\n",
    "    print(i, \". \"); println(n)\n",
    "end"
   ]
  },
  {
   "cell_type": "code",
   "execution_count": 6,
   "id": "ae7ee228",
   "metadata": {},
   "outputs": [
    {
     "data": {
      "text/plain": [
       "9.425960847462731"
      ]
     },
     "execution_count": 6,
     "metadata": {},
     "output_type": "execute_result"
    }
   ],
   "source": [
    "forward!(graph)\n"
   ]
  },
  {
   "cell_type": "code",
   "execution_count": 7,
   "id": "59b2b1f6",
   "metadata": {},
   "outputs": [],
   "source": [
    "backward!(graph)"
   ]
  },
  {
   "cell_type": "code",
   "execution_count": 8,
   "id": "e613abac",
   "metadata": {
    "scrolled": true
   },
   "outputs": [],
   "source": [
    "# for (i,n) in enumerate(graph)\n",
    "#     try\n",
    "#         print(i, \". \"); println(n.gradient)\n",
    "#     catch\n",
    "#         println(\"Constans\")\n",
    "#     end\n",
    "\n",
    "# end"
   ]
  },
  {
   "cell_type": "code",
   "execution_count": 9,
   "id": "4b4e3bd4",
   "metadata": {},
   "outputs": [
    {
     "data": {
      "text/plain": [
       "loss_test (generic function with 1 method)"
      ]
     },
     "execution_count": 9,
     "metadata": {},
     "output_type": "execute_result"
    }
   ],
   "source": [
    "import ProgressMeter: @showprogress\n",
    "using Flux: onecold\n",
    "#funcje gradientowe\n",
    "function steepest_descent(step)\n",
    "    Wh.output -= step*Wh.gradient\n",
    "    Wo.output -= step*Wo.gradient\n",
    "end\n",
    "\n",
    "\n",
    "function steepest_descent_momentum(step,changeWo,changeWh,momentum = 0.6)\n",
    "    new_changeWh = step * Wh.gradient + momentum * changeWh\n",
    "    new_changeWo = step * Wo.gradient + momentum * changeWo\n",
    "    \n",
    "    Wh.output -= new_changeWh\n",
    "    Wo.output -= new_changeWo\n",
    "    \n",
    "    changeWh=new_changeWh\n",
    "    changeWo=new_changeWo\n",
    "    return changeWh,changeWo\n",
    "end\n",
    "\n",
    "#funkcja zmieniajaca kolejnosc setów\n",
    "using Random\n",
    "    function double_shuffle(set1,set2)\n",
    "    @assert length(set1) == length(set2) \"wielkości zbiorów do tasowania muszą być równę\"\n",
    "    temp_set1=copy(set1)\n",
    "    temp_set2=copy(set2)\n",
    "    new_order=shuffle(1:length(set1))\n",
    "    i=0\n",
    "    for order in new_order\n",
    "        i+=1\n",
    "        temp_set1[i]=set1[order]\n",
    "        temp_set2[i]=set2[order]\n",
    "    end\n",
    "    return temp_set1,temp_set2\n",
    "end\n",
    "\n",
    "\n",
    "#funcje pokazujące postęp\n",
    "function test(set_x,set_y)\n",
    "    good_maches=0\n",
    "        for i=1:length(set_x)\n",
    "            x.output=set_x[i]\n",
    "            forward!(graph)\n",
    "            if onecold(Vector{Float64}(set_y[i])) == onecold(graph[7].output)\n",
    "                good_maches+=1\n",
    "            end\n",
    "        end\n",
    "    return 100.0*good_maches/float(length(set_y))\n",
    "end\n",
    "\n",
    "function loss_test(set_x,set_y)\n",
    "    loss=0.0\n",
    "        for i=1:length(set_x)\n",
    "            x.output=set_x[i]\n",
    "            y.output=Vector{Float64}(set_y[i])\n",
    "            loss+=forward!(graph)\n",
    "        end\n",
    "    return loss/float(length(set_y))\n",
    "end\n",
    "\n"
   ]
  },
  {
   "cell_type": "code",
   "execution_count": 10,
   "id": "c6c71183",
   "metadata": {},
   "outputs": [
    {
     "name": "stdout",
     "output_type": "stream",
     "text": [
      "Acc zbioru uczącego:6.325\n",
      "Acc zbuoru testowo:5.95\n",
      "Straty zbioru uczącego:10.620312566256558\n",
      "Straty zbioru uczącego:10.393272578227077\n"
     ]
    }
   ],
   "source": [
    "println(\"Acc zbioru uczącego:\",test(xs,ys))\n",
    "println(\"Acc zbuoru testowo:\",test(testowy_x,testowy_y))\n",
    "println(\"Straty zbioru uczącego:\",loss_test(xs,ys))\n",
    "println(\"Straty zbioru uczącego:\",loss_test(testowy_x,testowy_y))"
   ]
  },
  {
   "cell_type": "code",
   "execution_count": 11,
   "id": "fb536750",
   "metadata": {
    "scrolled": true
   },
   "outputs": [
    {
     "name": "stderr",
     "output_type": "stream",
     "text": [
      "┌ Info: Precompiling PyPlot [d330b81b-6aea-500a-939a-2ce795aea3ee]\n",
      "└ @ Base loading.jl:1423\n",
      "\u001b[32mProgress: 100%|█████████████████████████████████████████| Time: 0:01:55\u001b[39m\n"
     ]
    },
    {
     "data": {
      "image/png": "[encoded data removed]",
      "text/plain": [
       "Figure(PyObject <Figure size 640x480 with 1 Axes>)"
      ]
     },
     "metadata": {},
     "output_type": "display_data"
    },
    {
     "data": {
      "text/plain": [
       "2-element Vector{PyCall.PyObject}:\n",
       " PyObject <matplotlib.lines.Line2D object at 0x0000000001E86190>\n",
       " PyObject <matplotlib.lines.Line2D object at 0x0000000001E86130>"
      ]
     },
     "execution_count": 11,
     "metadata": {},
     "output_type": "execute_result"
    }
   ],
   "source": [
    "#mini batch\n",
    "changeWh = zero(randn(20,784))\n",
    "changeWo = zero(randn(10,20))\n",
    "using PyPlot\n",
    "\n",
    "j=0\n",
    "batch_size=5\n",
    "grad_wo=zeros(10,20)\n",
    "grad_wh=zeros(20,784)\n",
    "\n",
    "yyy = zeros(epos, 2)\n",
    "@showprogress for i=1:epos\n",
    "xs,ys=double_shuffle(xs,ys)\n",
    "    for i=1:length(xs)\n",
    "        x.output=xs[i]\n",
    "        y.output=Vector{Float64}(ys[i])\n",
    "        forward!(graph)\n",
    "        backward!(graph)\n",
    "        \n",
    "        grad_wo+=Wo.gradient\n",
    "        grad_wh+=Wh.gradient\n",
    "        j+=1\n",
    "        if j ==batch_size\n",
    "            Wo.gradient = grad_wo/batch_size\n",
    "            Wh.gradient = grad_wh/batch_size\n",
    "            changeWh,changeWo = steepest_descent_momentum(0.2,changeWo,changeWh)\n",
    "            j=0\n",
    "            grad_wo=zeros(10,20)\n",
    "            grad_wh=zeros(20,784)\n",
    "        end\n",
    "    end\n",
    "yyy[i,1]=loss_test(xs,ys)\n",
    "yyy[i,2]=loss_test(testowy_x,testowy_y)\n",
    "end\n",
    "xxx = 1:epos\n",
    "plot(xxx, yyy)\n"
   ]
  },
  {
   "cell_type": "code",
   "execution_count": 12,
   "id": "edf04eb0",
   "metadata": {},
   "outputs": [
    {
     "name": "stdout",
     "output_type": "stream",
     "text": [
      "Acc zbioru uczącego:76.15\n",
      "Acc zbuoru testowo:70.05\n",
      "Straty zbioru uczącego:0.03343774871164767\n",
      "Straty zbioru uczącego:0.04319318845783661\n"
     ]
    }
   ],
   "source": [
    "println(\"Acc zbioru uczącego:\",test(xs,ys))\n",
    "println(\"Acc zbuoru testowo:\",test(testowy_x,testowy_y))\n",
    "println(\"Straty zbioru uczącego:\",loss_test(xs,ys))\n",
    "println(\"Straty zbioru uczącego:\",loss_test(testowy_x,testowy_y))"
   ]
  },
  {
   "cell_type": "code",
   "execution_count": 17,
   "id": "3148fcb9",
   "metadata": {},
   "outputs": [
    {
     "name": "stdout",
     "output_type": "stream",
     "text": [
      "  50.800 μs (118 allocations: 140.22 KiB)\n"
     ]
    }
   ],
   "source": [
    "using BenchmarkTools\n",
    "@btime  backward!(graph)"
   ]
  },
  {
   "cell_type": "code",
   "execution_count": 19,
   "id": "69968b35",
   "metadata": {},
   "outputs": [
    {
     "data": {
      "text/plain": [
       "BenchmarkTools.Trial: 10000 samples with 1 evaluation.\n",
       " Range \u001b[90m(\u001b[39m\u001b[36m\u001b[1mmin\u001b[22m\u001b[39m … \u001b[35mmax\u001b[39m\u001b[90m):  \u001b[39m\u001b[36m\u001b[1m51.000 μs\u001b[22m\u001b[39m … \u001b[35m  7.047 ms\u001b[39m  \u001b[90m┊\u001b[39m GC \u001b[90m(\u001b[39mmin … max\u001b[90m): \u001b[39m0.00% … 98.10%\n",
       " Time  \u001b[90m(\u001b[39m\u001b[34m\u001b[1mmedian\u001b[22m\u001b[39m\u001b[90m):     \u001b[39m\u001b[34m\u001b[1m55.300 μs               \u001b[22m\u001b[39m\u001b[90m┊\u001b[39m GC \u001b[90m(\u001b[39mmedian\u001b[90m):    \u001b[39m0.00%\n",
       " Time  \u001b[90m(\u001b[39m\u001b[32m\u001b[1mmean\u001b[22m\u001b[39m ± \u001b[32mσ\u001b[39m\u001b[90m):   \u001b[39m\u001b[32m\u001b[1m63.570 μs\u001b[22m\u001b[39m ± \u001b[32m116.655 μs\u001b[39m  \u001b[90m┊\u001b[39m GC \u001b[90m(\u001b[39mmean ± σ\u001b[90m):  \u001b[39m6.58% ±  3.80%\n",
       "\n",
       "  \u001b[39m \u001b[39m▄\u001b[39m▆\u001b[39m▇\u001b[39m█\u001b[34m▇\u001b[39m\u001b[39m▅\u001b[39m▅\u001b[39m▄\u001b[39m▃\u001b[39m▃\u001b[39m▃\u001b[39m▂\u001b[39m▂\u001b[32m▁\u001b[39m\u001b[39m▁\u001b[39m▁\u001b[39m▁\u001b[39m \u001b[39m \u001b[39m▁\u001b[39m \u001b[39m \u001b[39m \u001b[39m \u001b[39m \u001b[39m \u001b[39m \u001b[39m \u001b[39m▁\u001b[39m▂\u001b[39m▂\u001b[39m▃\u001b[39m▂\u001b[39m▁\u001b[39m \u001b[39m \u001b[39m \u001b[39m \u001b[39m \u001b[39m \u001b[39m \u001b[39m \u001b[39m \u001b[39m \u001b[39m \u001b[39m \u001b[39m \u001b[39m \u001b[39m \u001b[39m \u001b[39m \u001b[39m \u001b[39m \u001b[39m \u001b[39m \u001b[39m \u001b[39m \u001b[39m \u001b[39m \u001b[39m \u001b[39m▂\n",
       "  \u001b[39m▇\u001b[39m█\u001b[39m█\u001b[39m█\u001b[39m█\u001b[34m█\u001b[39m\u001b[39m█\u001b[39m█\u001b[39m█\u001b[39m█\u001b[39m█\u001b[39m█\u001b[39m█\u001b[39m█\u001b[32m█\u001b[39m\u001b[39m█\u001b[39m█\u001b[39m█\u001b[39m█\u001b[39m█\u001b[39m█\u001b[39m█\u001b[39m█\u001b[39m▇\u001b[39m█\u001b[39m▆\u001b[39m█\u001b[39m▇\u001b[39m▇\u001b[39m█\u001b[39m█\u001b[39m█\u001b[39m█\u001b[39m█\u001b[39m█\u001b[39m█\u001b[39m█\u001b[39m▇\u001b[39m█\u001b[39m▇\u001b[39m▇\u001b[39m▆\u001b[39m▇\u001b[39m▇\u001b[39m▆\u001b[39m▅\u001b[39m▆\u001b[39m▆\u001b[39m▆\u001b[39m▆\u001b[39m▆\u001b[39m▅\u001b[39m▄\u001b[39m▆\u001b[39m▄\u001b[39m▅\u001b[39m▄\u001b[39m▄\u001b[39m▄\u001b[39m▅\u001b[39m \u001b[39m█\n",
       "  51 μs\u001b[90m         \u001b[39m\u001b[90mHistogram: \u001b[39m\u001b[90m\u001b[1mlog(\u001b[22m\u001b[39m\u001b[90mfrequency\u001b[39m\u001b[90m\u001b[1m)\u001b[22m\u001b[39m\u001b[90m by time\u001b[39m       103 μs \u001b[0m\u001b[1m<\u001b[22m\n",
       "\n",
       " Memory estimate\u001b[90m: \u001b[39m\u001b[33m140.22 KiB\u001b[39m, allocs estimate\u001b[90m: \u001b[39m\u001b[33m118\u001b[39m."
      ]
     },
     "execution_count": 19,
     "metadata": {},
     "output_type": "execute_result"
    }
   ],
   "source": [
    "    tmp_res = Vector{BenchmarkTools.Trial}()\n",
    "    tmp_res = @benchmark backward!(graph)"
   ]
  }
 ],
 "metadata": {
  "kernelspec": {
   "display_name": "Julia 1.7.2",
   "language": "julia",
   "name": "julia-1.7"
  },
  "language_info": {
   "file_extension": ".jl",
   "mimetype": "application/julia",
   "name": "julia",
   "version": "1.7.2"
  }
 },
 "nbformat": 4,
 "nbformat_minor": 5
}
