{
 "cells": [
  {
   "cell_type": "code",
   "execution_count": 1,
   "id": "bc9904d6",
   "metadata": {},
   "outputs": [],
   "source": [
    "using Flux"
   ]
  },
  {
   "cell_type": "markdown",
   "id": "ce277426",
   "metadata": {},
   "source": [
    "Wczytanie oraz przygotowanie danych"
   ]
  },
  {
   "cell_type": "code",
   "execution_count": 2,
   "id": "8fcdffc5",
   "metadata": {},
   "outputs": [],
   "source": [
    "using Flux.Data.MNIST\n",
    "using Images\n",
    "\n",
    "\n",
    "images = MNIST.images();\n",
    "labels = MNIST.labels();"
   ]
  },
  {
   "cell_type": "code",
   "execution_count": 3,
   "id": "7b24ebde",
   "metadata": {},
   "outputs": [
    {
     "data": {
      "text/plain": [
       "2000-element Vector{Flux.OneHotVector}:\n",
       " [0, 0, 0, 1, 0, 0, 0, 0, 0, 0]\n",
       " [0, 0, 0, 0, 0, 0, 0, 0, 1, 0]\n",
       " [0, 0, 0, 0, 0, 0, 0, 1, 0, 0]\n",
       " [0, 0, 0, 0, 0, 0, 0, 0, 0, 1]\n",
       " [0, 0, 0, 0, 0, 0, 0, 0, 0, 1]\n",
       " [1, 0, 0, 0, 0, 0, 0, 0, 0, 0]\n",
       " [0, 1, 0, 0, 0, 0, 0, 0, 0, 0]\n",
       " [0, 1, 0, 0, 0, 0, 0, 0, 0, 0]\n",
       " [0, 0, 0, 0, 0, 1, 0, 0, 0, 0]\n",
       " [0, 0, 1, 0, 0, 0, 0, 0, 0, 0]\n",
       " [1, 0, 0, 0, 0, 0, 0, 0, 0, 0]\n",
       " [0, 0, 0, 1, 0, 0, 0, 0, 0, 0]\n",
       " [0, 0, 0, 0, 0, 0, 0, 0, 1, 0]\n",
       " ⋮\n",
       " [0, 0, 0, 0, 1, 0, 0, 0, 0, 0]\n",
       " [0, 0, 0, 0, 0, 0, 0, 0, 1, 0]\n",
       " [0, 0, 0, 0, 0, 0, 0, 0, 0, 1]\n",
       " [0, 0, 0, 0, 0, 0, 0, 0, 0, 1]\n",
       " [0, 0, 0, 0, 0, 0, 0, 0, 0, 1]\n",
       " [1, 0, 0, 0, 0, 0, 0, 0, 0, 0]\n",
       " [0, 0, 0, 0, 0, 0, 0, 1, 0, 0]\n",
       " [0, 1, 0, 0, 0, 0, 0, 0, 0, 0]\n",
       " [0, 0, 0, 0, 0, 0, 1, 0, 0, 0]\n",
       " [0, 0, 1, 0, 0, 0, 0, 0, 0, 0]\n",
       " [0, 0, 0, 0, 0, 0, 0, 0, 1, 0]\n",
       " [0, 0, 0, 1, 0, 0, 0, 0, 0, 0]"
      ]
     },
     "execution_count": 3,
     "metadata": {},
     "output_type": "execute_result"
    }
   ],
   "source": [
    "preprocess(img) = vec(Float64.(img))#zmieniamy na float i na vektor bo tak będziemy pracować z siecia neuronową\n",
    "\n",
    "\n",
    "xs = preprocess.(images[1:4000])# używamy tej funkci 5 tys razy aby stworzyc set uczacy\n",
    "testowy_x = preprocess.(images[10001:12000])# set testowy\n",
    "\n",
    "ys = [Flux.onehot(labels, 0:9) for labels in labels[1:4000]] # zmieniamy 5 na wertor [ 0 0 0 0 0 1 0 0 0 0 ]\n",
    "testowy_y = [Flux.onehot(labels, 0:9) for labels in labels[10001:12000]]"
   ]
  },
  {
   "cell_type": "markdown",
   "id": "fab2a5c3",
   "metadata": {},
   "source": [
    "Wczytujemy baze danych MNIST z zdjeciami liczb \n",
    "Mamy 60 tys zdjec (imagies) i podpisów do nich(labels)\n",
    "images to jedno wymiarowa tablica dwuwyiarowych macierzy 28x28\n",
    "images[1] = to jedno zdjecie"
   ]
  },
  {
   "cell_type": "markdown",
   "id": "7f08c7f6",
   "metadata": {},
   "source": [
    "Tworzenie grafu"
   ]
  },
  {
   "cell_type": "code",
   "execution_count": 4,
   "id": "c5081ea4",
   "metadata": {},
   "outputs": [
    {
     "data": {
      "text/plain": [
       "backward (generic function with 12 methods)"
      ]
     },
     "execution_count": 4,
     "metadata": {},
     "output_type": "execute_result"
    }
   ],
   "source": [
    "#bebechy\n",
    "abstract type GraphNode end\n",
    "abstract type Operator <: GraphNode end\n",
    "\n",
    "struct Constant{T} <: GraphNode\n",
    "    output :: T\n",
    "end\n",
    "\n",
    "mutable struct Variable <: GraphNode\n",
    "    output :: Any\n",
    "    gradient :: Any\n",
    "    name :: String\n",
    "    Variable(output; name=\"?\") = new(output, nothing, name)\n",
    "end\n",
    "\n",
    "mutable struct ScalarOperator{F} <: Operator\n",
    "    inputs :: Any\n",
    "    output :: Any\n",
    "    gradient :: Any\n",
    "    name :: String\n",
    "    ScalarOperator(fun, inputs...; name=\"?\") = new{typeof(fun)}(inputs, nothing, nothing, name)\n",
    "end\n",
    "\n",
    "mutable struct BroadcastedOperator{F} <: Operator\n",
    "    inputs :: Any\n",
    "    output :: Any\n",
    "    gradient :: Any\n",
    "    name :: String\n",
    "    BroadcastedOperator(fun, inputs...; name=\"?\") = new{typeof(fun)}(inputs, nothing, nothing, name)\n",
    "end\n",
    "\n",
    "import Base: show, summary\n",
    "show(io::IO, x::ScalarOperator{F}) where {F} = print(io, \"op \", x.name, \"(\", F, \")\");\n",
    "show(io::IO, x::BroadcastedOperator{F}) where {F} = print(io, \"op.\", x.name, \"(\", F, \")\");\n",
    "show(io::IO, x::Constant) = print(io, \"const \", x.output)\n",
    "show(io::IO, x::Variable) = begin\n",
    "    print(io, \"var \", x.name);\n",
    "    print(io, \"\\n ┣━ ^ \"); summary(io, x.output)\n",
    "    print(io, \"\\n ┗━ ∇ \");  summary(io, x.gradient)\n",
    "end\n",
    "\n",
    "function visit(node::GraphNode, visited, order)\n",
    "    if node ∈ visited\n",
    "    else\n",
    "        push!(visited, node)\n",
    "        push!(order, node)\n",
    "    end\n",
    "    return nothing\n",
    "end\n",
    "    \n",
    "function visit(node::Operator, visited, order)\n",
    "    if node ∈ visited\n",
    "    else\n",
    "        push!(visited, node)\n",
    "        for input in node.inputs\n",
    "            visit(input, visited, order)\n",
    "        end\n",
    "        push!(order, node)\n",
    "    end\n",
    "    return nothing\n",
    "end\n",
    "\n",
    "function topological_sort(head::GraphNode)\n",
    "    visited = Set()\n",
    "    order = Vector()\n",
    "    visit(head, visited, order)\n",
    "    return order\n",
    "end\n",
    "\n",
    "reset!(node::Constant) = nothing\n",
    "reset!(node::Variable) = node.gradient = nothing\n",
    "reset!(node::Operator) = node.gradient = nothing\n",
    "\n",
    "compute!(node::Constant) = nothing\n",
    "compute!(node::Variable) = nothing\n",
    "compute!(node::Operator) =\n",
    "    node.output = forward(node, [input.output for input in node.inputs]...)\n",
    "\n",
    "function forward!(order::Vector)\n",
    "    for node in order\n",
    "        compute!(node)\n",
    "        reset!(node)\n",
    "    end\n",
    "    return last(order).output\n",
    "end\n",
    "\n",
    "update!(node::Constant, gradient) = nothing\n",
    "update!(node::GraphNode, gradient) = if isnothing(node.gradient)\n",
    "    node.gradient = gradient else node.gradient .+= gradient\n",
    "end\n",
    "\n",
    "function backward!(order::Vector; seed=1.0)\n",
    "    result = last(order)\n",
    "    result.gradient = seed\n",
    "    @assert length(result.output) == 1 \"Gradient is defined only for scalar functions\"\n",
    "    for node in reverse(order)\n",
    "        backward!(node)\n",
    "    end\n",
    "    return nothing\n",
    "end\n",
    "\n",
    "function backward!(node::Constant) end\n",
    "function backward!(node::Variable) end\n",
    "function backward!(node::Operator)\n",
    "    inputs = node.inputs\n",
    "    gradients = backward(node, [input.output for input in inputs]..., node.gradient)\n",
    "    for (input, gradient) in zip(inputs, gradients)\n",
    "        update!(input, gradient)\n",
    "    end\n",
    "    return nothing\n",
    "end\n",
    "\n",
    "\n",
    "import Base: ^\n",
    "^(x::GraphNode, n::GraphNode) = ScalarOperator(^, x, n)\n",
    "forward(::ScalarOperator{typeof(^)}, x, n) = return x^n\n",
    "backward(::ScalarOperator{typeof(^)}, x, n, g) = tuple(g * n * x ^ (n-1), g * log(abs(x)) * x ^ n)\n",
    "\n",
    "import Base: sin\n",
    "sin(x::GraphNode) = ScalarOperator(sin, x)\n",
    "forward(::ScalarOperator{typeof(sin)}, x) = return sin(x)\n",
    "backward(::ScalarOperator{typeof(sin)}, x, g) = tuple(g * cos(x))\n",
    "\n",
    "import Base: *\n",
    "import LinearAlgebra: mul!\n",
    "# x * y (aka matrix multiplication)\n",
    "*(A::GraphNode, x::GraphNode) = BroadcastedOperator(mul!, A, x)\n",
    "forward(::BroadcastedOperator{typeof(mul!)}, A, x) = return A * x\n",
    "backward(::BroadcastedOperator{typeof(mul!)}, A, x, g) = let\n",
    "    #print(\"mul \")\n",
    "    #print(g)\n",
    "    tuple(g * x', A' * g)\n",
    "end\n",
    "\n",
    "# x .* y (element-wise multiplication)\n",
    "Base.Broadcast.broadcasted(*, x::GraphNode, y::GraphNode) = BroadcastedOperator(*, x, y)\n",
    "forward(::BroadcastedOperator{typeof(*)}, x, y) = return x .* y\n",
    "backward(node::BroadcastedOperator{typeof(*)}, x, y, g) = let  #w*x\n",
    "    #print(\"* \")\n",
    "    𝟏 = ones(length(node.output))\n",
    "    Jx = diagm(y .* 𝟏)# to zostaje tylko y wiec to dajesz\n",
    "    Jy = diagm(x .* 𝟏)\n",
    "    \n",
    "    tuple(Jx' * g, Jy' * g)\n",
    "end\n",
    "\n",
    "Base.Broadcast.broadcasted(-, x::GraphNode, y::GraphNode) = BroadcastedOperator(-, x, y)\n",
    "forward(::BroadcastedOperator{typeof(-)}, x, y) = return x .- y\n",
    "backward(::BroadcastedOperator{typeof(-)}, x, y, g) = tuple(g,-g)\n",
    "\n",
    "Base.Broadcast.broadcasted(+, x::GraphNode, y::GraphNode) = BroadcastedOperator(+, x, y)\n",
    "forward(::BroadcastedOperator{typeof(+)}, x, y) = return x .+ y\n",
    "backward(::BroadcastedOperator{typeof(+)}, x, y, g) = tuple(g, g)\n",
    "\n",
    "import Base: sum\n",
    "sum(x::GraphNode) = BroadcastedOperator(sum, x)\n",
    "forward(::BroadcastedOperator{typeof(sum)}, x) = return sum(x)\n",
    "backward(::BroadcastedOperator{typeof(sum)}, x, g) = let\n",
    "    #print(\"sum \")\n",
    "    #print(g)\n",
    "    𝟏 = ones(length(x))\n",
    "    J = 𝟏'\n",
    "    tuple(J' * g)\n",
    "end\n",
    "\n",
    "Base.Broadcast.broadcasted(/, x::GraphNode, y::GraphNode) = BroadcastedOperator(/, x, y)\n",
    "forward(::BroadcastedOperator{typeof(/)}, x, y) = return x ./ y\n",
    "backward(node::BroadcastedOperator{typeof(/)}, x, y::Real, g) = let\n",
    "    𝟏 = ones(length(node.output))#robisz jedynki \n",
    "    Jx = diagm(𝟏 ./ y)\n",
    "    Jy = (-x ./ y .^2)\n",
    "    tuple(Jx' * g, Jy' * g)\n",
    "end\n",
    "\n",
    "\n",
    "import Base: max\n",
    "Base.Broadcast.broadcasted(max, x::GraphNode, y::GraphNode) = BroadcastedOperator(max, x, y)\n",
    "forward(::BroadcastedOperator{typeof(max)}, x, y) = return max.(x, y)\n",
    "backward(::BroadcastedOperator{typeof(max)}, x, y, g) = let\n",
    "    Jx = diagm(isless.(y, x))\n",
    "    #print(\"max \")\n",
    "    Jy = diagm(isless.(x, y))\n",
    "    tuple(Jx' * g, Jy' * g)\n",
    "end\n",
    "\n",
    "import Base: ^\n",
    "Base.Broadcast.broadcasted(^, x::GraphNode, y::GraphNode) = BroadcastedOperator(^, x, y)\n",
    "forward(::BroadcastedOperator{typeof(^)}, x, y) = return x.^y\n",
    "backward(node::BroadcastedOperator{typeof(^)}, x, y::Real, g) = let\n",
    "    #print(\"^ \")\n",
    "    #print(g)\n",
    "    𝟏 = ones(length(node.output))#robisz jedynki \n",
    "    Jx = diagm(y .* x .^ (y.-1))\n",
    "    Jy = diagm(x .^ y .* log.(broadcast(abs, x)))\n",
    "    tuple(Jx' * g, Jy' * g)\n",
    "end\n",
    "\n",
    "σ(x::GraphNode) = BroadcastedOperator(σ, x)\n",
    "forward(::BroadcastedOperator{typeof(σ)}, x) = return @. one(x) / (one(x) + exp(-x))\n",
    "backward(::BroadcastedOperator{typeof(σ)}, x, g) = let\n",
    "    a=exp.(-x)\n",
    "    Jx=diagm(@.a/(one(x)+a)^2)\n",
    "    tuple(Jx' * g)\n",
    "end\n",
    "\n",
    "mean_squared_loss_in_graf(x::GraphNode, y::GraphNode) = BroadcastedOperator(mean_squared_loss_in_graf, x, y)\n",
    "Base.Broadcast.broadcasted(mean_squared_loss_in_graf, x::GraphNode, y::GraphNode) = BroadcastedOperator(max, x, y)\n",
    "forward(::BroadcastedOperator{typeof(mean_squared_loss_in_graf)}, x, y) = return (1/length(x)) .* sum((x .- y) .^ 2.0)\n",
    "backward(::BroadcastedOperator{typeof(mean_squared_loss_in_graf)}, x, y, g) = let\n",
    "    𝟏 = ones(length(y))#sum\n",
    "    Jy = ((1/length(y)).*𝟏')'#sum*0.1\n",
    "    #print(Jy)\n",
    "    Jy=diagm(2 .* (x .- y))*Jy#^2\n",
    "    #print(Jy)\n",
    "    Jy=-Jy#x-y\n",
    "    #print(Jy)\n",
    "    Jx=Jy#test\n",
    "    tuple(Jx * g, Jy * g)\n",
    "end"
   ]
  },
  {
   "cell_type": "code",
   "execution_count": 5,
   "id": "60b0efd4",
   "metadata": {},
   "outputs": [
    {
     "name": "stdout",
     "output_type": "stream",
     "text": [
      "1. var y\n",
      " ┣━ ^ 10-element Vector{Float64}\n",
      " ┗━ ∇ Nothing\n",
      "2. var wo\n",
      " ┣━ ^ 10×20 Matrix{Float64}\n",
      " ┗━ ∇ Nothing\n",
      "3. var wh\n",
      " ┣━ ^ 20×784 Matrix{Float64}\n",
      " ┗━ ∇ Nothing\n",
      "4. var x\n",
      " ┣━ ^ 784-element Vector{Float64}\n",
      " ┗━ ∇ Nothing\n",
      "5. op.?(typeof(mul!))\n",
      "6. op.x̂(typeof(σ))\n",
      "7. op.ŷ(typeof(mul!))\n",
      "8. op.loss(typeof(mean_squared_loss_in_graf))\n"
     ]
    }
   ],
   "source": [
    "# siec neuronowa\n",
    "using LinearAlgebra\n",
    "Wh  = Variable(randn(20,784), name=\"wh\")#tworzymy losowe wagi \n",
    "Wo  = Variable(randn(10,20), name=\"wo\")\n",
    "x = Variable(xs[1], name=\"x\")#wczytujemy pierwsze dane\n",
    "y = Variable(Vector{Float64}(ys[1]), name=\"y\")\n",
    "\n",
    "#rózne funkcje aktywacji\n",
    "#σ(x) = one(x) / (one(x) + exp(-x))#aktualnie używana ale zamieniona na czesc grafu\n",
    "linear(x)=x\n",
    "ReLU(x)= max.(Constant(0.0),x) \n",
    "\n",
    "epos=100\n",
    "\n",
    "#różne funkcje strat\n",
    "# function mean_squared_loss(y, ŷ)#aktualnie używana ale zamieniona na czesc grafu\n",
    "#     return Constant(0.1) .* sum((y .- ŷ) .^ Constant(2.0))\n",
    "# end   a *sum(b-x)^2\n",
    "\n",
    "function cross_entropy(y, ŷ)\n",
    "    return sum(Constant(-1.0).*y.*log.(ŷ))\n",
    "end\n",
    "\n",
    "#definicja grafu\n",
    "function dense(w, x, activation) return activation(w * x) end\n",
    "function dense(w, x) return w * x end\n",
    "\n",
    "function net(x, wh, wo, y)\n",
    "    x̂ = dense(wh, x, σ)\n",
    "    x̂.name = \"x̂\"\n",
    "    ŷ = dense(wo, x̂)\n",
    "    ŷ.name = \"ŷ\"\n",
    "    E = mean_squared_loss_in_graf(y, ŷ)\n",
    "    E.name = \"loss\"\n",
    "    return topological_sort(E)\n",
    "end\n",
    "\n",
    "graph = net(x, Wh, Wo, y)\n",
    "\n",
    "for (i,n) in enumerate(graph)\n",
    "    print(i, \". \"); println(n)\n",
    "end"
   ]
  },
  {
   "cell_type": "code",
   "execution_count": 6,
   "id": "ae7ee228",
   "metadata": {},
   "outputs": [
    {
     "data": {
      "text/plain": [
       "9.425960847462731"
      ]
     },
     "execution_count": 6,
     "metadata": {},
     "output_type": "execute_result"
    }
   ],
   "source": [
    "forward!(graph)\n"
   ]
  },
  {
   "cell_type": "code",
   "execution_count": 7,
   "id": "59b2b1f6",
   "metadata": {},
   "outputs": [],
   "source": [
    "backward!(graph)"
   ]
  },
  {
   "cell_type": "code",
   "execution_count": 8,
   "id": "e613abac",
   "metadata": {
    "scrolled": true
   },
   "outputs": [],
   "source": [
    "# for (i,n) in enumerate(graph)\n",
    "#     try\n",
    "#         print(i, \". \"); println(n.gradient)\n",
    "#     catch\n",
    "#         println(\"Constans\")\n",
    "#     end\n",
    "\n",
    "# end"
   ]
  },
  {
   "cell_type": "code",
   "execution_count": 9,
   "id": "4b4e3bd4",
   "metadata": {},
   "outputs": [
    {
     "data": {
      "text/plain": [
       "loss_test (generic function with 1 method)"
      ]
     },
     "execution_count": 9,
     "metadata": {},
     "output_type": "execute_result"
    }
   ],
   "source": [
    "import ProgressMeter: @showprogress\n",
    "using Flux: onecold\n",
    "#funcje gradientowe\n",
    "function steepest_descent(step)\n",
    "    Wh.output -= step*Wh.gradient\n",
    "    Wo.output -= step*Wo.gradient\n",
    "end\n",
    "\n",
    "\n",
    "function steepest_descent_momentum(step,changeWo,changeWh,momentum = 0.6)\n",
    "    new_changeWh = step * Wh.gradient + momentum * changeWh\n",
    "    new_changeWo = step * Wo.gradient + momentum * changeWo\n",
    "    \n",
    "    Wh.output -= new_changeWh\n",
    "    Wo.output -= new_changeWo\n",
    "    \n",
    "    changeWh=new_changeWh\n",
    "    changeWo=new_changeWo\n",
    "    return changeWh,changeWo\n",
    "end\n",
    "\n",
    "#funkcja zmieniajaca kolejnosc setów\n",
    "using Random\n",
    "    function double_shuffle(set1,set2)\n",
    "    @assert length(set1) == length(set2) \"wielkości zbiorów do tasowania muszą być równę\"\n",
    "    temp_set1=copy(set1)\n",
    "    temp_set2=copy(set2)\n",
    "    new_order=shuffle(1:length(set1))\n",
    "    i=0\n",
    "    for order in new_order\n",
    "        i+=1\n",
    "        temp_set1[i]=set1[order]\n",
    "        temp_set2[i]=set2[order]\n",
    "    end\n",
    "    return temp_set1,temp_set2\n",
    "end\n",
    "\n",
    "\n",
    "#funcje pokazujące postęp\n",
    "function test(set_x,set_y)\n",
    "    good_maches=0\n",
    "        for i=1:length(set_x)\n",
    "            x.output=set_x[i]\n",
    "            forward!(graph)\n",
    "            if onecold(Vector{Float64}(set_y[i])) == onecold(graph[7].output)\n",
    "                good_maches+=1\n",
    "            end\n",
    "        end\n",
    "    return 100.0*good_maches/float(length(set_y))\n",
    "end\n",
    "\n",
    "function loss_test(set_x,set_y)\n",
    "    loss=0.0\n",
    "        for i=1:length(set_x)\n",
    "            x.output=set_x[i]\n",
    "            y.output=Vector{Float64}(set_y[i])\n",
    "            loss+=forward!(graph)\n",
    "        end\n",
    "    return loss/float(length(set_y))\n",
    "end\n",
    "\n"
   ]
  },
  {
   "cell_type": "code",
   "execution_count": 10,
   "id": "c6c71183",
   "metadata": {},
   "outputs": [
    {
     "name": "stdout",
     "output_type": "stream",
     "text": [
      "Acc zbioru uczącego:6.325\n",
      "Acc zbuoru testowo:5.95\n",
      "Straty zbioru uczącego:10.620312566256558\n",
      "Straty zbioru uczącego:10.393272578227077\n"
     ]
    }
   ],
   "source": [
    "println(\"Acc zbioru uczącego:\",test(xs,ys))\n",
    "println(\"Acc zbuoru testowo:\",test(testowy_x,testowy_y))\n",
    "println(\"Straty zbioru uczącego:\",loss_test(xs,ys))\n",
    "println(\"Straty zbioru uczącego:\",loss_test(testowy_x,testowy_y))"
   ]
  },
  {
   "cell_type": "code",
   "execution_count": 11,
   "id": "fb536750",
   "metadata": {
    "scrolled": true
   },
   "outputs": [
    {
     "name": "stderr",
     "output_type": "stream",
     "text": [
      "┌ Info: Precompiling PyPlot [d330b81b-6aea-500a-939a-2ce795aea3ee]\n",
      "└ @ Base loading.jl:1423\n",
      "\u001b[32mProgress: 100%|█████████████████████████████████████████| Time: 0:01:55\u001b[39m\n"
     ]
    },
    {
     "data": {
      "image/png": "[encoded data removed]",
      "text/plain": [
       "Figure(PyObject <Figure size 640x480 with 1 Axes>)"
      ]
     },
     "metadata": {},
     "output_type": "display_data"
    },
    {
     "data": {
      "text/plain": [
       "2-element Vector{PyCall.PyObject}:\n",
       " PyObject <matplotlib.lines.Line2D object at 0x0000000001E86190>\n",
       " PyObject <matplotlib.lines.Line2D object at 0x0000000001E86130>"
      ]
     },
     "execution_count": 11,
     "metadata": {},
     "output_type": "execute_result"
    }
   ],
   "source": [
    "#mini batch\n",
    "changeWh = zero(randn(20,784))\n",
    "changeWo = zero(randn(10,20))\n",
    "using PyPlot\n",
    "\n",
    "j=0\n",
    "batch_size=5\n",
    "grad_wo=zeros(10,20)\n",
    "grad_wh=zeros(20,784)\n",
    "\n",
    "yyy = zeros(epos, 2)\n",
    "@showprogress for i=1:epos\n",
    "xs,ys=double_shuffle(xs,ys)\n",
    "    for i=1:length(xs)\n",
    "        x.output=xs[i]\n",
    "        y.output=Vector{Float64}(ys[i])\n",
    "        forward!(graph)\n",
    "        backward!(graph)\n",
    "        \n",
    "        grad_wo+=Wo.gradient\n",
    "        grad_wh+=Wh.gradient\n",
    "        j+=1\n",
    "        if j ==batch_size\n",
    "            Wo.gradient = grad_wo/batch_size\n",
    "            Wh.gradient = grad_wh/batch_size\n",
    "            changeWh,changeWo = steepest_descent_momentum(0.2,changeWo,changeWh)\n",
    "            j=0\n",
    "            grad_wo=zeros(10,20)\n",
    "            grad_wh=zeros(20,784)\n",
    "        end\n",
    "    end\n",
    "yyy[i,1]=loss_test(xs,ys)\n",
    "yyy[i,2]=loss_test(testowy_x,testowy_y)\n",
    "end\n",
    "xxx = 1:epos\n",
    "plot(xxx, yyy)\n"
   ]
  },
  {
   "cell_type": "code",
   "execution_count": 12,
   "id": "edf04eb0",
   "metadata": {},
   "outputs": [
    {
     "name": "stdout",
     "output_type": "stream",
     "text": [
      "Acc zbioru uczącego:76.15\n",
      "Acc zbuoru testowo:70.05\n",
      "Straty zbioru uczącego:0.03343774871164767\n",
      "Straty zbioru uczącego:0.04319318845783661\n"
     ]
    }
   ],
   "source": [
    "println(\"Acc zbioru uczącego:\",test(xs,ys))\n",
    "println(\"Acc zbuoru testowo:\",test(testowy_x,testowy_y))\n",
    "println(\"Straty zbioru uczącego:\",loss_test(xs,ys))\n",
    "println(\"Straty zbioru uczącego:\",loss_test(testowy_x,testowy_y))"
   ]
  },
  {
   "cell_type": "code",
   "execution_count": 13,
   "id": "c74b8d6c",
   "metadata": {},
   "outputs": [
    {
     "data": {
      "text/plain": [
       "10"
      ]
     },
     "execution_count": 13,
     "metadata": {},
     "output_type": "execute_result"
    }
   ],
   "source": [
    "\n",
    "epos=10"
   ]
  },
  {
   "cell_type": "code",
   "execution_count": 14,
   "id": "1b80a949",
   "metadata": {},
   "outputs": [
    {
     "name": "stdout",
     "output_type": "stream",
     "text": [
      "99\n",
      "39\n",
      "1010\n",
      "22\n",
      "88\n",
      "11\n",
      "77\n",
      "64\n",
      "99\n",
      "1010\n",
      "55\n",
      "55\n",
      "1010\n",
      "22\n",
      "77\n",
      "44\n",
      "64\n",
      "88\n",
      "1010\n",
      "99\n",
      "88\n",
      "55\n",
      "55\n",
      "22\n",
      "64\n",
      "88\n",
      "11\n",
      "44\n",
      "55\n",
      "77\n",
      "39\n",
      "77\n",
      "64\n",
      "34\n",
      "88\n",
      "55\n",
      "39\n",
      "55\n",
      "44\n",
      "22\n",
      "49\n",
      "39\n",
      "55\n",
      "88\n",
      "99\n",
      "35\n",
      "11\n",
      "39\n",
      "44\n",
      "44\n"
     ]
    }
   ],
   "source": [
    "for i=1:50\n",
    "        x.output=xs[i]\n",
    "        y.output=Vector{Float64}(ys[i])\n",
    "        forward!(graph)\n",
    "        backward!(graph)\n",
    "        print(onecold(Vector{Float64}(ys[i]))) \n",
    "        print(onecold(graph[7].output))\n",
    "        println()\n",
    "end"
   ]
  },
  {
   "cell_type": "code",
   "execution_count": 15,
   "id": "3928a71e",
   "metadata": {},
   "outputs": [],
   "source": [
    "using BenchmarkTools"
   ]
  },
  {
   "cell_type": "code",
   "execution_count": 16,
   "id": "104b0ab9",
   "metadata": {},
   "outputs": [
    {
     "name": "stdout",
     "output_type": "stream",
     "text": [
      "  37.400 μs (25 allocations: 1.45 KiB)\n"
     ]
    },
    {
     "data": {
      "text/plain": [
       "0.03916662766336254"
      ]
     },
     "execution_count": 16,
     "metadata": {},
     "output_type": "execute_result"
    }
   ],
   "source": [
    "@btime forward!(graph)\n"
   ]
  },
  {
   "cell_type": "code",
   "execution_count": 17,
   "id": "3148fcb9",
   "metadata": {},
   "outputs": [
    {
     "name": "stdout",
     "output_type": "stream",
     "text": [
      "  50.800 μs (118 allocations: 140.22 KiB)\n"
     ]
    }
   ],
   "source": [
    "@btime  backward!(graph)"
   ]
  },
  {
   "cell_type": "code",
   "execution_count": 19,
   "id": "69968b35",
   "metadata": {},
   "outputs": [
    {
     "data": {
      "text/plain": [
       "BenchmarkTools.Trial: 10000 samples with 1 evaluation.\n",
       " Range \u001b[90m(\u001b[39m\u001b[36m\u001b[1mmin\u001b[22m\u001b[39m … \u001b[35mmax\u001b[39m\u001b[90m):  \u001b[39m\u001b[36m\u001b[1m51.000 μs\u001b[22m\u001b[39m … \u001b[35m  7.047 ms\u001b[39m  \u001b[90m┊\u001b[39m GC \u001b[90m(\u001b[39mmin … max\u001b[90m): \u001b[39m0.00% … 98.10%\n",
       " Time  \u001b[90m(\u001b[39m\u001b[34m\u001b[1mmedian\u001b[22m\u001b[39m\u001b[90m):     \u001b[39m\u001b[34m\u001b[1m55.300 μs               \u001b[22m\u001b[39m\u001b[90m┊\u001b[39m GC \u001b[90m(\u001b[39mmedian\u001b[90m):    \u001b[39m0.00%\n",
       " Time  \u001b[90m(\u001b[39m\u001b[32m\u001b[1mmean\u001b[22m\u001b[39m ± \u001b[32mσ\u001b[39m\u001b[90m):   \u001b[39m\u001b[32m\u001b[1m63.570 μs\u001b[22m\u001b[39m ± \u001b[32m116.655 μs\u001b[39m  \u001b[90m┊\u001b[39m GC \u001b[90m(\u001b[39mmean ± σ\u001b[90m):  \u001b[39m6.58% ±  3.80%\n",
       "\n",
       "  \u001b[39m \u001b[39m▄\u001b[39m▆\u001b[39m▇\u001b[39m█\u001b[34m▇\u001b[39m\u001b[39m▅\u001b[39m▅\u001b[39m▄\u001b[39m▃\u001b[39m▃\u001b[39m▃\u001b[39m▂\u001b[39m▂\u001b[32m▁\u001b[39m\u001b[39m▁\u001b[39m▁\u001b[39m▁\u001b[39m \u001b[39m \u001b[39m▁\u001b[39m \u001b[39m \u001b[39m \u001b[39m \u001b[39m \u001b[39m \u001b[39m \u001b[39m \u001b[39m▁\u001b[39m▂\u001b[39m▂\u001b[39m▃\u001b[39m▂\u001b[39m▁\u001b[39m \u001b[39m \u001b[39m \u001b[39m \u001b[39m \u001b[39m \u001b[39m \u001b[39m \u001b[39m \u001b[39m \u001b[39m \u001b[39m \u001b[39m \u001b[39m \u001b[39m \u001b[39m \u001b[39m \u001b[39m \u001b[39m \u001b[39m \u001b[39m \u001b[39m \u001b[39m \u001b[39m \u001b[39m \u001b[39m \u001b[39m▂\n",
       "  \u001b[39m▇\u001b[39m█\u001b[39m█\u001b[39m█\u001b[39m█\u001b[34m█\u001b[39m\u001b[39m█\u001b[39m█\u001b[39m█\u001b[39m█\u001b[39m█\u001b[39m█\u001b[39m█\u001b[39m█\u001b[32m█\u001b[39m\u001b[39m█\u001b[39m█\u001b[39m█\u001b[39m█\u001b[39m█\u001b[39m█\u001b[39m█\u001b[39m█\u001b[39m▇\u001b[39m█\u001b[39m▆\u001b[39m█\u001b[39m▇\u001b[39m▇\u001b[39m█\u001b[39m█\u001b[39m█\u001b[39m█\u001b[39m█\u001b[39m█\u001b[39m█\u001b[39m█\u001b[39m▇\u001b[39m█\u001b[39m▇\u001b[39m▇\u001b[39m▆\u001b[39m▇\u001b[39m▇\u001b[39m▆\u001b[39m▅\u001b[39m▆\u001b[39m▆\u001b[39m▆\u001b[39m▆\u001b[39m▆\u001b[39m▅\u001b[39m▄\u001b[39m▆\u001b[39m▄\u001b[39m▅\u001b[39m▄\u001b[39m▄\u001b[39m▄\u001b[39m▅\u001b[39m \u001b[39m█\n",
       "  51 μs\u001b[90m         \u001b[39m\u001b[90mHistogram: \u001b[39m\u001b[90m\u001b[1mlog(\u001b[22m\u001b[39m\u001b[90mfrequency\u001b[39m\u001b[90m\u001b[1m)\u001b[22m\u001b[39m\u001b[90m by time\u001b[39m       103 μs \u001b[0m\u001b[1m<\u001b[22m\n",
       "\n",
       " Memory estimate\u001b[90m: \u001b[39m\u001b[33m140.22 KiB\u001b[39m, allocs estimate\u001b[90m: \u001b[39m\u001b[33m118\u001b[39m."
      ]
     },
     "execution_count": 19,
     "metadata": {},
     "output_type": "execute_result"
    }
   ],
   "source": [
    "    tmp_res = Vector{BenchmarkTools.Trial}()\n",
    "    tmp_res = @benchmark backward!(graph)"
   ]
  },
  {
   "cell_type": "code",
   "execution_count": 20,
   "id": "9588e9cc",
   "metadata": {},
   "outputs": [],
   "source": [
    "using ForwardDiff"
   ]
  },
  {
   "cell_type": "code",
   "execution_count": 24,
   "id": "74de86b4",
   "metadata": {},
   "outputs": [
    {
     "data": {
      "text/plain": [
       "σ (generic function with 2 methods)"
      ]
     },
     "execution_count": 24,
     "metadata": {},
     "output_type": "execute_result"
    }
   ],
   "source": [
    "σ(x::Vector{Float64})=return @. one(x) / (one(x) + exp(-x))"
   ]
  },
  {
   "cell_type": "code",
   "execution_count": 44,
   "id": "b6a2be5c",
   "metadata": {},
   "outputs": [
    {
     "data": {
      "text/plain": [
       "siec (generic function with 2 methods)"
      ]
     },
     "execution_count": 44,
     "metadata": {},
     "output_type": "execute_result"
    }
   ],
   "source": [
    "function siec(Wh::Matrix,Wo::Matrix,x::Vector,y::Vector)\n",
    "    x̂ = dense(Wh, x, σ)\n",
    "    ŷ = dense(Wo, x̂)\n",
    "    return (1/length(y)) .* sum((y .- ŷ) .^2.0)\n",
    "end"
   ]
  },
  {
   "cell_type": "code",
   "execution_count": 45,
   "id": "7139875a",
   "metadata": {},
   "outputs": [
    {
     "data": {
      "text/plain": [
       "11.700345831542265"
      ]
     },
     "execution_count": 45,
     "metadata": {},
     "output_type": "execute_result"
    }
   ],
   "source": [
    "    Wh  = randn(20,784)\n",
    "    Wo  = randn(10,20)\n",
    "    x = xs[1]\n",
    "    y = Vector{Float64}(ys[1])\n",
    "siec(Wh,Wo,x,y)"
   ]
  },
  {
   "cell_type": "code",
   "execution_count": 46,
   "id": "064efd1b",
   "metadata": {},
   "outputs": [
    {
     "ename": "LoadError",
     "evalue": "MethodError: no method matching gradient(::typeof(siec), ::Matrix{Float64}, ::Matrix{Float64}, ::Vector{Float64}, ::Vector{Float64})\n\u001b[0mClosest candidates are:\n\u001b[0m  gradient(::Any, ::AbstractArray) at C:\\Users\\Barteu pieseł\\.julia\\packages\\ForwardDiff\\wAaVJ\\src\\gradient.jl:16\n\u001b[0m  gradient(::Any, ::AbstractArray, \u001b[91m::ForwardDiff.GradientConfig{T}\u001b[39m) where T at C:\\Users\\Barteu pieseł\\.julia\\packages\\ForwardDiff\\wAaVJ\\src\\gradient.jl:16\n\u001b[0m  gradient(::Any, ::AbstractArray, \u001b[91m::ForwardDiff.GradientConfig{T}\u001b[39m, \u001b[91m::Val{CHK}\u001b[39m) where {T, CHK} at C:\\Users\\Barteu pieseł\\.julia\\packages\\ForwardDiff\\wAaVJ\\src\\gradient.jl:16\n\u001b[0m  ...",
     "output_type": "error",
     "traceback": [
      "MethodError: no method matching gradient(::typeof(siec), ::Matrix{Float64}, ::Matrix{Float64}, ::Vector{Float64}, ::Vector{Float64})\n\u001b[0mClosest candidates are:\n\u001b[0m  gradient(::Any, ::AbstractArray) at C:\\Users\\Barteu pieseł\\.julia\\packages\\ForwardDiff\\wAaVJ\\src\\gradient.jl:16\n\u001b[0m  gradient(::Any, ::AbstractArray, \u001b[91m::ForwardDiff.GradientConfig{T}\u001b[39m) where T at C:\\Users\\Barteu pieseł\\.julia\\packages\\ForwardDiff\\wAaVJ\\src\\gradient.jl:16\n\u001b[0m  gradient(::Any, ::AbstractArray, \u001b[91m::ForwardDiff.GradientConfig{T}\u001b[39m, \u001b[91m::Val{CHK}\u001b[39m) where {T, CHK} at C:\\Users\\Barteu pieseł\\.julia\\packages\\ForwardDiff\\wAaVJ\\src\\gradient.jl:16\n\u001b[0m  ...",
      "",
      "Stacktrace:",
      " [1] top-level scope",
      "   @ In[46]:1",
      " [2] eval",
      "   @ .\\boot.jl:373 [inlined]",
      " [3] include_string(mapexpr::typeof(REPL.softscope), mod::Module, code::String, filename::String)",
      "   @ Base .\\loading.jl:1196"
     ]
    }
   ],
   "source": [
    "ForwardDiff.gradient(siec, [Wh,Wo,x,y])"
   ]
  },
  {
   "cell_type": "code",
   "execution_count": 18,
   "id": "eb5efba5",
   "metadata": {},
   "outputs": [
    {
     "name": "stdout",
     "output_type": "stream",
     "text": [
      "1. [-335.2467308035413; -206.38622736357718; 181.85666716692174; -8686.751341218853; -608.0824577444204; 6105.089822658039; 1215.0279061984006; 15.682718589728873; 906.1258959167495; 1417.366798673552;;]\n",
      "2. [-1.4522720755060008e7 -1.6318888200554052e-6 -50.59894887699947 -6.082137894719247e-5 -4.274507046891802e-8 -1.452272075505998e7 -3.6297856450465136 -1.4291623863469134e-5 -7.396311945816371e-5 -0.0005041877841530239 -0.0002071325463665939 -1.4522720715805868e7 -0.0035201637793202895 -6.838614776893372e-5 -1.4522720755059827e7 -1.4522720755051153e7 -3.1280752652237976e-7 -1.4522720755060066e7 -1.4522720755059514e7 -1.4522720755057862e7; -8.940548176287284e6 -1.0046313538712448e-6 -31.149971670886263 -3.744315392390489e-5 -2.631492874315596e-8 -8.940548176287265e6 -2.2345863407052944 -8.798279180862401e-6 -4.55335363074998e-5 -0.000310390542525929 -0.00012751594834751342 -8.940548152121466e6 -0.0021671003931180758 -4.210021379814971e-5 -8.940548176287174e6 -8.94054817628183e6 -1.925720949915107e-7 -8.940548176287318e6 -8.940548176286982e6 -8.940548176285965e6; 7.877939893342876e6 8.85228205777863e-7 27.447713458268147 3.2992934014052914e-5 2.318732843317347e-8 7.877939893342859e6 1.9689997225507534 7.752579952034555e-6 4.012175261391963e-5 0.00027349978874525576 0.00011236033369728865 7.877939872049222e6 0.0019095346619913253 3.709648975197812e-5 7.877939893342775e6 7.877939893338067e6 1.6968438171407798e-7 7.877939893342903e6 7.877939893342609e6 7.877939893341717e6; -3.763057247259316e8 -4.228471479003914e-5 -1311.095520506754 -0.0015759741903444188 -1.1075896171633545e-6 -3.763057247259307e8 -94.05325219677593 -0.0003703176537068205 -0.001916496622094557 -0.013064270305380613 -0.005367118482096481 -3.763057237087972e8 -0.09121278336702568 -0.0017719888257465087 -3.763057247259268e8 -3.76305724725702e8 -8.105317519564448e-6 -3.7630572472593284e8 -3.763057247259187e8 -3.7630572472587574e8; -2.6341828028282803e7 -2.95997804985676e-6 -91.7781751925096 -0.00011031998285250666 -7.753253087626518e-8 -2.634182802828274e7 -6.5838344518213345 -2.5922656257453535e-5 -0.00013415693974033453 -0.0009145137559360201 -0.0003757043881428392 -2.6341827957082238e7 -0.006384998408368972 -0.00012404122990647832 -2.634182802828247e7 -2.6341828028266717e7 -5.673814300074649e-7 -2.6341828028282892e7 -2.6341828028281916e7 -2.634182802827891e7; 2.644694385727656e8 2.971789703405631e-5 921.4441169509922 0.0011076020956872655 7.784192080350534e-7 2.6446943857276502e8 66.1010693433917 0.0002602609940116006 0.0013469228671477108 0.009181630801772308 0.00377203618878603 2.6446943785791877e8 0.06410477444983248 0.001245362106153731 2.6446943857276237e8 2.644694385726044e8 5.696455389867987e-6 2.644694385727666e8 2.6446943857275662e8 2.644694385727266e8; 5.263440138256602e7 5.914421451406848e-6 183.3847410307054 0.0002204336863691527 1.5492008929547113e-7 5.2634401382565916e7 13.155358269041196 5.1796841619804694e-5 0.0002680630291477087 0.0018273175289176171 0.000750706273895247 5.263440124029811e7 0.012758057971235116 0.00024785052411225406 5.263440138256536e7 5.2634401382534e7 1.133701954623763e-6 5.263440138256621e7 5.2634401382564254e7 5.263440138255832e7; 679367.5279474591 7.633915794875142e-8 2.3670001919805506 2.8452017055628517e-6 1.99959865277248e-9 679367.5279474575 0.1698000355611905 6.685569004758996e-7 3.4599674863312334e-6 2.3585718841423217e-5 9.689584228458429e-6 679367.5261111641 0.00016467196505818432 3.1990788048061003e-6 679367.5279474504 679367.5279470445 1.4633020878186696e-8 679367.5279474615 679367.5279474359 679367.5279473584; 3.9252920748181e7 4.410771480348052e-6 136.76201337949038 0.00016439183868335451 1.1553405810045932e-7 3.9252920748180896e7 9.810812358163192 3.862829757159011e-5 0.00019991215939120735 0.00136275037352516 0.0005598508409014202 3.925292064208244e7 0.009514519502286314 0.00018483837043496582 3.92529207481805e7 3.925292074815704e7 8.454758068483398e-7 3.925292074818112e7 3.925292074817966e7 3.925292074817519e7; 6.139962103515037e7 6.899351492934942e-6 213.92384651768904 0.0002571425617263726 1.8071896941197609e-7 6.139962103515024e7 15.34612327838317 6.042258224156638e-5 0.0003127036305319401 0.002131621161052886 0.0008757215721113017 6.139962086919049e7 0.014882660465438064 0.00028912513212122124 6.1399621035149604e7 6.139962103511288e7 1.3224976166208382e-6 6.139962103515059e7 6.139962103514833e7 6.1399621035141304e7]\n"
     ]
    },
    {
     "name": "stdout",
     "output_type": "stream",
     "text": [
      "3. [0.0 0.0 0.0 0.0 0.0 0.0 0.0 0.0 0.0 0.0 0.0 0.0 0.0 0.0 0.0 0.0 0.0 0.0 0.0 0.0 0.0 0.0 0.0 0.0 0.0 0.0 0.0 0.0 0.0 0.0 0.0 0.0 0.0 0.0 0.0 0.0 0.0 0.0 0.0 0.0 0.0 0.0 0.0 0.0 0.0 0.0 0.0 0.0 0.0 0.0 0.0 0.0 0.0 0.0 0.0 0.0 0.0 0.0 0.0 0.0 0.0 0.0 0.0 0.0 0.0 0.0 0.0 0.0 0.0 0.0 0.0 0.0 0.0 0.0 0.0 0.0 0.0 0.0 0.0 0.0 0.0 0.0 0.0 0.0 0.0 0.0 0.0 0.0 0.0 0.0 0.0 0.0 0.0 0.0 0.0 0.0 0.0 0.0 0.0 0.0 0.0 0.0 0.0 0.0 0.0 0.0 0.0 0.0 0.0 0.0 0.0 0.0 0.0 0.0 0.0 0.0 0.0 -1.035528756335002 -13.461873832354993 0.0 0.0 0.0 0.0 0.0 0.0 0.0 0.0 0.0 0.0 0.0 0.0 0.0 0.0 0.0 0.0 0.0 0.0 0.0 0.0 0.0 0.0 0.0 0.0 0.0 0.0 -20.71057512669995 -24.95624302767335 0.0 0.0 0.0 0.0 0.0 0.0 0.0 0.0 0.0 0.0 0.0 0.0 0.0 0.0 0.0 0.0 0.0 0.0 0.0 0.0 0.0 0.0 0.0 0.0 0.0 0.0 -26.405983286542412 -24.95624302767335 0.0 0.0 0.0 0.0 0.0 0.0 0.0 0.0 0.0 0.0 0.0 0.0 -1.035528756335002 -2.588821890837494 -2.588821890837494 -0.20710575126699862 0.0 0.0 0.0 0.0 0.0 0.0 0.0 0.0 0.0 0.0 -26.405983286542412 -24.95624302767335 0.0 0.0 0.0 0.0 0.0 0.0 0.0 0.0 0.0 0.0 0.0 -7.145148418711512 -19.778599245998336 -26.198877535275397 -26.198877535275397 -11.183710568417935 -0.20710575126699862 0.0 0.0 0.0 0.0 0.0 0.0 0.0 0.0 0.0 -26.405983286542412 -24.95624302767335 0.0 0.0 0.0 0.0 0.0 0.0 0.0 0.0 0.0 0.0 0.0 -18.63951761402992 -22.36742113683587 -22.36742113683587 -25.888218908374835 -26.198877535275397 -9.42331168264842 0.0 0.0 0.0 0.0 0.0 0.0 0.0 0.0 0.0 -26.302430410908613 -24.95624302767335 0.0 0.0 0.0 0.0 0.0 -0.9319758807014976 -13.565426707988468 -6.834489791811002 0.0 0.0 0.0 0.0 0.0 0.0 -15.222272718124362 -26.198877535275397 -22.056762509935375 -0.41421150253399724 0.0 0.0 0.0 0.0 0.0 0.0 0.0 0.0 -26.405983286542412 -24.95624302767335 0.0 0.0 0.0 0.0 0.0 -5.177643781674988 -26.198877535275397 -19.778599245998336 0.0 0.0 0.0 0.0 0.0 0.0 -3.5207977715389958 -24.95624302767335 -26.198877535275397 -3.106586269004994 0.0 0.0 0.0 0.0 0.0 0.0 0.0 0.0 -26.302430410908613 -25.888218908374835 -8.18067717504642 0.0 0.0 0.0 0.0 -8.077124299412922 -26.198877535275397 -19.778599245998336 0.0 0.0 0.0 0.0 0.0 0.0 0.0 -24.438478649505726 -26.198877535275397 -13.35832095672136 0.0 0.0 0.0 0.0 0.0 0.0 0.0 0.0 -26.302430410908613 -25.577560281474558 -5.902513911109403 0.0 0.0 0.0 0.0 -18.018200360228807 -26.198877535275397 -19.778599245998336 0.0 0.0 0.0 0.0 0.0 0.0 0.0 -24.438478649505726 -26.198877535275397 -13.35832095672136 0.0 0.0 0.0 0.0 0.0 0.0 0.0 0.0 -26.302430410908613 -25.577560281474558 -5.902513911109403 0.0 0.0 0.0 -6.938042667444458 -24.231372898239048 -26.198877535275397 -19.778599245998336 0.0 0.0 0.0 0.0 0.0 0.0 0.0 -24.438478649505726 -26.198877535275397 -23.09229126627024 0.0 0.0 0.0 0.0 0.0 0.0 0.0 0.0 -26.302430410908613 -26.198877535275397 -11.494369195318466 0.0 0.0 -6.834489791811002 -24.334925773872406 -26.198877535275397 -26.198877535275397 -19.778599245998336 0.0 0.0 0.0 0.0 0.0 0.0 0.0 -24.438478649505726 -26.198877535275397 -16.154248598825845 0.0 0.0 0.0 0.0 0.0 0.0 0.0 0.0 -26.302430410908613 -26.198877535275397 -11.494369195318466 0.0 -6.730936916177496 -24.438478649505726 -26.198877535275397 -26.198877535275397 -26.198877535275397 -21.849656758668424 -2.071057512670004 0.0 0.0 0.0 0.0 0.0 -8.905547304480983 -25.888218908374835 -26.198877535275397 -9.31975880701496 0.0 0.0 0.0 0.0 0.0 0.0 0.0 0.0 -26.302430410908613 -26.198877535275397 -11.494369195318466 -6.627384040543956 -24.54203152513935 -26.198877535275397 -22.47097401246948 -4.4527736522404915 -19.882152121631762 -26.198877535275397 -19.46794061909811 -1.9675046370364888 0.0 0.0 0.0 -8.594888677580444 -23.713608520071514 -26.198877535275397 -16.050695723192405 -0.10355287563349931 0.0 0.0 0.0 0.0 0.0 0.0 0.0 0.0 -15.325825593757882 -26.198877535275397 -24.12782002260524 -24.645584400772925 -26.198877535275397 -24.85269015203995 -7.455807045611981 0.0 -5.591855284208967 -23.713608520071514 -26.198877535275397 -10.458840438983405 0.0 0.0 -8.387782926313474 -22.47097401246948 -26.198877535275397 -21.953209634301874 -2.588821890837494 0.0 0.0 0.0 0.0 0.0 0.0 0.0 0.0 0.0 -8.491335801946873 -26.198877535275397 -26.198877535275397 -26.198877535275397 -24.95624302767335 -7.35225416997842 0.0 0.0 0.0 -19.260834867830813 -26.198877535275397 -21.53899813176804 -10.355287563349975 -10.355287563349975 -23.92071427133827 -26.198877535275397 -26.198877535275397 -9.733970309549054 0.0 0.0 0.0 0.0 0.0 0.0 0.0 0.0 0.0 0.0 -0.10355287563349931 -9.941076060815881 -26.198877535275397 -18.53596473839653 -2.1746103883034835 0.0 0.0 0.0 0.0 -4.9705380304079405 -23.61005564443761 -26.198877535275397 -26.198877535275397 -26.198877535275397 -26.198877535275397 -26.198877535275397 -4.763432279140951 -0.20710575126699862 0.0 0.0 0.0 0.0 0.0 0.0 0.0 0.0 0.0 0.0 0.0 -0.10355287563349931 -1.8639517614029952 -0.8284230050679945 0.0 0.0 0.0 0.0 0.0 0.0 -4.866985154774527 -18.018200360228807 -26.198877535275397 -26.198877535275397 -16.257801474459438 -3.417244895905501 -0.20710575126699862 0.0 0.0 0.0 0.0 0.0 0.0 0.0 0.0 0.0 0.0 0.0 0.0 0.0 0.0 0.0 0.0 0.0 0.0 0.0 0.0 0.0 0.0 -0.41421150253399724 -1.2426345076019851 -1.2426345076019851 -0.20710575126699862 0.0 0.0 0.0 0.0 0.0 0.0 0.0 0.0 0.0 0.0 0.0 0.0 0.0 0.0 0.0 0.0 0.0 0.0 0.0 0.0 0.0 0.0 0.0 0.0 0.0 0.0 0.0 0.0 0.0 0.0 0.0 0.0 0.0 0.0 0.0 0.0 0.0 0.0 0.0 0.0 0.0 0.0 0.0 0.0 0.0 0.0 0.0 0.0 0.0 0.0 0.0 0.0 0.0 0.0 0.0 0.0 0.0 0.0 0.0 0.0 0.0 0.0 0.0 0.0 0.0 0.0 0.0 0.0 0.0 0.0 0.0 0.0 0.0 0.0 0.0 0.0 0.0 0.0 0.0 0.0 0.0 0.0 0.0 0.0 0.0 0.0 0.0 0.0 0.0 0.0 0.0 0.0 0.0 0.0 0.0 0.0 0.0 0.0 0.0 0.0 0.0 0.0 0.0 0.0 0.0 0.0 0.0 0.0 0.0 0.0 0.0 0.0 0.0 0.0 0.0 0.0 0.0 0.0 0.0 0.0 0.0 0.0 0.0 0.0 0.0 0.0 0.0 0.0 0.0 0.0 0.0 0.0 0.0 0.0 0.0 0.0 0.0 0.0 0.0 0.0 0.0 0.0 0.0 0.0 0.0 0.0 0.0 0.0 0.0 0.0 0.0 0.0 0.0 0.0 0.0 0.0 0.0 0.0 0.0 0.0 0.0 0.0 0.0 0.0 0.0 0.0 0.0 0.0 0.0 0.0 0.0 0.0 0.0 0.0 0.0 0.0; 0.0 0.0 0.0 0.0 0.0 0.0 0.0 0.0 0.0 0.0 0.0 0.0 0.0 0.0 0.0 0.0 0.0 0.0 0.0 0.0 0.0 0.0 0.0 0.0 0.0 0.0 0.0 0.0 0.0 0.0 0.0 0.0 0.0 0.0 0.0 0.0 0.0 0.0 0.0 0.0 0.0 0.0 0.0 0.0 0.0 0.0 0.0 0.0 0.0 0.0 0.0 0.0 0.0 0.0 0.0 0.0 0.0 0.0 0.0 0.0 0.0 0.0 0.0 0.0 0.0 0.0 0.0 0.0 0.0 0.0 0.0 0.0 0.0 0.0 0.0 0.0 0.0 0.0 0.0 0.0 0.0 0.0 0.0 0.0 0.0 0.0 0.0 0.0 0.0 0.0 0.0 0.0 0.0 0.0 0.0 0.0 0.0 0.0 0.0 0.0 0.0 0.0 0.0 0.0 0.0 0.0 0.0 0.0 0.0 0.0 0.0 0.0 0.0 0.0 0.0 0.0 0.0 -619.9993910911312 -8059.992084184717 0.0 0.0 0.0 0.0 0.0 0.0 0.0 0.0 0.0 0.0 0.0 0.0 0.0 0.0 0.0 0.0 0.0 0.0 0.0 0.0 0.0 0.0 0.0 0.0 0.0 0.0 -12399.98782182266 -14941.985325296368 0.0 0.0 0.0 0.0 0.0 0.0 0.0 0.0 0.0 0.0 0.0 0.0 0.0 0.0 0.0 0.0 0.0 0.0 0.0 0.0 0.0 0.0 0.0 0.0 0.0 0.0 -15809.984472823946 -14941.985325296368 0.0 0.0 0.0 0.0 0.0 0.0 0.0 0.0 0.0 0.0 0.0 0.0 -619.9993910911312 -1549.9984777278326 -1549.9984777278326 -123.99987821822707 0.0 0.0 0.0 0.0 0.0 0.0 0.0 0.0 0.0 0.0 -15809.984472823946 -14941.985325296368 0.0 0.0 0.0 0.0 0.0 0.0 0.0 0.0 0.0 0.0 0.0 -4277.995798528828 -11841.988369840776 -15685.9845946056 -15685.9845946056 -6695.9934237842635 -123.99987821822707 0.0 0.0 0.0 0.0 0.0 0.0 0.0 0.0 0.0 -15809.984472823946 -14941.985325296368 0.0 0.0 0.0 0.0 0.0 0.0 0.0 0.0 0.0 0.0 0.0 -11159.989039640384 -13391.986847568527 -13391.986847568527 -15499.984777278265 -15685.9845946056 -5641.99445892929 0.0 0.0 0.0 0.0 0.0 0.0 0.0 0.0 0.0 -15747.984533714733 -14941.985325296368 0.0 0.0 0.0 0.0 0.0 -557.9994519820185 -8121.992023293886 -4091.995981201465 0.0 0.0 0.0 0.0 0.0 0.0 -9113.991049039641 -15685.9845946056 -13205.98703024115 -247.99975643645413 0.0 0.0 0.0 0.0 0.0 0.0 0.0 0.0 -15809.984472823946 -14941.985325296368 0.0 0.0 0.0 0.0 0.0 -3099.996955455665 -15685.9845946056 -11841.988369840776 0.0 0.0 0.0 0.0 0.0 0.0 -2107.9979297098425 -14941.985325296368 -15685.9845946056 -1859.998173273388 0.0 0.0 0.0 0.0 0.0 0.0 0.0 0.0 -15747.984533714733 -15499.984777278265 -4897.99518961992 0.0 0.0 0.0 0.0 -4835.995250510871 -15685.9845946056 -11841.988369840776 0.0 0.0 0.0 0.0 0.0 0.0 0.0 -14631.985629750665 -15685.9845946056 -7997.992145075641 0.0 0.0 0.0 0.0 0.0 0.0 0.0 0.0 -15747.984533714733 -15313.984959950913 -3533.9965292194684 0.0 0.0 0.0 0.0 -10787.989404985734 -15685.9845946056 -11841.988369840776 0.0 0.0 0.0 0.0 0.0 0.0 0.0 -14631.985629750665 -15685.9845946056 -7997.992145075641 0.0 0.0 0.0 0.0 0.0 0.0 0.0 0.0 -15747.984533714733 -15313.984959950913 -3533.9965292194684 0.0 0.0 0.0 -4153.995920310603 -14507.985751532433 -15685.9845946056 -11841.988369840776 0.0 0.0 0.0 0.0 0.0 0.0 0.0 -14631.985629750665 -15685.9845946056 -13825.986421332218 0.0 0.0 0.0 0.0 0.0 0.0 0.0 0.0 -15747.984533714733 -15685.9845946056 -6881.993241111593 0.0 0.0 -4091.995981201465 -14569.985690641697 -15685.9845946056 -15685.9845946056 -11841.988369840776 0.0 0.0 0.0 0.0 0.0 0.0 0.0 -14631.985629750665 -15685.9845946056 -9671.990501021743 0.0 0.0 0.0 0.0 0.0 0.0 0.0 0.0 -15747.984533714733 -15685.9845946056 -6881.993241111593 0.0 -4029.9960420923585 -14631.985629750665 -15685.9845946056 -15685.9845946056 -15685.9845946056 -13081.987152022837 -1239.9987821822624 0.0 0.0 0.0 0.0 0.0 -5331.994763383762 -15499.984777278265 -15685.9845946056 -5579.994519820192 0.0 0.0 0.0 0.0 0.0 0.0 0.0 0.0 -15747.984533714733 -15685.9845946056 -6881.993241111593 -3967.996102983266 -14693.985568859713 -15685.9845946056 -13453.986786677557 -2665.997381691881 -11903.988308949749 -15685.9845946056 -11655.988552513369 -1177.9988430731557 0.0 0.0 0.0 -5145.99494605643 -14197.986055986952 -15685.9845946056 -9609.990561912593 -61.999939109113534 0.0 0.0 0.0 0.0 0.0 0.0 0.0 0.0 -9175.99098814877 -15685.9845946056 -14445.985812423467 -14755.985507969026 -15685.9845946056 -14879.985386187103 -4463.995615856148 0.0 -3347.9967118921318 -14197.986055986952 -15685.9845946056 -6261.993850020425 0.0 0.0 -5021.995067838213 -13453.986786677557 -15685.9845946056 -13143.987091131985 -1549.9984777278326 0.0 0.0 0.0 0.0 0.0 0.0 0.0 0.0 0.0 -5083.995006947305 -15685.9845946056 -15685.9845946056 -15685.9845946056 -14941.985325296368 -4401.9956767470585 0.0 0.0 0.0 -11531.98867429507 -15685.9845946056 -12895.987334695554 -6199.99391091133 -6199.99391091133 -14321.98593420534 -15685.9845946056 -15685.9845946056 -5827.994276256684 0.0 0.0 0.0 0.0 0.0 0.0 0.0 0.0 0.0 0.0 -61.999939109113534 -5951.994154474874 -15685.9845946056 -11097.989100531233 -1301.9987212913834 0.0 0.0 0.0 0.0 -2975.997077237437 -14135.986116877873 -15685.9845946056 -15685.9845946056 -15685.9845946056 -15685.9845946056 -15685.9845946056 -2851.9971990191893 -123.99987821822707 0.0 0.0 0.0 0.0 0.0 0.0 0.0 0.0 0.0 0.0 0.0 -61.999939109113534 -1115.998903964037 -495.99951287290827 0.0 0.0 0.0 0.0 0.0 0.0 -2913.997138128342 -10787.989404985734 -15685.9845946056 -15685.9845946056 -9733.990440130818 -2045.9979906007325 -123.99987821822707 0.0 0.0 0.0 0.0 0.0 0.0 0.0 0.0 0.0 0.0 0.0 0.0 0.0 0.0 0.0 0.0 0.0 0.0 0.0 0.0 0.0 0.0 -247.99975643645413 -743.9992693093593 -743.9992693093593 -123.99987821822707 0.0 0.0 0.0 0.0 0.0 0.0 0.0 0.0 0.0 0.0 0.0 0.0 0.0 0.0 0.0 0.0 0.0 0.0 0.0 0.0 0.0 0.0 0.0 0.0 0.0 0.0 0.0 0.0 0.0 0.0 0.0 0.0 0.0 0.0 0.0 0.0 0.0 0.0 0.0 0.0 0.0 0.0 0.0 0.0 0.0 0.0 0.0 0.0 0.0 0.0 0.0 0.0 0.0 0.0 0.0 0.0 0.0 0.0 0.0 0.0 0.0 0.0 0.0 0.0 0.0 0.0 0.0 0.0 0.0 0.0 0.0 0.0 0.0 0.0 0.0 0.0 0.0 0.0 0.0 0.0 0.0 0.0 0.0 0.0 0.0 0.0 0.0 0.0 0.0 0.0 0.0 0.0 0.0 0.0 0.0 0.0 0.0 0.0 0.0 0.0 0.0 0.0 0.0 0.0 0.0 0.0 0.0 0.0 0.0 0.0 0.0 0.0 0.0 0.0 0.0 0.0 0.0 0.0 0.0 0.0 0.0 0.0 0.0 0.0 0.0 0.0 0.0 0.0 0.0 0.0 0.0 0.0 0.0 0.0 0.0 0.0 0.0 0.0 0.0 0.0 0.0 0.0 0.0 0.0 0.0 0.0 0.0 0.0 0.0 0.0 0.0 0.0 0.0 0.0 0.0 0.0 0.0 0.0 0.0 0.0 0.0 0.0 0.0 0.0 0.0 0.0 0.0 0.0 0.0 0.0 0.0 0.0 0.0 0.0 0.0 0.0; 0.0 0.0 0.0 0.0 0.0 0.0 0.0 0.0 0.0 0.0 0.0 0.0 0.0 0.0 0.0 0.0 0.0 0.0 0.0 0.0 0.0 0.0 0.0 0.0 0.0 0.0 0.0 0.0 0.0 0.0 0.0 0.0 0.0 0.0 0.0 0.0 0.0 0.0 0.0 0.0 0.0 0.0 0.0 0.0 0.0 0.0 0.0 0.0 0.0 0.0 0.0 0.0 0.0 0.0 0.0 0.0 0.0 0.0 0.0 0.0 0.0 0.0 0.0 0.0 0.0 0.0 0.0 0.0 0.0 0.0 0.0 0.0 0.0 0.0 0.0 0.0 0.0 0.0 0.0 0.0 0.0 0.0 0.0 0.0 0.0 0.0 0.0 0.0 0.0 0.0 0.0 0.0 0.0 0.0 0.0 0.0 0.0 0.0 0.0 0.0 0.0 0.0 0.0 0.0 0.0 0.0 0.0 0.0 0.0 0.0 0.0 0.0 0.0 0.0 0.0 0.0 0.0 5.039759988092966e9 6.551687984520868e10 0.0 0.0 0.0 0.0 0.0 0.0 0.0 0.0 0.0 0.0 0.0 0.0 0.0 0.0 0.0 0.0 0.0 0.0 0.0 0.0 0.0 0.0 0.0 0.0 0.0 0.0 1.0079519976185988e11 1.2145821571304105e11 0.0 0.0 0.0 0.0 0.0 0.0 0.0 0.0 0.0 0.0 0.0 0.0 0.0 0.0 0.0 0.0 0.0 0.0 0.0 0.0 0.0 0.0 0.0 0.0 0.0 0.0 1.2851387969637122e11 1.2145821571304105e11 0.0 0.0 0.0 0.0 0.0 0.0 0.0 0.0 0.0 0.0 0.0 0.0 5.039759988092966e9 1.2599399970232485e10 1.2599399970232485e10 1.0079519976185998e9 0.0 0.0 0.0 0.0 0.0 0.0 0.0 0.0 0.0 0.0 1.2851387969637122e11 1.2145821571304105e11 0.0 0.0 0.0 0.0 0.0 0.0 0.0 0.0 0.0 0.0 0.0 3.477434391784132e10 9.625941577257527e10 1.275059276987522e11 1.275059276987522e11 5.44294078714039e10 1.0079519976185998e9 0.0 0.0 0.0 0.0 0.0 0.0 0.0 0.0 0.0 1.2851387969637122e11 1.2145821571304105e11 0.0 0.0 0.0 0.0 0.0 0.0 0.0 0.0 0.0 0.0 0.0 9.071567978567328e10 1.088588157428078e11 1.088588157428078e11 1.2599399970232408e11 1.275059276987522e11 4.586181589164576e10 0.0 0.0 0.0 0.0 0.0 0.0 0.0 0.0 0.0 1.2800990369756079e11 1.2145821571304105e11 0.0 0.0 0.0 0.0 0.0 4.535783989283726e9 6.602085584401845e10 3.3262415921413525e10 0.0 0.0 0.0 0.0 0.0 0.0 7.408447182496696e10 1.275059276987522e11 1.0734688774638083e11 2.0159039952371995e9 0.0 0.0 0.0 0.0 0.0 0.0 0.0 0.0 1.2851387969637122e11 1.2145821571304105e11 0.0 0.0 0.0 0.0 0.0 2.519879994046497e10 1.275059276987522e11 9.625941577257527e10 0.0 0.0 0.0 0.0 0.0 0.0 1.71351839595161e10 1.2145821571304105e11 1.275059276987522e11 1.511927996427899e10 0.0 0.0 0.0 0.0 0.0 0.0 0.0 0.0 1.2800990369756079e11 1.2599399970232408e11 3.9814103905934494e10 0.0 0.0 0.0 0.0 3.931012790712561e10 1.275059276987522e11 9.625941577257527e10 0.0 0.0 0.0 0.0 0.0 0.0 0.0 1.1893833571899306e11 1.275059276987522e11 6.5012903846399605e10 0.0 0.0 0.0 0.0 0.0 0.0 0.0 0.0 1.2800990369756079e11 1.2448207170589587e11 2.8726631932129696e10 0.0 0.0 0.0 0.0 8.769182379281853e10 1.275059276987522e11 9.625941577257527e10 0.0 0.0 0.0 0.0 0.0 0.0 0.0 1.1893833571899306e11 1.275059276987522e11 6.5012903846399605e10 0.0 0.0 0.0 0.0 0.0 0.0 0.0 0.0 1.2800990369756079e11 1.2448207170589587e11 2.8726631932129696e10 0.0 0.0 0.0 3.376639192022274e10 1.1793038372137573e11 1.275059276987522e11 9.625941577257527e10 0.0 0.0 0.0 0.0 0.0 0.0 0.0 1.1893833571899306e11 1.275059276987522e11 1.1238664773447319e11 0.0 0.0 0.0 0.0 0.0 0.0 0.0 0.0 1.2800990369756079e11 1.275059276987522e11 5.594133586783162e10 0.0 0.0 3.3262415921413525e10 1.1843435972018422e11 1.275059276987522e11 1.275059276987522e11 9.625941577257527e10 0.0 0.0 0.0 0.0 0.0 0.0 0.0 1.1893833571899306e11 1.275059276987522e11 7.862025581425122e10 0.0 0.0 0.0 0.0 0.0 0.0 0.0 0.0 1.2800990369756079e11 1.275059276987522e11 5.594133586783162e10 0.0 3.275843992260434e10 1.1893833571899306e11 1.275059276987522e11 1.275059276987522e11 1.275059276987522e11 1.0633893574876207e11 1.0079519976185932e10 0.0 0.0 0.0 0.0 0.0 4.3341935897599594e10 1.2599399970232408e11 1.275059276987522e11 4.535783989283664e10 0.0 0.0 0.0 0.0 0.0 0.0 0.0 0.0 1.2800990369756079e11 1.275059276987522e11 5.594133586783162e10 3.2254463923795193e10 1.1944231171780276e11 1.275059276987522e11 1.0936279174161768e11 2.1670967948799797e10 9.676339177138405e10 1.275059276987522e11 9.47474877761483e10 9.575543977376686e9 0.0 0.0 0.0 4.18300079011715e10 1.1541050372732835e11 1.275059276987522e11 7.811627981544153e10 5.039759988092999e8 0.0 0.0 0.0 0.0 0.0 0.0 0.0 0.0 7.458844782377571e10 1.275059276987522e11 1.1742640772256659e11 1.1994628771661238e11 1.275059276987522e11 1.2095423971423192e11 3.6286271914269806e10 0.0 2.721470393570195e10 1.1541050372732835e11 1.275059276987522e11 5.090157587973881e10 0.0 0.0 4.082205590355302e10 1.0936279174161768e11 1.275059276987522e11 1.0684291174757133e11 1.2599399970232485e10 0.0 0.0 0.0 0.0 0.0 0.0 0.0 0.0 0.0 4.132603190236265e10 1.275059276987522e11 1.275059276987522e11 1.275059276987522e11 1.2145821571304105e11 3.578229591546009e10 0.0 0.0 0.0 9.37395357785295e10"
     ]
    },
    {
     "name": "stdout",
     "output_type": "stream",
     "text": [
      " 1.275059276987522e11 1.0482700775233424e11 5.039759988092994e10 5.039759988092994e10 1.1641845572494775e11 1.275059276987522e11 1.275059276987522e11 4.737374388807415e10 0.0 0.0 0.0 0.0 0.0 0.0 0.0 0.0 0.0 0.0 5.039759988092999e8 4.8381695885692024e10 1.275059276987522e11 9.021170378686429e10 1.0583495974995245e10 0.0 0.0 0.0 0.0 2.4190847942846012e10 1.1490652772851878e11 1.275059276987522e11 1.275059276987522e11 1.275059276987522e11 1.275059276987522e11 1.275059276987522e11 2.3182895945227737e10 1.0079519976185998e9 0.0 0.0 0.0 0.0 0.0 0.0 0.0 0.0 0.0 0.0 0.0 5.039759988092999e8 9.071567978567451e9 4.031807990474399e9 0.0 0.0 0.0 0.0 0.0 0.0 2.3686871944037075e10 8.769182379281853e10 1.275059276987522e11 1.275059276987522e11 7.912423181306009e10 1.6631207960706762e10 1.0079519976185998e9 0.0 0.0 0.0 0.0 0.0 0.0 0.0 0.0 0.0 0.0 0.0 0.0 0.0 0.0 0.0 0.0 0.0 0.0 0.0 0.0 0.0 0.0 2.0159039952371995e9 6.047711985711503e9 6.047711985711503e9 1.0079519976185998e9 0.0 0.0 0.0 0.0 0.0 0.0 0.0 0.0 0.0 0.0 0.0 0.0 0.0 0.0 0.0 0.0 0.0 0.0 0.0 0.0 0.0 0.0 0.0 0.0 0.0 0.0 0.0 0.0 0.0 0.0 0.0 0.0 0.0 0.0 0.0 0.0 0.0 0.0 0.0 0.0 0.0 0.0 0.0 0.0 0.0 0.0 0.0 0.0 0.0 0.0 0.0 0.0 0.0 0.0 0.0 0.0 0.0 0.0 0.0 0.0 0.0 0.0 0.0 0.0 0.0 0.0 0.0 0.0 0.0 0.0 0.0 0.0 0.0 0.0 0.0 0.0 0.0 0.0 0.0 0.0 0.0 0.0 0.0 0.0 0.0 0.0 0.0 0.0 0.0 0.0 0.0 0.0 0.0 0.0 0.0 0.0 0.0 0.0 0.0 0.0 0.0 0.0 0.0 0.0 0.0 0.0 0.0 0.0 0.0 0.0 0.0 0.0 0.0 0.0 0.0 0.0 0.0 0.0 0.0 0.0 0.0 0.0 0.0 0.0 0.0 0.0 0.0 0.0 0.0 0.0 0.0 0.0 0.0 0.0 0.0 0.0 0.0 0.0 0.0 0.0 0.0 0.0 0.0 0.0 0.0 0.0 0.0 0.0 0.0 0.0 0.0 0.0 0.0 0.0 0.0 0.0 0.0 0.0 0.0 0.0 0.0 0.0 0.0 0.0 0.0 0.0 0.0 0.0 0.0 0.0 0.0 0.0 0.0 0.0 0.0 0.0; 0.0 0.0 0.0 0.0 0.0 0.0 0.0 0.0 0.0 0.0 0.0 0.0 0.0 0.0 0.0 0.0 0.0 0.0 0.0 0.0 0.0 0.0 0.0 0.0 0.0 0.0 0.0 0.0 0.0 0.0 0.0 0.0 0.0 0.0 0.0 0.0 0.0 0.0 0.0 0.0 0.0 0.0 0.0 0.0 0.0 0.0 0.0 0.0 0.0 0.0 0.0 0.0 0.0 0.0 0.0 0.0 0.0 0.0 0.0 0.0 0.0 0.0 0.0 0.0 0.0 0.0 0.0 0.0 0.0 0.0 0.0 0.0 0.0 0.0 0.0 0.0 0.0 0.0 0.0 0.0 0.0 0.0 0.0 0.0 0.0 0.0 0.0 0.0 0.0 0.0 0.0 0.0 0.0 0.0 0.0 0.0 0.0 0.0 0.0 0.0 0.0 0.0 0.0 0.0 0.0 0.0 0.0 0.0 0.0 0.0 0.0 0.0 0.0 0.0 0.0 0.0 0.0 8024.262929412377 104315.4180823608 0.0 0.0 0.0 0.0 0.0 0.0 0.0 0.0 0.0 0.0 0.0 0.0 0.0 0.0 0.0 0.0 0.0 0.0 0.0 0.0 0.0 0.0 0.0 0.0 0.0 0.0 160485.2585882478 193384.73659883696 0.0 0.0 0.0 0.0 0.0 0.0 0.0 0.0 0.0 0.0 0.0 0.0 0.0 0.0 0.0 0.0 0.0 0.0 0.0 0.0 0.0 0.0 0.0 0.0 0.0 0.0 204618.7047000165 193384.73659883696 0.0 0.0 0.0 0.0 0.0 0.0 0.0 0.0 0.0 0.0 0.0 0.0 8024.262929412377 20060.657323530973 20060.657323530973 1604.85258588247 0.0 0.0 0.0 0.0 0.0 0.0 0.0 0.0 0.0 0.0 204618.7047000165 193384.73659883696 0.0 0.0 0.0 0.0 0.0 0.0 0.0 0.0 0.0 0.0 0.0 55367.41421294584 153263.42195177608 203013.85211413435 203013.85211413435 86662.03963765394 1604.85258588247 0.0 0.0 0.0 0.0 0.0 0.0 0.0 0.0 0.0 204618.7047000165 193384.73659883696 0.0 0.0 0.0 0.0 0.0 0.0 0.0 0.0 0.0 0.0 0.0 144436.7327294244 173324.0792753079 173324.0792753079 200606.57323530896 203013.85211413435 73020.79265765246 0.0 0.0 0.0 0.0 0.0 0.0 0.0 0.0 0.0 203816.27840707518 193384.73659883696 0.0 0.0 0.0 0.0 0.0 7221.836636471181 105117.84437530253 52960.135334122344 0.0 0.0 0.0 0.0 0.0 0.0 117956.66506236258 203013.85211413435 170916.8003964839 3209.70517176494 0.0 0.0 0.0 0.0 0.0 0.0 0.0 0.0 204618.7047000165 193384.73659883696 0.0 0.0 0.0 0.0 0.0 40121.31464706195 203013.85211413435 153263.42195177608 0.0 0.0 0.0 0.0 0.0 0.0 27282.49396000195 193384.73659883696 203013.85211413435 24072.788788237252 0.0 0.0 0.0 0.0 0.0 0.0 0.0 0.0 203816.27840707518 200606.57323530896 63391.677142357665 0.0 0.0 0.0 0.0 62589.25084941674 203013.85211413435 153263.42195177608 0.0 0.0 0.0 0.0 0.0 0.0 0.0 189372.60513413273 203013.85211413435 103512.9917894209 0.0 0.0 0.0 0.0 0.0 0.0 0.0 0.0 203816.27840707518 198199.29435648563 45738.29869765067 0.0 0.0 0.0 0.0 139622.17497177573 203013.85211413435 153263.42195177608 0.0 0.0 0.0 0.0 0.0 0.0 0.0 189372.60513413273 203013.85211413435 103512.9917894209 0.0 0.0 0.0 0.0 0.0 0.0 0.0 0.0 203816.27840707518 198199.29435648563 45738.29869765067 0.0 0.0 0.0 53762.56162706311 187767.75254824935 203013.85211413435 153263.42195177608 0.0 0.0 0.0 0.0 0.0 0.0 0.0 189372.60513413273 203013.85211413435 178941.06332589785 0.0 0.0 0.0 0.0 0.0 0.0 0.0 0.0 203816.27840707518 203013.85211413435 89069.31851647694 0.0 0.0 52960.135334122344 188570.17884119076 203013.85211413435 203013.85211413435 153263.42195177608 0.0 0.0 0.0 0.0 0.0 0.0 0.0 189372.60513413273 203013.85211413435 125178.50169883348 0.0 0.0 0.0 0.0 0.0 0.0 0.0 0.0 203816.27840707518 203013.85211413435 89069.31851647694 0.0 52157.7090411804 189372.60513413273 203013.85211413435 203013.85211413435 203013.85211413435 169311.9478105996 16048.525858824754 0.0 0.0 0.0 0.0 0.0 69008.66119294653 200606.57323530896 203013.85211413435 72218.3663647122 0.0 0.0 0.0 0.0 0.0 0.0 0.0 0.0 203816.27840707518 203013.85211413435 89069.31851647694 51355.28274823904 190175.03142707338 203013.85211413435 174126.50556824892 34504.330596473264 154065.8482447172 203013.85211413435 150856.14307295272 15246.099565883569 0.0 0.0 0.0 66601.38231412334 183755.62108354375 203013.85211413435 124376.07540589242 802.426292941235 0.0 0.0 0.0 0.0 0.0 0.0 0.0 0.0 118759.0913553028 203013.85211413435 186965.32625530878 190977.45772001494 203013.85211413435 192582.31030589802 57774.69309176945 0.0 43331.01981882697 183755.62108354375 203013.85211413435 81045.05558706504 0.0 0.0 64996.52972824021 174126.50556824892 203013.85211413435 170114.37410354294 20060.657323530973 0.0 0.0 0.0 0.0 0.0 0.0 0.0 0.0 0.0 65798.95602118176 203013.85211413435 203013.85211413435 203013.85211413435 193384.73659883696 56972.26679882829 0.0 0.0 0.0 149251.29048707068 203013.85211413435 166904.66893177858 80242.6292941239 80242.6292941239 185360.47366942719 203013.85211413435 203013.85211413435 75428.07153647636 0.0 0.0 0.0 0.0 0.0 0.0 0.0 0.0 0.0 0.0 802.426292941235 77032.9241223586 203013.85211413435 143634.30643648203 16850.952151766025 0.0 0.0 0.0 0.0 38516.4620611793 182953.1947906027 203013.85211413435 203013.85211413435 203013.85211413435 203013.85211413435 203013.85211413435 36911.60947529726 1604.85258588247 0.0 0.0 0.0 0.0 0.0 0.0 0.0 0.0 0.0 0.0 0.0 802.426292941235 14443.673272942362 6419.41034352988 0.0 0.0 0.0 0.0 0.0 0.0 37714.03576823818 139622.17497177573 203013.85211413435 203013.85211413435 125980.92799177415 26480.067667061172 1604.85258588247 0.0 0.0 0.0 0.0 0.0 0.0 0.0 0.0 0.0 0.0 0.0 0.0 0.0 0.0 0.0 0.0 0.0 0.0 0.0 0.0 0.0 0.0 3209.70517176494 9629.115515294825 9629.115515294825 1604.85258588247 0.0 0.0 0.0 0.0 0.0 0.0 0.0 0.0 0.0 0.0 0.0 0.0 0.0 0.0 0.0 0.0 0.0 0.0 0.0 0.0 0.0 0.0 0.0 0.0 0.0 0.0 0.0 0.0 0.0 0.0 0.0 0.0 0.0 0.0 0.0 0.0 0.0 0.0 0.0 0.0 0.0 0.0 0.0 0.0 0.0 0.0 0.0 0.0 0.0 0.0 0.0 0.0 0.0 0.0 0.0 0.0 0.0 0.0 0.0 0.0 0.0 0.0 0.0 0.0 0.0 0.0 0.0 0.0 0.0 0.0 0.0 0.0 0.0 0.0 0.0 0.0 0.0 0.0 0.0 0.0 0.0 0.0 0.0 0.0 0.0 0.0 0.0 0.0 0.0 0.0 0.0 0.0 0.0 0.0 0.0 0.0 0.0 0.0 0.0 0.0 0.0 0.0 0.0 0.0 0.0 0.0 0.0 0.0 0.0 0.0 0.0 0.0 0.0 0.0 0.0 0.0 0.0 0.0 0.0 0.0 0.0 0.0 0.0 0.0 0.0 0.0 0.0 0.0 0.0 0.0 0.0 0.0 0.0 0.0 0.0 0.0 0.0 0.0 0.0 0.0 0.0 0.0 0.0 0.0 0.0 0.0 0.0 0.0 0.0 0.0 0.0 0.0 0.0 0.0 0.0 0.0 0.0 0.0 0.0 0.0 0.0 0.0 0.0 0.0 0.0 0.0 0.0 0.0 0.0 0.0 0.0 0.0 0.0 0.0 0.0 0.0; 0.0 0.0 0.0 0.0 0.0 0.0 0.0 0.0 0.0 0.0 0.0 0.0 0.0 0.0 0.0 0.0 0.0 0.0 0.0 0.0 0.0 0.0 0.0 0.0 0.0 0.0 0.0 0.0 0.0 0.0 0.0 0.0 0.0 0.0 0.0 0.0 0.0 0.0 0.0 0.0 0.0 0.0 0.0 0.0 0.0 0.0 0.0 0.0 0.0 0.0 0.0 0.0 0.0 0.0 0.0 0.0 0.0 0.0 0.0 0.0 0.0 0.0 0.0 0.0 0.0 0.0 0.0 0.0 0.0 0.0 0.0 0.0 0.0 0.0 0.0 0.0 0.0 0.0 0.0 0.0 0.0 0.0 0.0 0.0 0.0 0.0 0.0 0.0 0.0 0.0 0.0 0.0 0.0 0.0 0.0 0.0 0.0 0.0 0.0 0.0 0.0 0.0 0.0 0.0 0.0 0.0 0.0 0.0 0.0 0.0 0.0 0.0 0.0 0.0 0.0 0.0 0.0 -5.57782662710654 -72.51174615238473 0.0 0.0 0.0 0.0 0.0 0.0 0.0 0.0 0.0 0.0 0.0 0.0 0.0 0.0 0.0 0.0 0.0 0.0 0.0 0.0 0.0 0.0 0.0 0.0 0.0 0.0 -111.55653254213127 -134.42562171326875 0.0 0.0 0.0 0.0 0.0 0.0 0.0 0.0 0.0 0.0 0.0 0.0 0.0 0.0 0.0 0.0 0.0 0.0 0.0 0.0 0.0 0.0 0.0 0.0 0.0 0.0 -142.23457899121473 -134.42562171326875 0.0 0.0 0.0 0.0 0.0 0.0 0.0 0.0 0.0 0.0 0.0 0.0 -5.57782662710654 -13.944566567766408 -13.944566567766408 -1.1155653254213074 0.0 0.0 0.0 0.0 0.0 0.0 0.0 0.0 0.0 0.0 -142.23457899121473 -134.42562171326875 0.0 0.0 0.0 0.0 0.0 0.0 0.0 0.0 0.0 0.0 0.0 -38.48700372703511 -106.53648857773562 -141.11901366579605 -141.11901366579605 -60.24052757275019 -1.1155653254213074 0.0 0.0 0.0 0.0 0.0 0.0 0.0 0.0 0.0 -142.23457899121473 -134.42562171326875 0.0 0.0 0.0 0.0 0.0 0.0 0.0 0.0 0.0 0.0 0.0 -100.40087928791834 -120.48105514550038 -120.48105514550038 -139.44566567766245 -141.11901366579605 -50.75822230666948 0.0 0.0 0.0 0.0 0.0 0.0 0.0 0.0 0.0 -141.67679632850508 -134.42562171326875 0.0 0.0 0.0 0.0 0.0 -5.020043964395845 -73.06952881509564 -36.8136557389034 0.0 0.0 0.0 0.0 0.0 0.0 -81.99405141846646 -141.11901366579605 -118.80770715736885 -2.2311306508426147 0.0 0.0 0.0 0.0 0.0 0.0 0.0 0.0 -142.23457899121473 -134.42562171326875 0.0 0.0 0.0 0.0 0.0 -27.889133135532816 -141.11901366579605 -106.53648857773562 0.0 0.0 0.0 0.0 0.0 0.0 -18.96461053216208 -134.42562171326875 -141.11901366579605 -16.733479881319475 0.0 0.0 0.0 0.0 0.0 0.0 0.0 0.0 -141.67679632850508 -139.44566567766245 -44.0648303541413 0.0 0.0 0.0 0.0 -43.50704769143076 -141.11901366579605 -106.53648857773562 0.0 0.0 0.0 0.0 0.0 0.0 0.0 -131.6367083997153 -141.11901366579605 -71.95396348967421 0.0 0.0 0.0 0.0 0.0 0.0 0.0 0.0 -141.67679632850508 -137.77231768953123 -31.793611774507085 0.0 0.0 0.0 0.0 -97.05418331165382 -141.11901366579605 -106.53648857773562 0.0 0.0 0.0 0.0 0.0 0.0 0.0 -131.6367083997153 -141.11901366579605 -71.95396348967421 0.0 0.0 0.0 0.0 0.0 0.0 0.0 0.0 -141.67679632850508 -137.77231768953123 -31.793611774507085 0.0 0.0 0.0 -37.371438401613844 -130.5211430742918 -141.11901366579605 -106.53648857773562 0.0 0.0 0.0 0.0 0.0 0.0 0.0 -131.6367083997153 -141.11901366579605 -124.38553378447536 0.0 0.0 0.0 0.0 0.0 0.0 0.0 0.0 -141.67679632850508 -141.11901366579605 -61.91387556088244 0.0 0.0 -36.8136557389034 -131.07892573700278 -141.11901366579605 -141.11901366579605 -106.53648857773562 0.0 0.0 0.0 0.0 0.0 0.0 0.0 -131.6367083997153"
     ]
    },
    {
     "name": "stdout",
     "output_type": "stream",
     "text": [
      " -141.11901366579605 -87.01409538286153 0.0 0.0 0.0 0.0 0.0 0.0 0.0 0.0 -141.67679632850508 -141.11901366579605 -61.91387556088244 0.0 -36.255873076192366 -131.6367083997153 -141.11901366579605 -141.11901366579605 -141.11901366579605 -117.69214183194735 -11.15565325421308 0.0 0.0 0.0 0.0 0.0 -47.969308993116016 -139.44566567766245 -141.11901366579605 -50.20043964395917 0.0 0.0 0.0 0.0 0.0 0.0 0.0 0.0 -141.67679632850508 -141.11901366579605 -61.91387556088244 -35.698090413481836 -132.19449106242385 -141.11901366579605 -121.03883780821099 -23.984654496558008 -107.0942712404452 -141.11901366579605 -104.86314058960332 -10.597870591502328 0.0 0.0 0.0 -46.295961004984605 -127.73222976073906 -141.11901366579605 -86.45631272015089 -0.5577826627106537 0.0 0.0 0.0 0.0 0.0 0.0 0.0 0.0 -82.55183408117702 -141.11901366579605 -129.9633604115814 -132.75227372513652 -141.11901366579605 -133.8678390505558 -40.16035171516676 0.0 -30.120263786375094 -127.73222976073906 -141.11901366579605 -56.33604893377594 0.0 0.0 -45.18039567956289 -121.03883780821099 -141.11901366579605 -118.24992449465867 -13.944566567766408 0.0 0.0 0.0 0.0 0.0 0.0 0.0 0.0 0.0 -45.738178342273734 -141.11901366579605 -141.11901366579605 -141.11901366579605 -134.42562171326875 -39.60256905245655 0.0 0.0 0.0 -103.74757526418162 -141.11901366579605 -116.01879384381567 -55.77826627106563 -55.77826627106563 -128.84779508616123 -141.11901366579605 -141.11901366579605 -52.43157029480166 0.0 0.0 0.0 0.0 0.0 0.0 0.0 0.0 0.0 0.0 -0.5577826627106537 -53.5471356202226 -141.11901366579605 -99.84309662520653 -11.713435916923645 0.0 0.0 0.0 0.0 -26.7735678101113 -127.17444709802834 -141.11901366579605 -141.11901366579605 -141.11901366579605 -141.11901366579605 -141.11901366579605 -25.658002484690023 -1.1155653254213074 0.0 0.0 0.0 0.0 0.0 0.0 0.0 0.0 0.0 0.0 0.0 -0.5577826627106537 -10.04008792879169 -4.4622613016852295 0.0 0.0 0.0 0.0 0.0 0.0 -26.21578514740083 -97.05418331165382 -141.11901366579605 -141.11901366579605 -87.57187804557228 -18.4068278694517 -1.1155653254213074 0.0 0.0 0.0 0.0 0.0 0.0 0.0 0.0 0.0 0.0 0.0 0.0 0.0 0.0 0.0 0.0 0.0 0.0 0.0 0.0 0.0 0.0 -2.2311306508426147 -6.693391952527825 -6.693391952527825 -1.1155653254213074 0.0 0.0 0.0 0.0 0.0 0.0 0.0 0.0 0.0 0.0 0.0 0.0 0.0 0.0 0.0 0.0 0.0 0.0 0.0 0.0 0.0 0.0 0.0 0.0 0.0 0.0 0.0 0.0 0.0 0.0 0.0 0.0 0.0 0.0 0.0 0.0 0.0 0.0 0.0 0.0 0.0 0.0 0.0 0.0 0.0 0.0 0.0 0.0 0.0 0.0 0.0 0.0 0.0 0.0 0.0 0.0 0.0 0.0 0.0 0.0 0.0 0.0 0.0 0.0 0.0 0.0 0.0 0.0 0.0 0.0 0.0 0.0 0.0 0.0 0.0 0.0 0.0 0.0 0.0 0.0 0.0 0.0 0.0 0.0 0.0 0.0 0.0 0.0 0.0 0.0 0.0 0.0 0.0 0.0 0.0 0.0 0.0 0.0 0.0 0.0 0.0 0.0 0.0 0.0 0.0 0.0 0.0 0.0 0.0 0.0 0.0 0.0 0.0 0.0 0.0 0.0 0.0 0.0 0.0 0.0 0.0 0.0 0.0 0.0 0.0 0.0 0.0 0.0 0.0 0.0 0.0 0.0 0.0 0.0 0.0 0.0 0.0 0.0 0.0 0.0 0.0 0.0 0.0 0.0 0.0 0.0 0.0 0.0 0.0 0.0 0.0 0.0 0.0 0.0 0.0 0.0 0.0 0.0 0.0 0.0 0.0 0.0 0.0 0.0 0.0 0.0 0.0 0.0 0.0 0.0 0.0 0.0 0.0 0.0 0.0 0.0; 0.0 0.0 0.0 0.0 0.0 0.0 0.0 0.0 0.0 0.0 0.0 0.0 0.0 0.0 0.0 0.0 0.0 0.0 0.0 0.0 0.0 0.0 0.0 0.0 0.0 0.0 0.0 0.0 0.0 0.0 0.0 0.0 0.0 0.0 0.0 0.0 0.0 0.0 0.0 0.0 0.0 0.0 0.0 0.0 0.0 0.0 0.0 0.0 0.0 0.0 0.0 0.0 0.0 0.0 0.0 0.0 0.0 0.0 0.0 0.0 0.0 0.0 0.0 0.0 0.0 0.0 0.0 0.0 0.0 0.0 0.0 0.0 0.0 0.0 0.0 0.0 0.0 0.0 0.0 0.0 0.0 0.0 0.0 0.0 0.0 0.0 0.0 0.0 0.0 0.0 0.0 0.0 0.0 0.0 0.0 0.0 0.0 0.0 0.0 0.0 0.0 0.0 0.0 0.0 0.0 0.0 0.0 0.0 0.0 0.0 0.0 0.0 0.0 0.0 0.0 0.0 0.0 -11.561820223322332 -150.30366290318995 0.0 0.0 0.0 0.0 0.0 0.0 0.0 0.0 0.0 0.0 0.0 0.0 0.0 0.0 0.0 0.0 0.0 0.0 0.0 0.0 0.0 0.0 0.0 0.0 0.0 0.0 -231.23640446644723 -278.6398673820688 0.0 0.0 0.0 0.0 0.0 0.0 0.0 0.0 0.0 0.0 0.0 0.0 0.0 0.0 0.0 0.0 0.0 0.0 0.0 0.0 0.0 0.0 0.0 0.0 0.0 0.0 -294.8264156947202 -278.6398673820688 0.0 0.0 0.0 0.0 0.0 0.0 0.0 0.0 0.0 0.0 0.0 0.0 -11.561820223322332 -28.904550558305903 -28.904550558305903 -2.312364044664485 0.0 0.0 0.0 0.0 0.0 0.0 0.0 0.0 0.0 0.0 -294.8264156947202 -278.6398673820688 0.0 0.0 0.0 0.0 0.0 0.0 0.0 0.0 0.0 0.0 0.0 -79.77655954092337 -220.8307662654575 -292.5140516500557 -292.5140516500557 -124.86765841188145 -2.312364044664485 0.0 0.0 0.0 0.0 0.0 0.0 0.0 0.0 0.0 -294.8264156947202 -278.6398673820688 0.0 0.0 0.0 0.0 0.0 0.0 0.0 0.0 0.0 0.0 0.0 -208.11276401980226 -249.7353168237629 -249.7353168237629 -289.04550558306113 -292.5140516500557 -105.21256403223272 0.0 0.0 0.0 0.0 0.0 0.0 0.0 0.0 0.0 -293.6702336723863 -278.6398673820688 0.0 0.0 0.0 0.0 0.0 -10.405638200990094 -151.4598449255235 -76.3080134739273 0.0 0.0 0.0 0.0 0.0 0.0 -169.95875728283883 -292.5140516500557 -246.2667707567677 -4.62472808932897 0.0 0.0 0.0 0.0 0.0 0.0 0.0 0.0 -294.8264156947202 -278.6398673820688 0.0 0.0 0.0 0.0 0.0 -57.80910111661181 -292.5140516500557 -220.8307662654575 0.0 0.0 0.0 0.0 0.0 0.0 -39.31018875929592 -278.6398673820688 -292.5140516500557 -34.685460669966936 0.0 0.0 0.0 0.0 0.0 0.0 0.0 0.0 -293.6702336723863 -289.04550558306113 -91.33837976424641 0.0 0.0 0.0 0.0 -90.18219774191411 -292.5140516500557 -220.8307662654575 0.0 0.0 0.0 0.0 0.0 0.0 0.0 -272.85895727040736 -292.5140516500557 -149.14748088085733 0.0 0.0 0.0 0.0 0.0 0.0 0.0 0.0 -293.6702336723863 -285.5769595160631 -65.90237527293746 0.0 0.0 0.0 0.0 -201.17567188580801 -292.5140516500557 -220.8307662654575 0.0 0.0 0.0 0.0 0.0 0.0 0.0 -272.85895727040736 -292.5140516500557 -149.14748088085733 0.0 0.0 0.0 0.0 0.0 0.0 0.0 0.0 -293.6702336723863 -285.5769595160631 -65.90237527293746 0.0 0.0 0.0 -77.46419549625946 -270.5465932257444 -292.5140516500557 -220.8307662654575 0.0 0.0 0.0 0.0 0.0 0.0 0.0 -272.85895727040736 -292.5140516500557 -257.8285909800877 0.0 0.0 0.0 0.0 0.0 0.0 0.0 0.0 -293.6702336723863 -292.5140516500557 -128.33620447887674 0.0 0.0 -76.3080134739273 -271.70277524807454 -292.5140516500557 -292.5140516500557 -220.8307662654575 0.0 0.0 0.0 0.0 0.0 0.0 0.0 -272.85895727040736 -292.5140516500557 -180.36439548382822 0.0 0.0 0.0 0.0 0.0 0.0 0.0 0.0 -293.6702336723863 -292.5140516500557 -128.33620447887674 0.0 -75.15183145159497 -272.85895727040736 -292.5140516500557 -292.5140516500557 -292.5140516500557 -243.95440671210088 -23.123640446644664 0.0 0.0 0.0 0.0 0.0 -99.43165392057237 -289.04550558306113 -292.5140516500557 -104.05638200990113 0.0 0.0 0.0 0.0 0.0 0.0 0.0 0.0 -293.6702336723863 -292.5140516500557 -128.33620447887674 -73.99564942926352 -274.0151392927393 -292.5140516500557 -250.89149884609554 -49.715826960286186 -221.98694828778898 -292.5140516500557 -217.36222019845928 -21.967458424312404 0.0 0.0 0.0 -95.96310785357599 -264.7656831140802 -292.5140516500557 -179.20821346149737 -1.1561820223322425 0.0 0.0 0.0 0.0 0.0 0.0 0.0 0.0 -171.11493930517128 -292.5140516500557 -269.3904112034118 -275.1713213150698 -292.5140516500557 -277.4836853597355 -83.24510560792075 0.0 -62.433829205940725 -264.7656831140802 -292.5140516500557 -116.7743842555558 0.0 0.0 -93.65074380891096 -250.89149884609554 -292.5140516500557 -245.11058873443346 -28.904550558305903 0.0 0.0 0.0 0.0 0.0 0.0 0.0 0.0 0.0 -94.80692583124343 -292.5140516500557 -292.5140516500557 -292.5140516500557 -278.6398673820688 -82.08892358558876 0.0 0.0 0.0 -215.04985615379505 -292.5140516500557 -240.48586064510474 -115.61820223322361 -115.61820223322361 -267.07804715874573 -292.5140516500557 -292.5140516500557 -108.68111009922964 0.0 0.0 0.0 0.0 0.0 0.0 0.0 0.0 0.0 0.0 -1.1561820223322425 -110.99347414389449 -292.5140516500557 -206.95658199746794 -24.279822468976764 0.0 0.0 0.0 0.0 -55.496737071947244 -263.60950109174985 -292.5140516500557 -292.5140516500557 -292.5140516500557 -292.5140516500557 -292.5140516500557 -53.18437302728309 -2.312364044664485 0.0 0.0 0.0 0.0 0.0 0.0 0.0 0.0 0.0 0.0 0.0 -1.1561820223322425 -20.811276401980187 -9.24945617865794 0.0 0.0 0.0 0.0 0.0 0.0 -54.34055504961482 -201.17567188580801 -292.5140516500557 -292.5140516500557 -181.52057750616183 -38.15400673696365 -2.312364044664485 0.0 0.0 0.0 0.0 0.0 0.0 0.0 0.0 0.0 0.0 0.0 0.0 0.0 0.0 0.0 0.0 0.0 0.0 0.0 0.0 0.0 0.0 -4.62472808932897 -13.874184267986811 -13.874184267986811 -2.312364044664485 0.0 0.0 0.0 0.0 0.0 0.0 0.0 0.0 0.0 0.0 0.0 0.0 0.0 0.0 0.0 0.0 0.0 0.0 0.0 0.0 0.0 0.0 0.0 0.0 0.0 0.0 0.0 0.0 0.0 0.0 0.0 0.0 0.0 0.0 0.0 0.0 0.0 0.0 0.0 0.0 0.0 0.0 0.0 0.0 0.0 0.0 0.0 0.0 0.0 0.0 0.0 0.0 0.0 0.0 0.0 0.0 0.0 0.0 0.0 0.0 0.0 0.0 0.0 0.0 0.0 0.0 0.0 0.0 0.0 0.0 0.0 0.0 0.0 0.0 0.0 0.0 0.0 0.0 0.0 0.0 0.0 0.0 0.0 0.0 0.0 0.0 0.0 0.0 0.0 0.0 0.0 0.0 0.0 0.0 0.0 0.0 0.0 0.0 0.0 0.0 0.0 0.0 0.0 0.0 0.0 0.0 0.0 0.0 0.0 0.0 0.0 0.0 0.0 0.0 0.0 0.0 0.0 0.0 0.0 0.0 0.0 0.0 0.0 0.0 0.0 0.0 0.0 0.0 0.0 0.0 0.0 0.0 0.0 0.0 0.0 0.0 0.0 0.0 0.0 0.0 0.0 0.0 0.0 0.0 0.0 0.0 0.0 0.0 0.0 0.0 0.0 0.0 0.0 0.0 0.0 0.0 0.0 0.0 0.0 0.0 0.0 0.0 0.0 0.0 0.0 0.0 0.0 0.0 0.0 0.0 0.0 0.0 0.0 0.0 0.0 0.0; 0.0 0.0 0.0 0.0 0.0 0.0 0.0 0.0 0.0 0.0 0.0 0.0 0.0 0.0 0.0 0.0 0.0 0.0 0.0 0.0 0.0 0.0 0.0 0.0 0.0 0.0 0.0 0.0 0.0 0.0 0.0 0.0 0.0 0.0 0.0 0.0 0.0 0.0 0.0 0.0 0.0 0.0 0.0 0.0 0.0 0.0 0.0 0.0 0.0 0.0 0.0 0.0 0.0 0.0 0.0 0.0 0.0 0.0 0.0 0.0 0.0 0.0 0.0 0.0 0.0 0.0 0.0 0.0 0.0 0.0 0.0 0.0 0.0 0.0 0.0 0.0 0.0 0.0 0.0 0.0 0.0 0.0 0.0 0.0 0.0 0.0 0.0 0.0 0.0 0.0 0.0 0.0 0.0 0.0 0.0 0.0 0.0 0.0 0.0 0.0 0.0 0.0 0.0 0.0 0.0 0.0 0.0 0.0 0.0 0.0 0.0 0.0 0.0 0.0 0.0 0.0 0.0 1.39545508535459e9 1.8140916109609856e10 0.0 0.0 0.0 0.0 0.0 0.0 0.0 0.0 0.0 0.0 0.0 0.0 0.0 0.0 0.0 0.0 0.0 0.0 0.0 0.0 0.0 0.0 0.0 0.0 0.0 0.0 2.7909101707092022e10 3.3630467557045795e10 0.0 0.0 0.0 0.0 0.0 0.0 0.0 0.0 0.0 0.0 0.0 0.0 0.0 0.0 0.0 0.0 0.0 0.0 0.0 0.0 0.0 0.0 0.0 0.0 0.0 0.0 3.5584104676541885e10 3.3630467557045795e10 0.0 0.0 0.0 0.0 0.0 0.0 0.0 0.0 0.0 0.0 0.0 0.0 1.39545508535459e9 3.4886377133865027e9 3.4886377133865027e9 2.790910170709201e8 0.0 0.0 0.0 0.0 0.0 0.0 0.0 0.0 0.0 0.0 3.5584104676541885e10 3.3630467557045795e10 0.0 0.0 0.0 0.0 0.0 0.0 0.0 0.0 0.0 0.0 0.0 9.628640088946777e9 2.6653192130272728e10 3.53050136594712e10 3.53050136594712e10 1.5070914921829601e10 2.790910170709201e8 0.0 0.0 0.0 0.0 0.0 0.0 0.0 0.0 0.0 3.5584104676541885e10 3.3630467557045795e10 0.0 0.0 0.0 0.0 0.0 0.0 0.0 0.0 0.0 0.0 0.0 2.5118191536382687e10 3.0141829843659203e10 3.0141829843659203e10 3.488637713386508e10 3.53050136594712e10 1.2698641276726791e10 0.0 0.0 0.0 0.0 0.0 0.0 0.0 0.0 0.0 3.5444559168006996e10 3.3630467557045795e10 0.0 0.0 0.0 0.0"
     ]
    },
    {
     "name": "stdout",
     "output_type": "stream",
     "text": [
      " 0.0 1.2559095768191319e9 1.8280461618145264e10 9.210003563340351e9 0.0 0.0 0.0 0.0 0.0 0.0 2.0513189754712494e10 3.53050136594712e10 2.972319331805277e10 5.581820341418402e8 0.0 0.0 0.0 0.0 0.0 0.0 0.0 0.0 3.5584104676541885e10 3.3630467557045795e10 0.0 0.0 0.0 0.0 0.0 6.9772754267730055e9 3.53050136594712e10 2.6653192130272728e10 0.0 0.0 0.0 0.0 0.0 0.0 4.744547290205631e9 3.3630467557045795e10 3.53050136594712e10 4.186365256063794e9 0.0 0.0 0.0 0.0 0.0 0.0 0.0 0.0 3.5444559168006996e10 3.488637713386508e10 1.102409517430126e10 0.0 0.0 0.0 0.0 1.0884549665765747e10 3.53050136594712e10 2.6653192130272728e10 0.0 0.0 0.0 0.0 0.0 0.0 0.0 3.2932740014368404e10 3.53050136594712e10 1.8001370601074192e10 0.0 0.0 0.0 0.0 0.0 0.0 0.0 0.0 3.5444559168006996e10 3.4467740608258415e10 7.954093986521158e9 0.0 0.0 0.0 0.0 2.428091848516993e10 3.53050136594712e10 2.6653192130272728e10 0.0 0.0 0.0 0.0 0.0 0.0 0.0 3.2932740014368404e10 3.53050136594712e10 1.8001370601074192e10 0.0 0.0 0.0 0.0 0.0 0.0 0.0 0.0 3.5444559168006996e10 3.4467740608258415e10 7.954093986521158e9 0.0 0.0 0.0 9.3495490718758e9 3.2653648997297592e10 3.53050136594712e10 2.6653192130272728e10 0.0 0.0 0.0 0.0 0.0 0.0 0.0 3.2932740014368404e10 3.53050136594712e10 3.1118648403407284e10 0.0 0.0 0.0 0.0 0.0 0.0 0.0 0.0 3.5444559168006996e10 3.53050136594712e10 1.5489551447436035e10 0.0 0.0 9.210003563340351e9 3.279319450583295e10 3.53050136594712e10 3.53050136594712e10 2.6653192130272728e10 0.0 0.0 0.0 0.0 0.0 0.0 0.0 3.2932740014368404e10 3.53050136594712e10 2.1769099331531494e10 0.0 0.0 0.0 0.0 0.0 0.0 0.0 0.0 3.5444559168006996e10 3.53050136594712e10 1.5489551447436035e10 0.0 9.070458054804928e9 3.2932740014368404e10 3.53050136594712e10 3.53050136594712e10 3.53050136594712e10 2.9444102300982025e10 2.79091017070918e9 0.0 0.0 0.0 0.0 0.0 1.200091373404953e10 3.488637713386508e10 3.53050136594712e10 1.2559095768191343e10 0.0 0.0 0.0 0.0 0.0 0.0 0.0 0.0 3.5444559168006996e10 3.53050136594712e10 1.5489551447436035e10 8.930912546269444e9 3.30722855229039e10 3.53050136594712e10 3.0281375352194675e10 6.000456867024765e9 2.6792737638808205e10 3.53050136594712e10 2.623455560466636e10 2.6513646621737313e9 0.0 0.0 0.0 1.1582277208443113e10 3.1955921454620083e10 3.53050136594712e10 2.16295538229962e10 1.3954550853546005e8 0.0 0.0 0.0 0.0 0.0 0.0 0.0 0.0 2.065273526324812e10 3.53050136594712e10 3.2514103488761997e10 3.3211831031439365e10 3.53050136594712e10 3.3490922048510353e10 1.0047276614553055e10 0.0 7.535457460914801e9 3.1955921454620083e10 3.53050136594712e10 1.4094096362081478e10 0.0 0.0 1.1303186191372238e10 3.0281375352194675e10 3.53050136594712e10 2.9583647809517563e10 3.4886377133865027e9 0.0 0.0 0.0 0.0 0.0 0.0 0.0 0.0 0.0 1.1442731699907713e10 3.53050136594712e10 3.53050136594712e10 3.53050136594712e10 3.3630467557045795e10 9.907731106017591e9 0.0 0.0 0.0 2.59554645875954e10 3.53050136594712e10 2.9025465775375675e10 1.3954550853546011e10 1.3954550853546011e10 3.22350124716912e10 3.53050136594712e10 3.53050136594712e10 1.311727780233318e10 0.0 0.0 0.0 0.0 0.0 0.0 0.0 0.0 0.0 0.0 1.3954550853546005e8 1.3396368819404102e10 3.53050136594712e10 2.4978646027847336e10 2.930455679244645e9 0.0 0.0 0.0 0.0 6.698184409702051e9 3.1816375946084633e10 3.53050136594712e10 3.53050136594712e10 3.53050136594712e10 3.53050136594712e10 3.53050136594712e10 6.419093392631107e9 2.790910170709201e8 0.0 0.0 0.0 0.0 0.0 0.0 0.0 0.0 0.0 0.0 0.0 1.3954550853546005e8 2.5118191536382637e9 1.1163640682836804e9 0.0 0.0 0.0 0.0 0.0 0.0 6.55863890116659e9 2.428091848516993e10 3.53050136594712e10 3.53050136594712e10 2.1908644840066933e10 4.605001781670176e9 2.790910170709201e8 0.0 0.0 0.0 0.0 0.0 0.0 0.0 0.0 0.0 0.0 0.0 0.0 0.0 0.0 0.0 0.0 0.0 0.0 0.0 0.0 0.0 0.0 5.581820341418402e8 1.6745461024255128e9 1.6745461024255128e9 2.790910170709201e8 0.0 0.0 0.0 0.0 0.0 0.0 0.0 0.0 0.0 0.0 0.0 0.0 0.0 0.0 0.0 0.0 0.0 0.0 0.0 0.0 0.0 0.0 0.0 0.0 0.0 0.0 0.0 0.0 0.0 0.0 0.0 0.0 0.0 0.0 0.0 0.0 0.0 0.0 0.0 0.0 0.0 0.0 0.0 0.0 0.0 0.0 0.0 0.0 0.0 0.0 0.0 0.0 0.0 0.0 0.0 0.0 0.0 0.0 0.0 0.0 0.0 0.0 0.0 0.0 0.0 0.0 0.0 0.0 0.0 0.0 0.0 0.0 0.0 0.0 0.0 0.0 0.0 0.0 0.0 0.0 0.0 0.0 0.0 0.0 0.0 0.0 0.0 0.0 0.0 0.0 0.0 0.0 0.0 0.0 0.0 0.0 0.0 0.0 0.0 0.0 0.0 0.0 0.0 0.0 0.0 0.0 0.0 0.0 0.0 0.0 0.0 0.0 0.0 0.0 0.0 0.0 0.0 0.0 0.0 0.0 0.0 0.0 0.0 0.0 0.0 0.0 0.0 0.0 0.0 0.0 0.0 0.0 0.0 0.0 0.0 0.0 0.0 0.0 0.0 0.0 0.0 0.0 0.0 0.0 0.0 0.0 0.0 0.0 0.0 0.0 0.0 0.0 0.0 0.0 0.0 0.0 0.0 0.0 0.0 0.0 0.0 0.0 0.0 0.0 0.0 0.0 0.0 0.0 0.0 0.0 0.0 0.0 0.0 0.0 0.0 0.0; 0.0 0.0 0.0 0.0 0.0 0.0 0.0 0.0 0.0 0.0 0.0 0.0 0.0 0.0 0.0 0.0 0.0 0.0 0.0 0.0 0.0 0.0 0.0 0.0 0.0 0.0 0.0 0.0 0.0 0.0 0.0 0.0 0.0 0.0 0.0 0.0 0.0 0.0 0.0 0.0 0.0 0.0 0.0 0.0 0.0 0.0 0.0 0.0 0.0 0.0 0.0 0.0 0.0 0.0 0.0 0.0 0.0 0.0 0.0 0.0 0.0 0.0 0.0 0.0 0.0 0.0 0.0 0.0 0.0 0.0 0.0 0.0 0.0 0.0 0.0 0.0 0.0 0.0 0.0 0.0 0.0 0.0 0.0 0.0 0.0 0.0 0.0 0.0 0.0 0.0 0.0 0.0 0.0 0.0 0.0 0.0 0.0 0.0 0.0 0.0 0.0 0.0 0.0 0.0 0.0 0.0 0.0 0.0 0.0 0.0 0.0 0.0 0.0 0.0 0.0 0.0 0.0 7521.4652468111335 97779.04820854565 0.0 0.0 0.0 0.0 0.0 0.0 0.0 0.0 0.0 0.0 0.0 0.0 0.0 0.0 0.0 0.0 0.0 0.0 0.0 0.0 0.0 0.0 0.0 0.0 0.0 0.0 150429.30493622486 181267.31244814998 0.0 0.0 0.0 0.0 0.0 0.0 0.0 0.0 0.0 0.0 0.0 0.0 0.0 0.0 0.0 0.0 0.0 0.0 0.0 0.0 0.0 0.0 0.0 0.0 0.0 0.0 191797.3637936851 181267.31244814998 0.0 0.0 0.0 0.0 0.0 0.0 0.0 0.0 0.0 0.0 0.0 0.0 7521.4652468111335 18803.663117028107 18803.663117028107 1504.293049362238 0.0 0.0 0.0 0.0 0.0 0.0 0.0 0.0 0.0 0.0 191797.3637936851 181267.31244814998 0.0 0.0 0.0 0.0 0.0 0.0 0.0 0.0 0.0 0.0 0.0 51898.11020299709 143659.98621409416 190293.0707443241 190293.0707443241 81231.82466556123 1504.293049362238 0.0 0.0 0.0 0.0 0.0 0.0 0.0 0.0 0.0 191797.3637936851 181267.31244814998 0.0 0.0 0.0 0.0 0.0 0.0 0.0 0.0 0.0 0.0 0.0 135386.37444260097 162463.64933112246 162463.64933112246 188036.63117027836 190293.0707443241 68445.33374598187 0.0 0.0 0.0 0.0 0.0 0.0 0.0 0.0 0.0 191045.2172690053 181267.31244814998 0.0 0.0 0.0 0.0 0.0 6769.318722130064 98531.19473322728 49641.67062895424 0.0 0.0 0.0 0.0 0.0 0.0 110565.5391281238 190293.0707443241 160207.2097570789 3008.586098724476 0.0 0.0 0.0 0.0 0.0 0.0 0.0 0.0 191797.3637936851 181267.31244814998 0.0 0.0 0.0 0.0 0.0 37607.326234056214 190293.0707443241 143659.98621409416 0.0 0.0 0.0 0.0 0.0 0.0 25572.981839158238 181267.31244814998 190293.0707443241 22564.395740433607 0.0 0.0 0.0 0.0 0.0 0.0 0.0 0.0 191045.2172690053 188036.63117027836 59419.57544980846 0.0 0.0 0.0 0.0 58667.42892512708 190293.0707443241 143659.98621409416 0.0 0.0 0.0 0.0 0.0 0.0 0.0 177506.57982474548 190293.0707443241 97026.90168386385 0.0 0.0 0.0 0.0 0.0 0.0 0.0 0.0 191045.2172690053 185780.19159623637 42872.35190682362 0.0 0.0 0.0 0.0 130873.49529451429 190293.0707443241 143659.98621409416 0.0 0.0 0.0 0.0 0.0 0.0 0.0 177506.57982474548 190293.0707443241 97026.90168386385 0.0 0.0 0.0 0.0 0.0 0.0 0.0 0.0 191045.2172690053 185780.19159623637 42872.35190682362 0.0 0.0 0.0 50393.81715363507 176002.28677538317 190293.0707443241 143659.98621409416 0.0 0.0 0.0 0.0 0.0 0.0 0.0 177506.57982474548 190293.0707443241 167728.67500389004 0.0 0.0 0.0 0.0 0.0 0.0 0.0 0.0 191045.2172690053 190293.0707443241 83488.26423960405 0.0 0.0 49641.67062895424 176754.4333000623 190293.0707443241 190293.0707443241 143659.98621409416 0.0 0.0 0.0 0.0 0.0 0.0 0.0 177506.57982474548 190293.0707443241 117334.85785025416 0.0 0.0 0.0 0.0 0.0 0.0 0.0 0.0 191045.2172690053 190293.0707443241 83488.26423960405 0.0 48889.52410427282 177506.57982474548 190293.0707443241 190293.0707443241 190293.0707443241 158702.91670771653 15042.930493622267 0.0 0.0 0.0 0.0 0.0 64684.601122576874 188036.63117027836 190293.0707443241 67693.18722130048 0.0 0.0 0.0 0.0 0.0 0.0 0.0 0.0 191045.2172690053 190293.0707443241 83488.26423960405 48137.377579591615 178258.72634942536 190293.0707443241 163215.79585580304 32342.300561288437 144412.13273877514 190293.0707443241 141403.5466400508 14290.78396894124 0.0 0.0 0.0 62428.161548532895 172241.55415197674 190293.0707443241 116582.71132557397 752.146524681119 0.0 0.0 0.0 0.0 0.0 0.0 0.0 0.0 111317.68565280554 190293.0707443241 175250.14025070064 179010.87287410643 190293.0707443241 180515.16592346886 54154.54977704051 0.0 40615.912332780616 172241.55415197674 190293.0707443241 75966.7989927934 0.0 0.0 60923.868499170865 163215.79585580304 190293.0707443241 159455.0632323961 18803.663117028107 0.0 0.0 0.0 0.0 0.0 0.0 0.0 0.0 0.0 61676.015023852044 190293.0707443241 190293.0707443241 190293.0707443241 181267.31244814998 53402.403252359625 0.0 0.0 0.0 139899.25359068785 190293.0707443241 156446.47713367423 75214.65246811243 75214.65246811243 173745.84720133856 190293.0707443241 190293.0707443241 70701.7733200254 0.0 0.0 0.0 0.0 0.0 0.0 0.0 0.0 0.0 0.0 752.146524681119 72206.06636938757 190293.0707443241 134634.22791792054 15795.077018303513 0.0 0.0 0.0 0.0 36103.033184693784 171489.40762729448 190293.0707443241 190293.0707443241 190293.0707443241 190293.0707443241 190293.0707443241 34598.74013533142 1504.293049362238 0.0 0.0 0.0 0.0 0.0 0.0 0.0 0.0 0.0 0.0 0.0 752.146524681119 13538.637444260128 6017.172197448952 0.0 0.0 0.0 0.0 0.0 0.0 35350.8866600127 130873.49529451429 190293.0707443241 190293.0707443241 118087.00437493532 24820.83531447712 1504.293049362238 0.0 0.0 0.0 0.0 0.0 0.0 0.0 0.0 0.0 0.0 0.0 0.0 0.0 0.0 0.0 0.0 0.0 0.0 0.0 0.0 0.0 0.0 3008.586098724476 9025.758296173446 9025.758296173446 1504.293049362238 0.0 0.0 0.0 0.0 0.0 0.0 0.0 0.0 0.0 0.0 0.0 0.0 0.0 0.0 0.0 0.0 0.0 0.0 0.0 0.0 0.0 0.0 0.0 0.0 0.0 0.0 0.0 0.0 0.0 0.0 0.0 0.0 0.0 0.0 0.0 0.0 0.0 0.0 0.0 0.0 0.0 0.0 0.0 0.0 0.0 0.0 0.0 0.0 0.0 0.0 0.0 0.0 0.0 0.0 0.0 0.0 0.0 0.0 0.0 0.0 0.0 0.0 0.0 0.0 0.0 0.0 0.0 0.0 0.0 0.0 0.0 0.0 0.0 0.0 0.0 0.0 0.0 0.0 0.0 0.0 0.0 0.0 0.0 0.0 0.0 0.0 0.0 0.0 0.0 0.0 0.0 0.0 0.0 0.0 0.0 0.0 0.0 0.0 0.0 0.0 0.0 0.0 0.0 0.0 0.0 0.0 0.0 0.0 0.0 0.0 0.0 0.0 0.0 0.0 0.0 0.0 0.0 0.0 0.0 0.0 0.0 0.0 0.0 0.0 0.0 0.0 0.0 0.0 0.0 0.0 0.0 0.0 0.0 0.0 0.0 0.0 0.0 0.0 0.0 0.0 0.0 0.0 0.0 0.0 0.0 0.0 0.0 0.0 0.0 0.0 0.0 0.0 0.0 0.0 0.0 0.0 0.0 0.0 0.0 0.0 0.0 0.0 0.0 0.0 0.0 0.0 0.0 0.0 0.0 0.0 0.0 0.0 0.0 0.0 0.0 0.0; 0.0 0.0 0.0 0.0 0.0 0.0 0.0 0.0 0.0 0.0 0.0 0.0 0.0 0.0 0.0 0.0 0.0 0.0 0.0 0.0 "
     ]
    },
    {
     "name": "stdout",
     "output_type": "stream",
     "text": [
      "0.0 0.0 0.0 0.0 0.0 0.0 0.0 0.0 0.0 0.0 0.0 0.0 0.0 0.0 0.0 0.0 0.0 0.0 0.0 0.0 0.0 0.0 0.0 0.0 0.0 0.0 0.0 0.0 0.0 0.0 0.0 0.0 0.0 0.0 0.0 0.0 0.0 0.0 0.0 0.0 0.0 0.0 0.0 0.0 0.0 0.0 0.0 0.0 0.0 0.0 0.0 0.0 0.0 0.0 0.0 0.0 0.0 0.0 0.0 0.0 0.0 0.0 0.0 0.0 0.0 0.0 0.0 0.0 0.0 0.0 0.0 0.0 0.0 0.0 0.0 0.0 0.0 0.0 0.0 0.0 0.0 0.0 0.0 0.0 0.0 0.0 0.0 0.0 0.0 0.0 0.0 0.0 0.0 0.0 0.0 0.0 0.0 -2133.191881921339 -27731.49446497721 0.0 0.0 0.0 0.0 0.0 0.0 0.0 0.0 0.0 0.0 0.0 0.0 0.0 0.0 0.0 0.0 0.0 0.0 0.0 0.0 0.0 0.0 0.0 0.0 0.0 0.0 -42663.83763842623 -51409.92435430427 0.0 0.0 0.0 0.0 0.0 0.0 0.0 0.0 0.0 0.0 0.0 0.0 0.0 0.0 0.0 0.0 0.0 0.0 0.0 0.0 0.0 0.0 0.0 0.0 0.0 0.0 -54396.392988993546 -51409.92435430427 0.0 0.0 0.0 0.0 0.0 0.0 0.0 0.0 0.0 0.0 0.0 0.0 -2133.191881921339 -5332.979704803279 -5332.979704803279 -426.638376384264 0.0 0.0 0.0 0.0 0.0 0.0 0.0 0.0 0.0 0.0 -54396.392988993546 -51409.92435430427 0.0 0.0 0.0 0.0 0.0 0.0 0.0 0.0 0.0 0.0 0.0 -14719.023985257218 -40743.96494469748 -53969.75461260968 -53969.75461260968 -23038.472324750226 -426.638376384264 0.0 0.0 0.0 0.0 0.0 0.0 0.0 0.0 0.0 -54396.392988993546 -51409.92435430427 0.0 0.0 0.0 0.0 0.0 0.0 0.0 0.0 0.0 0.0 0.0 -38397.45387458415 -46076.94464950045 -46076.94464950045 -53329.797048032786 -53969.75461260968 -19412.04612548408 0.0 0.0 0.0 0.0 0.0 0.0 0.0 0.0 0.0 -54183.0738008022 -51409.92435430427 0.0 0.0 0.0 0.0 0.0 -1919.872693729197 -27944.813653169353 -14079.066420680827 0.0 0.0 0.0 0.0 0.0 0.0 -31357.92066424343 -53969.75461260968 -45436.98708492421 -853.276752768528 0.0 0.0 0.0 0.0 0.0 0.0 0.0 0.0 -54396.392988993546 -51409.92435430427 0.0 0.0 0.0 0.0 0.0 -10665.959409606558 -53969.75461260968 -40743.96494469748 0.0 0.0 0.0 0.0 0.0 0.0 -7252.852398532554 -51409.92435430427 -53969.75461260968 -6399.575645763941 0.0 0.0 0.0 0.0 0.0 0.0 0.0 0.0 -54183.0738008022 -53329.797048032786 -16852.215867178416 0.0 0.0 0.0 0.0 -16638.89667898636 -53969.75461260968 -40743.96494469748 0.0 0.0 0.0 0.0 0.0 0.0 0.0 -50343.328413343224 -53969.75461260968 -27518.17527678504 0.0 0.0 0.0 0.0 0.0 0.0 0.0 0.0 -54183.0738008022 -52689.839483456955 -12159.193726951607 0.0 0.0 0.0 0.0 -37117.538745430895 -53969.75461260968 -40743.96494469748 0.0 0.0 0.0 0.0 0.0 0.0 0.0 -50343.328413343224 -53969.75461260968 -27518.17527678504 0.0 0.0 0.0 0.0 0.0 0.0 0.0 0.0 -54183.0738008022 -52689.839483456955 -12159.193726951607 0.0 0.0 0.0 -14292.385608872788 -49916.69003695918 -53969.75461260968 -40743.96494469748 0.0 0.0 0.0 0.0 0.0 0.0 0.0 -50343.328413343224 -53969.75461260968 -47570.17896684578 0.0 0.0 0.0 0.0 0.0 0.0 0.0 0.0 -54183.0738008022 -53969.75461260968 -23678.429889326766 0.0 0.0 -14079.066420680827 -50130.00922515097 -53969.75461260968 -53969.75461260968 -40743.96494469748 0.0 0.0 0.0 0.0 0.0 0.0 0.0 -50343.328413343224 -53969.75461260968 -33277.79335797272 0.0 0.0 0.0 0.0 0.0 0.0 0.0 0.0 -54183.0738008022 -53969.75461260968 -23678.429889326766 0.0 -13865.747232488606 -50343.328413343224 -53969.75461260968 -53969.75461260968 -53969.75461260968 -45010.348708540005 -4266.383763842678 0.0 0.0 0.0 0.0 0.0 -18345.450184523295 -53329.797048032786 -53969.75461260968 -19198.726937292075 0.0 0.0 0.0 0.0 0.0 0.0 0.0 0.0 -54183.0738008022 -53969.75461260968 -23678.429889326766 -13652.428044296448 -50556.64760153555 -53969.75461260968 -46290.263837692735 -9172.725092261648 -40957.28413288937 -53969.75461260968 -40104.00738012115 -4053.064575650511 0.0 0.0 0.0 -17705.49261994691 -48850.0940959984 -53969.75461260968 -33064.474169780326 -213.319188192132 0.0 0.0 0.0 0.0 0.0 0.0 0.0 0.0 -31571.239852435498 -53969.75461260968 -49703.37084876666 -50769.966789727696 -53969.75461260968 -51196.60516611153 -15358.981549833576 0.0 -11519.236162375113 -48850.0940959984 -53969.75461260968 -21545.238007405587 0.0 0.0 -17278.85424356274 -46290.263837692735 -53969.75461260968 -45223.667896732084 -5332.979704803279 0.0 0.0 0.0 0.0 0.0 0.0 0.0 0.0 0.0 -17492.173431754825 -53969.75461260968 -53969.75461260968 -53969.75461260968 -51409.92435430427 -15145.662361641449 0.0 0.0 0.0 -39677.36900373676 -53969.75461260968 -44370.39114396339 -21331.918819213115 -21331.918819213115 -49276.73247238271 -53969.75461260968 -53969.75461260968 -20052.003690060574 0.0 0.0 0.0 0.0 0.0 0.0 0.0 0.0 0.0 0.0 -213.319188192132 -20478.642066444685 -53969.75461260968 -38184.13468639177 -4479.702952034778 0.0 0.0 0.0 0.0 -10239.321033222343 -48636.77490780643 -53969.75461260968 -53969.75461260968 -53969.75461260968 -53969.75461260968 -53969.75461260968 -9812.68265683815 -426.638376384264 0.0 0.0 0.0 0.0 0.0 0.0 0.0 0.0 0.0 0.0 0.0 -213.319188192132 -3839.745387458394 -1706.553505537056 0.0 0.0 0.0 0.0 0.0 0.0 -10026.001845030287 -37117.538745430895 -53969.75461260968 -53969.75461260968 -33491.11254616479 -7039.5332103404135 -426.638376384264 0.0 0.0 0.0 0.0 0.0 0.0 0.0 0.0 0.0 0.0 0.0 0.0 0.0 0.0 0.0 0.0 0.0 0.0 0.0 0.0 0.0 0.0 -853.276752768528 -2559.8302583055856 -2559.8302583055856 -426.638376384264 0.0 0.0 0.0 0.0 0.0 0.0 0.0 0.0 0.0 0.0 0.0 0.0 0.0 0.0 0.0 0.0 0.0 0.0 0.0 0.0 0.0 0.0 0.0 0.0 0.0 0.0 0.0 0.0 0.0 0.0 0.0 0.0 0.0 0.0 0.0 0.0 0.0 0.0 0.0 0.0 0.0 0.0 0.0 0.0 0.0 0.0 0.0 0.0 0.0 0.0 0.0 0.0 0.0 0.0 0.0 0.0 0.0 0.0 0.0 0.0 0.0 0.0 0.0 0.0 0.0 0.0 0.0 0.0 0.0 0.0 0.0 0.0 0.0 0.0 0.0 0.0 0.0 0.0 0.0 0.0 0.0 0.0 0.0 0.0 0.0 0.0 0.0 0.0 0.0 0.0 0.0 0.0 0.0 0.0 0.0 0.0 0.0 0.0 0.0 0.0 0.0 0.0 0.0 0.0 0.0 0.0 0.0 0.0 0.0 0.0 0.0 0.0 0.0 0.0 0.0 0.0 0.0 0.0 0.0 0.0 0.0 0.0 0.0 0.0 0.0 0.0 0.0 0.0 0.0 0.0 0.0 0.0 0.0 0.0 0.0 0.0 0.0 0.0 0.0 0.0 0.0 0.0 0.0 0.0 0.0 0.0 0.0 0.0 0.0 0.0 0.0 0.0 0.0 0.0 0.0 0.0 0.0 0.0 0.0 0.0 0.0 0.0 0.0 0.0 0.0 0.0 0.0 0.0 0.0 0.0 0.0 0.0 0.0 0.0 0.0 0.0; 0.0 0.0 0.0 0.0 0.0 0.0 0.0 0.0 0.0 0.0 0.0 0.0 0.0 0.0 0.0 0.0 0.0 0.0 0.0 0.0 0.0 0.0 0.0 0.0 0.0 0.0 0.0 0.0 0.0 0.0 0.0 0.0 0.0 0.0 0.0 0.0 0.0 0.0 0.0 0.0 0.0 0.0 0.0 0.0 0.0 0.0 0.0 0.0 0.0 0.0 0.0 0.0 0.0 0.0 0.0 0.0 0.0 0.0 0.0 0.0 0.0 0.0 0.0 0.0 0.0 0.0 0.0 0.0 0.0 0.0 0.0 0.0 0.0 0.0 0.0 0.0 0.0 0.0 0.0 0.0 0.0 0.0 0.0 0.0 0.0 0.0 0.0 0.0 0.0 0.0 0.0 0.0 0.0 0.0 0.0 0.0 0.0 0.0 0.0 0.0 0.0 0.0 0.0 0.0 0.0 0.0 0.0 0.0 0.0 0.0 0.0 0.0 0.0 0.0 0.0 0.0 0.0 494135.5561044876 6.423762229358298e6 0.0 0.0 0.0 0.0 0.0 0.0 0.0 0.0 0.0 0.0 0.0 0.0 0.0 0.0 0.0 0.0 0.0 0.0 0.0 0.0 0.0 0.0 0.0 0.0 0.0 0.0 9.882711122089777e6 1.1908666902118143e7 0.0 0.0 0.0 0.0 0.0 0.0 0.0 0.0 0.0 0.0 0.0 0.0 0.0 0.0 0.0 0.0 0.0 0.0 0.0 0.0 0.0 0.0 0.0 0.0 0.0 0.0 1.260045668066442e7 1.1908666902118143e7 0.0 0.0 0.0 0.0 0.0 0.0 0.0 0.0 0.0 0.0 0.0 0.0 494135.5561044876 1.2353388902612221e6 1.2353388902612221e6 98827.1112208981 0.0 0.0 0.0 0.0 0.0 0.0 0.0 0.0 0.0 0.0 1.260045668066442e7 1.1908666902118143e7 0.0 0.0 0.0 0.0 0.0 0.0 0.0 0.0 0.0 0.0 0.0 3.4095353371209516e6 9.437989121595751e6 1.250162956944343e7 1.250162956944343e7 5.336664005928477e6 98827.1112208981 0.0 0.0 0.0 0.0 0.0 0.0 0.0 0.0 0.0 1.260045668066442e7 1.1908666902118143e7 0.0 0.0 0.0 0.0 0.0 0.0 0.0 0.0 0.0 0.0 0.0 8.894440009880753e6 1.0673328011856955e7 1.0673328011856955e7 1.2353388902612198e7 1.250162956944343e7 4.496633560550821e6 0.0 0.0 0.0 0.0 0.0 0.0 0.0 0.0 0.0 1.2551043125054019e7 1.1908666902118143e7 0.0 0.0 0.0 0.0 0.0 444722.0004940387 6.473175784968749e6 3.2612946702896324e6 0.0 0.0 0.0 0.0 0.0 0.0 7.263792674735975e6 1.250162956944343e7 1.0525087345025541e7 197654.2224417962 0.0 0.0 0.0 0.0 0.0 0.0 0.0 0.0 1.260045668066442e7 1.1908666902118143e7 0.0 0.0 0.0 0.0 0.0 2.4706777805224443e6 1.250162956944343e7 9.437989121595751e6 0.0 0.0 0.0 0.0 0.0 0.0 1.6800608907552594e6 1.1908666902118143e7 1.250162956944343e7 1.4824066683134541e6 0.0 0.0 0.0 0.0 0.0 0.0 0.0 0.0 1.2551043125054019e7 1.2353388902612198e7 3.903670893225442e6 0.0 0.0 0.0 0.0 3.854257337615023e6 1.250162956944343e7 9.437989121595751e6 0.0 0.0 0.0 0.0 0.0 0.0 0.0 1.1661599124065934e7 1.250162956944343e7 6.3743486737479e6 0.0 0.0 0.0 0.0 0.0 0.0 0.0 0.0 1.2551043125054019e7 1.220514823578088e7 2.816572669795568e6 0.0 0.0 0.0 0.0 8.597958676218089e6 1.250162956944343e7 9.437989121595751e6 0.0 0.0 0.0 0.0 0.0 0.0 0.0 1.1661599124065934e7 1.250162956944343e7 6.3743486737479e6 0.0 0.0 0.0 0.0 0.0 0.0 0.0 0.0 1.2551043125054019e7 1.220514823578088e7 2.816572669795568e6 0.0 0.0 0.0 3.3107082259000675e6 1.1562772012844898e7 1.250162956944343e7 9.437989121595751e6 0.0 0.0 0.0 0.0 0.0 0.0 0.0 1.1661599124065934e7 1.250162956944343e7 1.1019222901130132e7 0.0 0.0 0.0 0.0 0.0 0.0 0.0 0.0 1.2551043125054019e7 1.250162956944343e7 5.484904672759848e6 0.0 0.0 3.2612946702896324e6 1.1612185568455487e7 1.250162956944343e7 1.250162956944343e7 9.437989121595751e6 0.0 0.0 0.0 0.0 0.0 0.0 0.0 1.1661599124065934e7 1.250162956944343e7 7.708514675230046e6 0.0 0.0 0.0 0.0 0.0 0.0 0.0 0.0 1.2551043125054019e7 1.250162956944343e7 5.484904672759848e6 0.0 3.211881114679149e6 1.1661599124065934e7 1.250162956944343e7 1.250162956944343e7 1.250162956944343e7 1.0426260233804705e7 988271.1122089752 0.0 0.0 0.0 0.0 0.0 4.249565782498589e6 1.2353388902612198e7 1.250162956944343e7 4.447220004940377e6 0.0 0.0 0.0 0.0 0.0 0.0 0.0 0.0 1.2551043125054019e7 1.250162956944343e7 5.484904672759848e6 3.1624675590687394e6 1.1711012679676343e7 1.250162956944343e7 1.0722741567467423e7 2.1247828912492944e6 9.487402677206216e6 1.250162956944343e7 9.289748454764437e6 938857.5565985264 0.0 0.0 0.0 4.10132511566723e6 1.1315704234792786e7 1.250162956944343e7 7.659101119619536e6 49413.55561044905 0.0 0.0 0.0 0.0 0.0 0.0 0.0 0.0 7.313206230346369e6 1.250162956944343e7 1.151335845723462e7 1.1760426235286836e7 1.250162956944343e7 1.1859253346507633e7 3.5577760039523095e6 0.0 2.6683320029642386e6 1.1315704234792786e7 1.250162956944343e7 4.990769116655346e6 0.0 0.0 4.0024980044463407e6 1.0722741567467423e7 1.250162956944343e7 1.0475673789415104e7 1.2353388902612221e6 0.0 0.0 0.0 0.0 0.0 0.0 0.0 0.0 0.0 4.0519115600568163e6 1.250162956944343e7 1.250162956944343e7 1.250162956944343e7 1.1908666902118143e7 3.5083624483418665e6 0.0 0.0 0.0 9.190921343543477e6 1.250162956944343e7 1.0278019566973435e7 4.941355561044889e6 4.941355561044889e6 1.1414531346013682e7 1.250162956944343e7 1.250162956944343e7 4.644874227382218e6 0.0 0.0 0.0 0.0 0.0 0.0 0.0 0.0 0.0 0.0 49413.55561044905 4.743701338603108e6 1.250162956944343e7"
     ]
    },
    {
     "name": "stdout",
     "output_type": "stream",
     "text": [
      " 8.845026454270322e6 1.0376846678194171e6 0.0 0.0 0.0 0.0 2.371850669301554e6 1.1266290679182272e7 1.250162956944343e7 1.250162956944343e7 1.250162956944343e7 1.250162956944343e7 1.250162956944343e7 2.273023558080652e6 98827.1112208981 0.0 0.0 0.0 0.0 0.0 0.0 0.0 0.0 0.0 0.0 0.0 49413.55561044905 889444.0009880774 395308.4448835924 0.0 0.0 0.0 0.0 0.0 0.0 2.322437113691109e6 8.597958676218089e6 1.250162956944343e7 1.250162956944343e7 7.757928230840445e6 1.6306473351448162e6 98827.1112208981 0.0 0.0 0.0 0.0 0.0 0.0 0.0 0.0 0.0 0.0 0.0 0.0 0.0 0.0 0.0 0.0 0.0 0.0 0.0 0.0 0.0 0.0 197654.2224417962 592962.6673253885 592962.6673253885 98827.1112208981 0.0 0.0 0.0 0.0 0.0 0.0 0.0 0.0 0.0 0.0 0.0 0.0 0.0 0.0 0.0 0.0 0.0 0.0 0.0 0.0 0.0 0.0 0.0 0.0 0.0 0.0 0.0 0.0 0.0 0.0 0.0 0.0 0.0 0.0 0.0 0.0 0.0 0.0 0.0 0.0 0.0 0.0 0.0 0.0 0.0 0.0 0.0 0.0 0.0 0.0 0.0 0.0 0.0 0.0 0.0 0.0 0.0 0.0 0.0 0.0 0.0 0.0 0.0 0.0 0.0 0.0 0.0 0.0 0.0 0.0 0.0 0.0 0.0 0.0 0.0 0.0 0.0 0.0 0.0 0.0 0.0 0.0 0.0 0.0 0.0 0.0 0.0 0.0 0.0 0.0 0.0 0.0 0.0 0.0 0.0 0.0 0.0 0.0 0.0 0.0 0.0 0.0 0.0 0.0 0.0 0.0 0.0 0.0 0.0 0.0 0.0 0.0 0.0 0.0 0.0 0.0 0.0 0.0 0.0 0.0 0.0 0.0 0.0 0.0 0.0 0.0 0.0 0.0 0.0 0.0 0.0 0.0 0.0 0.0 0.0 0.0 0.0 0.0 0.0 0.0 0.0 0.0 0.0 0.0 0.0 0.0 0.0 0.0 0.0 0.0 0.0 0.0 0.0 0.0 0.0 0.0 0.0 0.0 0.0 0.0 0.0 0.0 0.0 0.0 0.0 0.0 0.0 0.0 0.0 0.0 0.0 0.0 0.0 0.0 0.0 0.0; 0.0 0.0 0.0 0.0 0.0 0.0 0.0 0.0 0.0 0.0 0.0 0.0 0.0 0.0 0.0 0.0 0.0 0.0 0.0 0.0 0.0 0.0 0.0 0.0 0.0 0.0 0.0 0.0 0.0 0.0 0.0 0.0 0.0 0.0 0.0 0.0 0.0 0.0 0.0 0.0 0.0 0.0 0.0 0.0 0.0 0.0 0.0 0.0 0.0 0.0 0.0 0.0 0.0 0.0 0.0 0.0 0.0 0.0 0.0 0.0 0.0 0.0 0.0 0.0 0.0 0.0 0.0 0.0 0.0 0.0 0.0 0.0 0.0 0.0 0.0 0.0 0.0 0.0 0.0 0.0 0.0 0.0 0.0 0.0 0.0 0.0 0.0 0.0 0.0 0.0 0.0 0.0 0.0 0.0 0.0 0.0 0.0 0.0 0.0 0.0 0.0 0.0 0.0 0.0 0.0 0.0 0.0 0.0 0.0 0.0 0.0 0.0 0.0 0.0 0.0 0.0 0.0 205894.35101524537 2.6766265631981674e6 0.0 0.0 0.0 0.0 0.0 0.0 0.0 0.0 0.0 0.0 0.0 0.0 0.0 0.0 0.0 0.0 0.0 0.0 0.0 0.0 0.0 0.0 0.0 0.0 0.0 0.0 4.117887020304895e6 4.962053859467388e6 0.0 0.0 0.0 0.0 0.0 0.0 0.0 0.0 0.0 0.0 0.0 0.0 0.0 0.0 0.0 0.0 0.0 0.0 0.0 0.0 0.0 0.0 0.0 0.0 0.0 0.0 5.250305950888738e6 4.962053859467388e6 0.0 0.0 0.0 0.0 0.0 0.0 0.0 0.0 0.0 0.0 0.0 0.0 205894.35101524537 514735.8775381119 514735.8775381119 41178.870203048995 0.0 0.0 0.0 0.0 0.0 0.0 0.0 0.0 0.0 0.0 5.250305950888738e6 4.962053859467388e6 0.0 0.0 0.0 0.0 0.0 0.0 0.0 0.0 0.0 0.0 0.0 1.4206710220051883e6 3.9325821043911832e6 5.209127080685669e6 5.209127080685669e6 2.2236589909646343e6 41178.870203048995 0.0 0.0 0.0 0.0 0.0 0.0 0.0 0.0 0.0 5.250305950888738e6 4.962053859467388e6 0.0 0.0 0.0 0.0 0.0 0.0 0.0 0.0 0.0 0.0 0.0 3.706098318274408e6 4.447317981929269e6 4.447317981929269e6 5.147358775381116e6 5.209127080685669e6 1.8736385942387108e6 0.0 0.0 0.0 0.0 0.0 0.0 0.0 0.0 0.0 5.229716515787228e6 4.962053859467388e6 0.0 0.0 0.0 0.0 0.0 185304.91591371945 2.6972159982996993e6 1.3589027167006114e6 0.0 0.0 0.0 0.0 0.0 0.0 3.026646959924082e6 5.209127080685669e6 4.385549676624675e6 82357.74040609799 0.0 0.0 0.0 0.0 0.0 0.0 0.0 0.0 5.250305950888738e6 4.962053859467388e6 0.0 0.0 0.0 0.0 0.0 1.0294717550762238e6 5.209127080685669e6 3.9325821043911832e6 0.0 0.0 0.0 0.0 0.0 0.0 700040.7934518255 4.962053859467388e6 5.209127080685669e6 617683.0530457343 0.0 0.0 0.0 0.0 0.0 0.0 0.0 0.0 5.229716515787228e6 5.147358775381116e6 1.626565373020424e6 0.0 0.0 0.0 0.0 1.605975937918911e6 5.209127080685669e6 3.9325821043911832e6 0.0 0.0 0.0 0.0 0.0 0.0 0.0 4.859106683959784e6 5.209127080685669e6 2.656037128096676e6 0.0 0.0 0.0 0.0 0.0 0.0 0.0 0.0 5.229716515787228e6 5.085590470076481e6 1.17359780078689e6 0.0 0.0 0.0 0.0 3.58256170766527e6 5.209127080685669e6 3.9325821043911832e6 0.0 0.0 0.0 0.0 0.0 0.0 0.0 4.859106683959784e6 5.209127080685669e6 2.656037128096676e6 0.0 0.0 0.0 0.0 0.0 0.0 0.0 0.0 5.229716515787228e6 5.085590470076481e6 1.17359780078689e6 0.0 0.0 0.0 1.3794921518021403e6 4.817927813756725e6 5.209127080685669e6 3.9325821043911832e6 0.0 0.0 0.0 0.0 0.0 0.0 0.0 4.859106683959784e6 5.209127080685669e6 4.591444027639912e6 0.0 0.0 0.0 0.0 0.0 0.0 0.0 0.0 5.229716515787228e6 5.209127080685669e6 2.2854272962692184e6 0.0 0.0 1.3589027167006114e6 4.83851724885827e6 5.209127080685669e6 5.209127080685669e6 3.9325821043911832e6 0.0 0.0 0.0 0.0 0.0 0.0 0.0 4.859106683959784e6 5.209127080685669e6 3.211951875837822e6 0.0 0.0 0.0 0.0 0.0 0.0 0.0 0.0 5.229716515787228e6 5.209127080685669e6 2.2854272962692184e6 0.0 1.3383132815990837e6 4.859106683959784e6 5.209127080685669e6 5.209127080685669e6 5.209127080685669e6 4.3443708064216785e6 411788.70203049073 0.0 0.0 0.0 0.0 0.0 1.770691418731107e6 5.147358775381116e6 5.209127080685669e6 1.853049159137204e6 0.0 0.0 0.0 0.0 0.0 0.0 0.0 0.0 5.229716515787228e6 5.209127080685669e6 2.2854272962692184e6 1.3177238464975678e6 4.879696119061281e6 5.209127080685669e6 4.4679074170308225e6 885345.7093655535 3.9531715394926514e6 5.209127080685669e6 3.8708137990866033e6 391199.26692896313 0.0 0.0 0.0 1.7089231134265263e6 4.714980638249112e6 5.209127080685669e6 3.191362440736263e6 20589.435101524497 0.0 0.0 0.0 0.0 0.0 0.0 0.0 0.0 3.047236395025598e6 5.209127080685669e6 4.797338378655202e6 4.9002855541628115e6 5.209127080685669e6 4.941464424365874e6 1.4824393273097556e6 0.0 1.1118294954823172e6 4.714980638249112e6 5.209127080685669e6 2.0795329452539613e6 0.0 0.0 1.6677442432234786e6 4.4679074170308225e6 5.209127080685669e6 4.364960241523157e6 514735.8775381119 0.0 0.0 0.0 0.0 0.0 0.0 0.0 0.0 0.0 1.6883336783249902e6 5.209127080685669e6 5.209127080685669e6 5.209127080685669e6 4.962053859467388e6 1.4618498922082314e6 0.0 0.0 0.0 3.8296349288835563e6 5.209127080685669e6 4.282602501117079e6 2.0589435101524475e6 2.0589435101524475e6 4.756159508452153e6 5.209127080685669e6 5.209127080685669e6 1.9354068995433017e6 0.0 0.0 0.0 0.0 0.0 0.0 0.0 0.0 0.0 0.0 20589.435101524497 1.9765857697463257e6 5.209127080685669e6 3.685508883172897e6 432378.1371320132 0.0 0.0 0.0 0.0 988292.8848731628 4.69439120314756e6 5.209127080685669e6 5.209127080685669e6 5.209127080685669e6 5.209127080685669e6 5.209127080685669e6 947114.0146701215 41178.870203048995 0.0 0.0 0.0 0.0 0.0 0.0 0.0 0.0 0.0 0.0 0.0 20589.435101524497 370609.8318274389 164715.48081219598 0.0 0.0 0.0 0.0 0.0 0.0 967703.4497716508 3.58256170766527e6 5.209127080685669e6 5.209127080685669e6 3.2325413109393483e6 679451.3583503057 41178.870203048995 0.0 0.0 0.0 0.0 0.0 0.0 0.0 0.0 0.0 0.0 0.0 0.0 0.0 0.0 0.0 0.0 0.0 0.0 0.0 0.0 0.0 0.0 82357.74040609799 247073.2212182907 247073.2212182907 41178.870203048995 0.0 0.0 0.0 0.0 0.0 0.0 0.0 0.0 0.0 0.0 0.0 0.0 0.0 0.0 0.0 0.0 0.0 0.0 0.0 0.0 0.0 0.0 0.0 0.0 0.0 0.0 0.0 0.0 0.0 0.0 0.0 0.0 0.0 0.0 0.0 0.0 0.0 0.0 0.0 0.0 0.0 0.0 0.0 0.0 0.0 0.0 0.0 0.0 0.0 0.0 0.0 0.0 0.0 0.0 0.0 0.0 0.0 0.0 0.0 0.0 0.0 0.0 0.0 0.0 0.0 0.0 0.0 0.0 0.0 0.0 0.0 0.0 0.0 0.0 0.0 0.0 0.0 0.0 0.0 0.0 0.0 0.0 0.0 0.0 0.0 0.0 0.0 0.0 0.0 0.0 0.0 0.0 0.0 0.0 0.0 0.0 0.0 0.0 0.0 0.0 0.0 0.0 0.0 0.0 0.0 0.0 0.0 0.0 0.0 0.0 0.0 0.0 0.0 0.0 0.0 0.0 0.0 0.0 0.0 0.0 0.0 0.0 0.0 0.0 0.0 0.0 0.0 0.0 0.0 0.0 0.0 0.0 0.0 0.0 0.0 0.0 0.0 0.0 0.0 0.0 0.0 0.0 0.0 0.0 0.0 0.0 0.0 0.0 0.0 0.0 0.0 0.0 0.0 0.0 0.0 0.0 0.0 0.0 0.0 0.0 0.0 0.0 0.0 0.0 0.0 0.0 0.0 0.0 0.0 0.0 0.0 0.0 0.0 0.0 0.0 0.0; 0.0 0.0 0.0 0.0 0.0 0.0 0.0 0.0 0.0 0.0 0.0 0.0 0.0 0.0 0.0 0.0 0.0 0.0 0.0 0.0 0.0 0.0 0.0 0.0 0.0 0.0 0.0 0.0 0.0 0.0 0.0 0.0 0.0 0.0 0.0 0.0 0.0 0.0 0.0 0.0 0.0 0.0 0.0 0.0 0.0 0.0 0.0 0.0 0.0 0.0 0.0 0.0 0.0 0.0 0.0 0.0 0.0 0.0 0.0 0.0 0.0 0.0 0.0 0.0 0.0 0.0 0.0 0.0 0.0 0.0 0.0 0.0 0.0 0.0 0.0 0.0 0.0 0.0 0.0 0.0 0.0 0.0 0.0 0.0 0.0 0.0 0.0 0.0 0.0 0.0 0.0 0.0 0.0 0.0 0.0 0.0 0.0 0.0 0.0 0.0 0.0 0.0 0.0 0.0 0.0 0.0 0.0 0.0 0.0 0.0 0.0 0.0 0.0 0.0 0.0 0.0 0.0 1.1918522194855262e7 1.54940788533119e8 0.0 0.0 0.0 0.0 0.0 0.0 0.0 0.0 0.0 0.0 0.0 0.0 0.0 0.0 0.0 0.0 0.0 0.0 0.0 0.0 0.0 0.0 0.0 0.0 0.0 0.0 2.383704438971065e8 2.8723638489601195e8 0.0 0.0 0.0 0.0 0.0 0.0 0.0 0.0 0.0 0.0 0.0 0.0 0.0 0.0 0.0 0.0 0.0 0.0 0.0 0.0 0.0 0.0 0.0 0.0 0.0 0.0 3.0392231596881074e8 2.8723638489601195e8 0.0 0.0 0.0 0.0 0.0 0.0 0.0 0.0 0.0 0.0 0.0 0.0 1.1918522194855262e7 2.9796305487138312e7 2.9796305487138312e7 2.3837044389710627e6 0.0 0.0 0.0 0.0 0.0 0.0 0.0 0.0 0.0 0.0 3.0392231596881074e8 2.8723638489601195e8 0.0 0.0 0.0 0.0 0.0 0.0 0.0 0.0 0.0 0.0 0.0 8.223780314450173e7 2.2764377392173624e8 3.01538611529837e8 3.01538611529837e8 1.2872003970443667e8 2.3837044389710627e6 0.0 0.0 0.0 0.0 0.0 0.0 0.0 0.0 0.0 3.0392231596881074e8 2.8723638489601195e8 0.0 0.0 0.0 0.0 0.0 0.0 0.0 0.0 0.0 0.0 0.0 2.1453339950739455e8 2.5744007940887335e8 2.5744007940887335e8 2.9796305487138164e8 3.01538611529837e8 1.0845855197318284e8 0.0 0.0 0.0 0.0 0.0 0.0 0.0 0.0 0.0 3.027304637493251e8 2.8723638489601195e8 0.0 0.0 0.0 0.0 0.0 1.0726669975369718e7 1.561326407526052e8 7.86622464860444e7 0.0 0.0 0.0 0.0 0.0 0.0 1.7520227626437253e8 3.01538611529837e8 2.5386452275041968e8 4.767408877942125e6 0.0 0.0 0.0 0.0 0.0 0.0 0.0 0.0 3.0392231596881074e8 2.8723638489601195e8 0.0 0.0 0.0 0.0 0.0 5.9592610974276625e7 3.01538611529837e8 2.2764377392173624e8 0.0 0.0 0.0 0.0 0.0 0.0 4.052297546250834e7 2.8723638489601195e8 3.01538611529837e8 3.575556658456584e7 0.0 0.0 0.0 0.0 0.0 0.0 0.0 0.0 3.027304637493251e8 2.9796305487138164e8 9.415632533935654e7 0.0 0.0 0.0 0.0 9.29644731198707e7 3.01538611529837e8 2.2764377392173624e8 0.0 0.0 0.0 0.0 0.0 0.0 0.0 2.812771237985833e8 3.01538611529837e8 1.5374893631363338e8 0.0 0.0 0.0 0.0 0.0 0.0 0.0 0.0 3.027304637493251e8 2.9438749821292526e8 6.793557651067509e7 0.0 0.0 0.0 0.0 2.0738228619048196e8 3.01538611529837e8 2.2764377392173624e8 0.0 0.0 0.0 0.0 0.0 0.0 0.0 2.812771237985833e8 3.01538611529837e8 1.5374893631363338e8 0.0 0.0 0.0 0.0 0.0 0.0 0.0 0.0 3.027304637493251e8 2.9438749821292526e8 6.793557651067509e7 0.0 0.0 0.0 7.985409870553082e7 2.78893419359613e8 3.01538611529837e8 2.2764377392173624e8 0.0 0.0 0.0 0.0 0.0 0.0 0.0 2.812771237985833e8 3.01538611529837e8 2.6578304494527197e8 0.0 0.0 0.0 0.0 0.0 0.0 0.0 0.0 3.027304637493251e8 3.01538611529837e8 1.3229559636289293e8 0.0 0.0 7.86622464860444e7 2.80085271579098e8 3.01538611529837e8 3.01538611529837e8 2.2764377392173624e8 0.0 0.0 0.0 0.0 0.0 0.0 0.0 2.812771237985833e8 3.01538611529837e8"
     ]
    },
    {
     "name": "stdout",
     "output_type": "stream",
     "text": [
      " 1.859289462397414e8 0.0 0.0 0.0 0.0 0.0 0.0 0.0 0.0 3.027304637493251e8 3.01538611529837e8 1.3229559636289293e8 0.0 7.74703942665595e7 2.812771237985833e8 3.01538611529837e8 3.01538611529837e8 3.01538611529837e8 2.5148081831144828e8 2.3837044389710523e7 0.0 0.0 0.0 0.0 0.0 1.0249929087575454e8 2.9796305487138164e8 3.01538611529837e8 1.0726669975369728e8 0.0 0.0 0.0 0.0 0.0 0.0 0.0 0.0 3.027304637493251e8 3.01538611529837e8 1.3229559636289293e8 7.6278542047074e7 2.824689760180721e8 3.01538611529837e8 2.5863193162835705e8 5.124964543787727e7 2.288356261412231e8 3.01538611529837e8 2.2406821726327938e8 2.264519217022521e7 0.0 0.0 0.0 9.89237342172984e7 2.7293415826218706e8 3.01538611529837e8 1.8473709402025783e8 1.1918522194855313e6 0.0 0.0 0.0 0.0 0.0 0.0 0.0 0.0 1.7639412848385715e8 3.01538611529837e8 2.7770156714012814e8 2.836608282375569e8 3.01538611529837e8 2.860445326765267e8 8.581335980295774e7 0.0 6.436001985221834e7 2.7293415826218706e8 3.01538611529837e8 1.2037707416803876e8 0.0 0.0 9.65400297783277e7 2.5863193162835705e8 3.01538611529837e8 2.5267267053093296e8 2.9796305487138312e7 0.0 0.0 0.0 0.0 0.0 0.0 0.0 0.0 0.0 9.77318819978135e7 3.01538611529837e8 3.01538611529837e8 3.01538611529837e8 2.8723638489601195e8 8.462150758347332e7 0.0 0.0 0.0 2.21684512824308e8 3.01538611529837e8 2.479052616529909e8 1.1918522194855325e8 1.1918522194855325e8 2.753178627011569e8 3.01538611529837e8 3.01538611529837e8 1.1203410863163969e8 0.0 0.0 0.0 0.0 0.0 0.0 0.0 0.0 0.0 0.0 1.1918522194855313e6 1.1441781307061155e8 3.01538611529837e8 2.1334154728791073e8 2.5028896609196104e7 0.0 0.0 0.0 0.0 5.7208906535305776e7 2.7174230604270035e8 3.01538611529837e8 3.01538611529837e8 3.01538611529837e8 3.01538611529837e8 3.01538611529837e8 5.4825202096334204e7 2.3837044389710627e6 0.0 0.0 0.0 0.0 0.0 0.0 0.0 0.0 0.0 0.0 0.0 1.1918522194855313e6 2.1453339950739436e7 9.53481775588425e6 0.0 0.0 0.0 0.0 0.0 0.0 5.6017054315819845e7 2.0738228619048196e8 3.01538611529837e8 3.01538611529837e8 1.8712079845922765e8 3.93311232430222e7 2.3837044389710627e6 0.0 0.0 0.0 0.0 0.0 0.0 0.0 0.0 0.0 0.0 0.0 0.0 0.0 0.0 0.0 0.0 0.0 0.0 0.0 0.0 0.0 0.0 4.767408877942125e6 1.4302226633826444e7 1.4302226633826444e7 2.3837044389710627e6 0.0 0.0 0.0 0.0 0.0 0.0 0.0 0.0 0.0 0.0 0.0 0.0 0.0 0.0 0.0 0.0 0.0 0.0 0.0 0.0 0.0 0.0 0.0 0.0 0.0 0.0 0.0 0.0 0.0 0.0 0.0 0.0 0.0 0.0 0.0 0.0 0.0 0.0 0.0 0.0 0.0 0.0 0.0 0.0 0.0 0.0 0.0 0.0 0.0 0.0 0.0 0.0 0.0 0.0 0.0 0.0 0.0 0.0 0.0 0.0 0.0 0.0 0.0 0.0 0.0 0.0 0.0 0.0 0.0 0.0 0.0 0.0 0.0 0.0 0.0 0.0 0.0 0.0 0.0 0.0 0.0 0.0 0.0 0.0 0.0 0.0 0.0 0.0 0.0 0.0 0.0 0.0 0.0 0.0 0.0 0.0 0.0 0.0 0.0 0.0 0.0 0.0 0.0 0.0 0.0 0.0 0.0 0.0 0.0 0.0 0.0 0.0 0.0 0.0 0.0 0.0 0.0 0.0 0.0 0.0 0.0 0.0 0.0 0.0 0.0 0.0 0.0 0.0 0.0 0.0 0.0 0.0 0.0 0.0 0.0 0.0 0.0 0.0 0.0 0.0 0.0 0.0 0.0 0.0 0.0 0.0 0.0 0.0 0.0 0.0 0.0 0.0 0.0 0.0 0.0 0.0 0.0 0.0 0.0 0.0 0.0 0.0 0.0 0.0 0.0 0.0 0.0 0.0 0.0 0.0 0.0 0.0 0.0 0.0 0.0 0.0; 0.0 0.0 0.0 0.0 0.0 0.0 0.0 0.0 0.0 0.0 0.0 0.0 0.0 0.0 0.0 0.0 0.0 0.0 0.0 0.0 0.0 0.0 0.0 0.0 0.0 0.0 0.0 0.0 0.0 0.0 0.0 0.0 0.0 0.0 0.0 0.0 0.0 0.0 0.0 0.0 0.0 0.0 0.0 0.0 0.0 0.0 0.0 0.0 0.0 0.0 0.0 0.0 0.0 0.0 0.0 0.0 0.0 0.0 0.0 0.0 0.0 0.0 0.0 0.0 0.0 0.0 0.0 0.0 0.0 0.0 0.0 0.0 0.0 0.0 0.0 0.0 0.0 0.0 0.0 0.0 0.0 0.0 0.0 0.0 0.0 0.0 0.0 0.0 0.0 0.0 0.0 0.0 0.0 0.0 0.0 0.0 0.0 0.0 0.0 0.0 0.0 0.0 0.0 0.0 0.0 0.0 0.0 0.0 0.0 0.0 0.0 0.0 0.0 0.0 0.0 0.0 0.0 2.595454895652329e6 3.374091364347999e7 0.0 0.0 0.0 0.0 0.0 0.0 0.0 0.0 0.0 0.0 0.0 0.0 0.0 0.0 0.0 0.0 0.0 0.0 0.0 0.0 0.0 0.0 0.0 0.0 0.0 0.0 5.19090979130461e7 6.2550462985220306e7 0.0 0.0 0.0 0.0 0.0 0.0 0.0 0.0 0.0 0.0 0.0 0.0 0.0 0.0 0.0 0.0 0.0 0.0 0.0 0.0 0.0 0.0 0.0 0.0 0.0 0.0 6.6184099839134045e7 6.2550462985220306e7 0.0 0.0 0.0 0.0 0.0 0.0 0.0 0.0 0.0 0.0 0.0 0.0 2.595454895652329e6 6.488637239130762e6 6.488637239130762e6 519090.9791304591 0.0 0.0 0.0 0.0 0.0 0.0 0.0 0.0 0.0 0.0 6.6184099839134045e7 6.2550462985220306e7 0.0 0.0 0.0 0.0 0.0 0.0 0.0 0.0 0.0 0.0 0.0 1.7908638780001055e7 4.957318850695894e7 6.566500886000357e7 6.566500886000357e7 2.8030912873045012e7 519090.9791304591 0.0 0.0 0.0 0.0 0.0 0.0 0.0 0.0 0.0 6.6184099839134045e7 6.2550462985220306e7 0.0 0.0 0.0 0.0 0.0 0.0 0.0 0.0 0.0 0.0 0.0 4.6718188121741354e7 5.6061825746090025e7 5.6061825746090025e7 6.488637239130723e7 6.566500886000357e7 2.361863955043591e7 0.0 0.0 0.0 0.0 0.0 0.0 0.0 0.0 0.0 6.592455434956856e7 6.2550462985220306e7 0.0 0.0 0.0 0.0 0.0 2.335909406087073e6 3.400045913304522e7 1.7130002311305307e7 0.0 0.0 0.0 0.0 0.0 0.0 3.8153186966088735e7 6.566500886000357e7 5.5283189277394e7 1.0381819582609182e6 0.0 0.0 0.0 0.0 0.0 0.0 0.0 0.0 6.6184099839134045e7 6.2550462985220306e7 0.0 0.0 0.0 0.0 0.0 1.2977274478261525e7 6.566500886000357e7 4.957318850695894e7 0.0 0.0 0.0 0.0 0.0 0.0 8.824546645217847e6 6.2550462985220306e7 6.566500886000357e7 7.7863646869569495e6 0.0 0.0 0.0 0.0 0.0 0.0 0.0 0.0 6.592455434956856e7 6.488637239130723e7 2.0504093675653193e7 0.0 0.0 0.0 0.0 2.0244548186087847e7 6.566500886000357e7 4.957318850695894e7 0.0 0.0 0.0 0.0 0.0 0.0 0.0 6.12527355373948e7 6.566500886000357e7 3.348136815391468e7 0.0 0.0 0.0 0.0 0.0 0.0 0.0 0.0 6.592455434956856e7 6.410773592261236e7 1.479409290521804e7 0.0 0.0 0.0 0.0 4.516091518435005e7 6.566500886000357e7 4.957318850695894e7 0.0 0.0 0.0 0.0 0.0 0.0 0.0 6.12527355373948e7 6.566500886000357e7 3.348136815391468e7 0.0 0.0 0.0 0.0 0.0 0.0 0.0 0.0 6.592455434956856e7 6.410773592261236e7 1.479409290521804e7 0.0 0.0 0.0 1.738954780087042e7 6.0733644558264166e7 6.566500886000357e7 4.957318850695894e7 0.0 0.0 0.0 0.0 0.0 0.0 0.0 6.12527355373948e7 6.566500886000357e7 5.7878644173046686e7 0.0 0.0 0.0 0.0 0.0 0.0 0.0 0.0 6.592455434956856e7 6.566500886000357e7 2.8809549341740508e7 0.0 0.0 1.7130002311305307e7 6.099319004782936e7 6.566500886000357e7 6.566500886000357e7 4.957318850695894e7 0.0 0.0 0.0 0.0 0.0 0.0 0.0 6.12527355373948e7 6.566500886000357e7 4.048909637217569e7 0.0 0.0 0.0 0.0 0.0 0.0 0.0 0.0 6.592455434956856e7 6.566500886000357e7 2.8809549341740508e7 0.0 1.6870456821739994e7 6.12527355373948e7 6.566500886000357e7 6.566500886000357e7 6.566500886000357e7 5.476409829826385e7 5.190909791304658e6 0.0 0.0 0.0 0.0 0.0 2.232091210260991e7 6.488637239130723e7 6.566500886000357e7 2.3359094060870677e7 0.0 0.0 0.0 0.0 0.0 0.0 0.0 0.0 6.592455434956856e7 6.566500886000357e7 2.8809549341740508e7 1.661091133217469e7 6.151228102695965e7 6.566500886000357e7 5.632137123565517e7 1.1160456051304955e7 4.9832733996524036e7 6.566500886000357e7 4.879455203826323e7 4.9313643017393695e6 0.0 0.0 0.0 2.1542275633914284e7 5.943591711043812e7 6.566500886000357e7 4.022955088261087e7 259545.48956522954 0.0 0.0 0.0 0.0 0.0 0.0 0.0 0.0 3.84127324556543e7 6.566500886000357e7 6.047409906869883e7 6.177182651652526e7 6.566500886000357e7 6.2290917495655596e7 1.8687275248696584e7 0.0 1.4015456436522506e7 5.943591711043812e7 6.566500886000357e7 2.6214094446088225e7 0.0 0.0 2.1023184654783837e7 5.632137123565517e7 6.566500886000357e7 5.5023643787828945e7 6.488637239130762e6 0.0 0.0 0.0 0.0 0.0 0.0 0.0 0.0 0.0 2.128273014434888e7 6.566500886000357e7 6.566500886000357e7 6.566500886000357e7 6.2550462985220306e7 1.8427729759131342e7 0.0 0.0 0.0 4.827546105913297e7 6.566500886000357e7 5.398546182956796e7 2.595454895652305e7 2.595454895652305e7 5.995500808956851e7 6.566500886000357e7 6.566500886000357e7 2.4397276019131616e7 0.0 0.0 0.0 0.0 0.0 0.0 0.0 0.0 0.0 0.0 259545.48956522954 2.4916366998262018e7 6.566500886000357e7 4.6458642632176325e7 5.450455280869852e6 0.0 0.0 0.0 0.0 1.2458183499131009e7 5.917637162087216e7 6.566500886000357e7 6.566500886000357e7 6.566500886000357e7 6.566500886000357e7 6.566500886000357e7 1.1939092520000547e7 519090.9791304591 0.0 0.0 0.0 0.0 0.0 0.0 0.0 0.0 0.0 0.0 0.0 259545.48956522954 4.671818812174146e6 2.0763639165218363e6 0.0 0.0 0.0 0.0 0.0 0.0 1.2198638009565808e7 4.516091518435005e7 6.566500886000357e7 6.566500886000357e7 4.074864186174124e7 8.565001155652653e6 519090.9791304591 0.0 0.0 0.0 0.0 0.0 0.0 0.0 0.0 0.0 0.0 0.0 0.0 0.0 0.0 0.0 0.0 0.0 0.0 0.0 0.0 0.0 0.0 1.0381819582609182e6 3.1145458747827522e6 3.1145458747827522e6 519090.9791304591 0.0 0.0 0.0 0.0 0.0 0.0 0.0 0.0 0.0 0.0 0.0 0.0 0.0 0.0 0.0 0.0 0.0 0.0 0.0 0.0 0.0 0.0 0.0 0.0 0.0 0.0 0.0 0.0 0.0 0.0 0.0 0.0 0.0 0.0 0.0 0.0 0.0 0.0 0.0 0.0 0.0 0.0 0.0 0.0 0.0 0.0 0.0 0.0 0.0 0.0 0.0 0.0 0.0 0.0 0.0 0.0 0.0 0.0 0.0 0.0 0.0 0.0 0.0 0.0 0.0 0.0 0.0 0.0 0.0 0.0 0.0 0.0 0.0 0.0 0.0 0.0 0.0 0.0 0.0 0.0 0.0 0.0 0.0 0.0 0.0 0.0 0.0 0.0 0.0 0.0 0.0 0.0 0.0 0.0 0.0 0.0 0.0 0.0 0.0 0.0 0.0 0.0 0.0 0.0 0.0 0.0 0.0 0.0 0.0 0.0 0.0 0.0 0.0 0.0 0.0 0.0 0.0 0.0 0.0 0.0 0.0 0.0 0.0 0.0 0.0 0.0 0.0 0.0 0.0 0.0 0.0 0.0 0.0 0.0 0.0 0.0 0.0 0.0 0.0 0.0 0.0 0.0 0.0 0.0 0.0 0.0 0.0 0.0 0.0 0.0 0.0 0.0 0.0 0.0 0.0 0.0 0.0 0.0 0.0 0.0 0.0 0.0 0.0 0.0 0.0 0.0 0.0 0.0 0.0 0.0 0.0 0.0 0.0 0.0 0.0 0.0; 0.0 0.0 0.0 0.0 0.0 0.0 0.0 0.0 0.0 0.0 0.0 0.0 0.0 0.0 0.0 0.0 0.0 0.0 0.0 0.0 0.0 0.0 0.0 0.0 0.0 0.0 0.0 0.0 0.0 0.0 0.0 0.0 0.0 0.0 0.0 0.0 0.0 0.0 0.0 0.0 0.0 0.0 0.0 0.0 0.0 0.0 0.0 0.0 0.0 0.0 0.0 0.0 0.0 0.0 0.0 0.0 0.0 0.0 0.0 0.0 0.0 0.0 0.0 0.0 0.0 0.0 0.0 0.0 0.0 0.0 0.0 0.0 0.0 0.0 0.0 0.0 0.0 0.0 0.0 0.0 0.0 0.0 0.0 0.0 0.0 0.0 0.0 0.0 0.0 0.0 0.0 0.0 0.0 0.0 0.0 0.0 0.0 0.0 0.0 0.0 0.0 0.0 0.0 0.0 0.0 0.0 0.0 0.0 0.0 0.0 0.0 0.0 0.0 0.0 0.0 0.0 0.0 -56862.32572474844 -739210.2344217347 0.0 0.0 0.0 0.0 0.0 0.0 0.0 0.0 0.0 0.0 0.0 0.0 0.0 0.0 0.0 0.0 0.0 0.0 0.0 0.0 0.0 0.0 0.0 0.0 0.0 0.0 -1.1372465144949688e6 -1.3703820499664457e6 0.0 0.0 0.0 0.0 0.0 0.0 0.0 0.0 0.0 0.0 0.0 0.0 0.0 0.0 0.0 0.0 0.0 0.0 0.0 0.0 0.0 0.0 0.0 0.0 0.0 0.0 -1.449989305981095e6 -1.3703820499664457e6 0.0 0.0 0.0 0.0 0.0 0.0 0.0 0.0 0.0 0.0 0.0 0.0 -56862.32572474844 -142155.8143118711 -142155.8143118711 -11372.465144949774 0.0 0.0 0.0 0.0 0.0 0.0 0.0 0.0 0.0 0.0 -1.449989305981095e6 -1.3703820499664457e6 0.0 0.0 0.0 0.0 0.0 0.0 0.0 0.0 0.0 0.0 0.0 -392350.0475007659 -1.0860704213427005e6 -1.4386168408361499e6 -1.4386168408361499e6 -614113.1178272879 -11372.465144949774 0.0 0.0 0.0 0.0 0.0 0.0 0.0 0.0 0.0 -1.449989305981095e6 -1.3703820499664457e6 0.0 0.0 0.0 0.0 0.0 0.0 0.0 0.0 0.0 0.0 0.0 -1.0235218630454779e6 -1.2282262356545758e6 -1.2282262356545758e6 -1.421558143118705e6"
     ]
    },
    {
     "name": "stdout",
     "output_type": "stream",
     "text": [
      " -1.4386168408361499e6 -517447.16409521183 0.0 0.0 0.0 0.0 0.0 0.0 0.0 0.0 0.0 -1.444303073408608e6 -1.3703820499664457e6 0.0 0.0 0.0 0.0 0.0 -51176.09315227367 -744896.4669942056 -375291.34978334216 0.0 0.0 0.0 0.0 0.0 0.0 -835876.1881538068 -1.4386168408361499e6 -1.2111675379371517e6 -22744.93028989955 0.0 0.0 0.0 0.0 0.0 0.0 0.0 0.0 -1.449989305981095e6 -1.3703820499664457e6 0.0 0.0 0.0 0.0 0.0 -284311.6286237422 -1.4386168408361499e6 -1.0860704213427005e6 0.0 0.0 0.0 0.0 0.0 0.0 -193331.90746414257 -1.3703820499664457e6 -1.4386168408361499e6 -170586.9771742455 0.0 0.0 0.0 0.0 0.0 0.0 0.0 0.0 -1.444303073408608e6 -1.421558143118705e6 -449212.37322551635 0.0 0.0 0.0 0.0 -443526.14065303875 -1.4386168408361499e6 -1.0860704213427005e6 0.0 0.0 0.0 0.0 0.0 0.0 0.0 -1.3419508871040728e6 -1.4386168408361499e6 -733524.0018492586 0.0 0.0 0.0 0.0 0.0 0.0 0.0 0.0 -1.444303073408608e6 -1.4044994454012853e6 -324115.256631066 0.0 0.0 0.0 0.0 -989404.4676106282 -1.4386168408361499e6 -1.0860704213427005e6 0.0 0.0 0.0 0.0 0.0 0.0 0.0 -1.3419508871040728e6 -1.4386168408361499e6 -733524.0018492586 0.0 0.0 0.0 0.0 0.0 0.0 0.0 0.0 -1.444303073408608e6 -1.4044994454012853e6 -324115.256631066 0.0 0.0 0.0 -380977.58235581516 -1.330578421959107e6 -1.4386168408361499e6 -1.0860704213427005e6 0.0 0.0 0.0 0.0 0.0 0.0 0.0 -1.3419508871040728e6 -1.4386168408361499e6 -1.2680298636619e6 0.0 0.0 0.0 0.0 0.0 0.0 0.0 0.0 -1.444303073408608e6 -1.4386168408361499e6 -631171.8155447082 0.0 0.0 -375291.34978334216 -1.3362646545315937e6 -1.4386168408361499e6 -1.4386168408361499e6 -1.0860704213427005e6 0.0 0.0 0.0 0.0 0.0 0.0 0.0 -1.3419508871040728e6 -1.4386168408361499e6 -887052.2813060775 0.0 0.0 0.0 0.0 0.0 0.0 0.0 0.0 -1.444303073408608e6 -1.4386168408361499e6 -631171.8155447082 0.0 -369605.11721086735 -1.3419508871040728e6 -1.4386168408361499e6 -1.4386168408361499e6 -1.4386168408361499e6 -1.1997950727922018e6 -113724.65144949689 0.0 0.0 0.0 0.0 0.0 -489016.0012328373 -1.421558143118705e6 -1.4386168408361499e6 -511760.93152273895 0.0 0.0 0.0 0.0 0.0 0.0 0.0 0.0 -1.444303073408608e6 -1.4386168408361499e6 -631171.8155447082 -363918.8846383928 -1.3476371196765378e6 -1.4386168408361499e6 -1.2339124682270556e6 -244508.00061641866 -1.0917566539151822e6 -1.4386168408361499e6 -1.0690117236252683e6 -108038.41887702183 0.0 0.0 0.0 -471957.3035154108 -1.3021472590967368e6 -1.4386168408361499e6 -881366.0487336088 -5686.232572474887 0.0 0.0 0.0 0.0 0.0 0.0 0.0 0.0 -841562.4207262814 -1.4386168408361499e6 -1.3248921893866442e6 -1.3533233522490144e6 -1.4386168408361499e6 -1.364695817393964e6 -409408.7452181894 0.0 -307056.55891364394 -1.3021472590967368e6 -1.4386168408361499e6 -574309.4898199637 0.0 0.0 -460584.838370463 -1.2339124682270556e6 -1.4386168408361499e6 -1.2054813053646653e6 -142155.8143118711 0.0 0.0 0.0 0.0 0.0 0.0 0.0 0.0 0.0 -466271.07094293745 -1.4386168408361499e6 -1.4386168408361499e6 -1.4386168408361499e6 -1.3703820499664457e6 -403722.51264571556 0.0 0.0 0.0 -1.0576392584803198e6 -1.4386168408361499e6 -1.1827363750747736e6 -568623.2572474844 -568623.2572474844 -1.3135197242416868e6 -1.4386168408361499e6 -1.4386168408361499e6 -534505.8618126342 0.0 0.0 0.0 0.0 0.0 0.0 0.0 0.0 0.0 0.0 -5686.232572474887 -545878.3269575911 -1.4386168408361499e6 -1.0178356304730069e6 -119410.88402197162 0.0 0.0 0.0 0.0 -272939.16347879556 -1.296461026524264e6 -1.4386168408361499e6 -1.4386168408361499e6 -1.4386168408361499e6 -1.4386168408361499e6 -1.4386168408361499e6 -261566.69833384323 -11372.465144949774 0.0 0.0 0.0 0.0 0.0 0.0 0.0 0.0 0.0 0.0 0.0 -5686.232572474887 -102352.18630454734 -45489.8605797991 0.0 0.0 0.0 0.0 0.0 0.0 -267252.9309063171 -989404.4676106282 -1.4386168408361499e6 -1.4386168408361499e6 -892738.5138785621 -187645.67489167108 -11372.465144949774 0.0 0.0 0.0 0.0 0.0 0.0 0.0 0.0 0.0 0.0 0.0 0.0 0.0 0.0 0.0 0.0 0.0 0.0 0.0 0.0 0.0 0.0 -22744.93028989955 -68234.79086969889 -68234.79086969889 -11372.465144949774 0.0 0.0 0.0 0.0 0.0 0.0 0.0 0.0 0.0 0.0 0.0 0.0 0.0 0.0 0.0 0.0 0.0 0.0 0.0 0.0 0.0 0.0 0.0 0.0 0.0 0.0 0.0 0.0 0.0 0.0 0.0 0.0 0.0 0.0 0.0 0.0 0.0 0.0 0.0 0.0 0.0 0.0 0.0 0.0 0.0 0.0 0.0 0.0 0.0 0.0 0.0 0.0 0.0 0.0 0.0 0.0 0.0 0.0 0.0 0.0 0.0 0.0 0.0 0.0 0.0 0.0 0.0 0.0 0.0 0.0 0.0 0.0 0.0 0.0 0.0 0.0 0.0 0.0 0.0 0.0 0.0 0.0 0.0 0.0 0.0 0.0 0.0 0.0 0.0 0.0 0.0 0.0 0.0 0.0 0.0 0.0 0.0 0.0 0.0 0.0 0.0 0.0 0.0 0.0 0.0 0.0 0.0 0.0 0.0 0.0 0.0 0.0 0.0 0.0 0.0 0.0 0.0 0.0 0.0 0.0 0.0 0.0 0.0 0.0 0.0 0.0 0.0 0.0 0.0 0.0 0.0 0.0 0.0 0.0 0.0 0.0 0.0 0.0 0.0 0.0 0.0 0.0 0.0 0.0 0.0 0.0 0.0 0.0 0.0 0.0 0.0 0.0 0.0 0.0 0.0 0.0 0.0 0.0 0.0 0.0 0.0 0.0 0.0 0.0 0.0 0.0 0.0 0.0 0.0 0.0 0.0 0.0 0.0 0.0 0.0 0.0; 0.0 0.0 0.0 0.0 0.0 0.0 0.0 0.0 0.0 0.0 0.0 0.0 0.0 0.0 0.0 0.0 0.0 0.0 0.0 0.0 0.0 0.0 0.0 0.0 0.0 0.0 0.0 0.0 0.0 0.0 0.0 0.0 0.0 0.0 0.0 0.0 0.0 0.0 0.0 0.0 0.0 0.0 0.0 0.0 0.0 0.0 0.0 0.0 0.0 0.0 0.0 0.0 0.0 0.0 0.0 0.0 0.0 0.0 0.0 0.0 0.0 0.0 0.0 0.0 0.0 0.0 0.0 0.0 0.0 0.0 0.0 0.0 0.0 0.0 0.0 0.0 0.0 0.0 0.0 0.0 0.0 0.0 0.0 0.0 0.0 0.0 0.0 0.0 0.0 0.0 0.0 0.0 0.0 0.0 0.0 0.0 0.0 0.0 0.0 0.0 0.0 0.0 0.0 0.0 0.0 0.0 0.0 0.0 0.0 0.0 0.0 0.0 0.0 0.0 0.0 0.0 0.0 67.83783297887761 881.8918287254088 0.0 0.0 0.0 0.0 0.0 0.0 0.0 0.0 0.0 0.0 0.0 0.0 0.0 0.0 0.0 0.0 0.0 0.0 0.0 0.0 0.0 0.0 0.0 0.0 0.0 0.0 1356.756659577545 1634.891774790947 0.0 0.0 0.0 0.0 0.0 0.0 0.0 0.0 0.0 0.0 0.0 0.0 0.0 0.0 0.0 0.0 0.0 0.0 0.0 0.0 0.0 0.0 0.0 0.0 0.0 0.0 1729.8647409613766 1634.891774790947 0.0 0.0 0.0 0.0 0.0 0.0 0.0 0.0 0.0 0.0 0.0 0.0 67.83783297887761 169.59458244719312 169.59458244719312 13.567566595775501 0.0 0.0 0.0 0.0 0.0 0.0 0.0 0.0 0.0 0.0 1729.8647409613766 1634.891774790947 0.0 0.0 0.0 0.0 0.0 0.0 0.0 0.0 0.0 0.0 0.0 468.08104755425364 1295.7026098965541 1716.2971743655985 1716.2971743655985 732.6485961718749 13.567566595775501 0.0 0.0 0.0 0.0 0.0 0.0 0.0 0.0 0.0 1729.8647409613766 1634.891774790947 0.0 0.0 0.0 0.0 0.0 0.0 0.0 0.0 0.0 0.0 0.0 1221.0809936197975 1465.2971923437499 1465.2971923437499 1695.9458244719287 1716.2971743655985 617.3242801077823 0.0 0.0 0.0 0.0 0.0 0.0 0.0 0.0 0.0 1723.0809576634877 1634.891774790947 0.0 0.0 0.0 0.0 0.0 61.054049680989564 888.6756120232998 447.72969766058895 0.0 0.0 0.0 0.0 0.0 0.0 997.2161447894977 1716.2971743655985 1444.9458424500854 27.135133191551002 0.0 0.0 0.0 0.0 0.0 0.0 0.0 0.0 1729.8647409613766 1634.891774790947 0.0 0.0 0.0 0.0 0.0 339.18916489438624 1716.2971743655985 1295.7026098965541 0.0 0.0 0.0 0.0 0.0 0.0 230.64863212818366 1634.891774790947 1716.2971743655985 203.51349893663104 0.0 0.0 0.0 0.0 0.0 0.0 0.0 0.0 1723.0809576634877 1695.9458244719287 535.9188805331308 0.0 0.0 0.0 0.0 529.1350972352438 1716.2971743655985 1295.7026098965541 0.0 0.0 0.0 0.0 0.0 0.0 0.0 1600.9728583015026 1716.2971743655985 875.1080454275184 0.0 0.0 0.0 0.0 0.0 0.0 0.0 0.0 1723.0809576634877 1675.594474578294 386.6756479796023 0.0 0.0 0.0 0.0 1180.378293832462 1716.2971743655985 1295.7026098965541 0.0 0.0 0.0 0.0 0.0 0.0 0.0 1600.9728583015026 1716.2971743655985 875.1080454275184 0.0 0.0 0.0 0.0 0.0 0.0 0.0 0.0 1723.0809576634877 1675.594474578294 386.6756479796023 0.0 0.0 0.0 454.513480958479 1587.405291705741 1716.2971743655985 1295.7026098965541 0.0 0.0 0.0 0.0 0.0 0.0 0.0 1600.9728583015026 1716.2971743655985 1512.7836754289772 0.0 0.0 0.0 0.0 0.0 0.0 0.0 0.0 1723.0809576634877 1716.2971743655985 752.9999460655421 0.0 0.0 447.72969766058895 1594.1890750036116 1716.2971743655985 1716.2971743655985 1295.7026098965541 0.0 0.0 0.0 0.0 0.0 0.0 0.0 1600.9728583015026 1716.2971743655985 1058.2701944704877 0.0 0.0 0.0 0.0 0.0 0.0 0.0 0.0 1723.0809576634877 1716.2971743655985 752.9999460655421 0.0 440.9459143627044 1600.9728583015026 1716.2971743655985 1716.2971743655985 1716.2971743655985 1431.3782758543252 135.67566595775523 0.0 0.0 0.0 0.0 0.0 583.4053636183481 1695.9458244719287 1716.2971743655985 610.5404968098987 0.0 0.0 0.0 0.0 0.0 0.0 0.0 0.0 1723.0809576634877 1716.2971743655985 752.9999460655421 434.16213106481604 1607.7566415994004 1716.2971743655985 1472.0809756416434 291.70268180917407 1302.4863931944471 1716.2971743655985 1275.3512600028928 128.89188265986675 0.0 0.0 0.0 563.0540137246851 1553.4863752162967 1716.2971743655985 1051.486411172601 6.783783297887751 0.0 0.0 0.0 0.0 0.0 0.0 0.0 0.0 1003.9999280873895 1716.2971743655985 1580.6215084078528 1614.5404248972804 1716.2971743655985 1628.1079914930483 488.4323974479165 0.0 366.32429808593747 1553.4863752162967 1716.2971743655985 685.1621130866624 0.0 0.0 549.4864471289083 1472.0809756416434 1716.2971743655985 1438.1620591522073 169.59458244719312 0.0 0.0 0.0 0.0 0.0 0.0 0.0 0.0 0.0 556.270230426796 1716.2971743655985 1716.2971743655985 1716.2971743655985 1634.891774790947 481.6486141500293 0.0 0.0 0.0 1261.783693407121 1716.2971743655985 1411.0269259606516 678.3783297887725 678.3783297887725 1567.0539418120804 1716.2971743655985 1716.2971743655985 637.6756300014464 0.0 0.0 0.0 0.0 0.0 0.0 0.0 0.0 0.0 0.0 6.783783297887751 651.2431965972236 1716.2971743655985 1214.2972103219172 142.45944925564237 0.0 0.0 0.0 0.0 325.6215982986118 1546.702591918409 1716.2971743655985 1716.2971743655985 1716.2971743655985 1716.2971743655985 1716.2971743655985 312.0540317028341 13.567566595775501 0.0 0.0 0.0 0.0 0.0 0.0 0.0 0.0 0.0 0.0 0.0 6.783783297887751 122.10809936197913 54.270266383102005 0.0 0.0 0.0 0.0 0.0 0.0 318.8378150007232 1180.378293832462 1716.2971743655985 1716.2971743655985 1065.0539777683875 223.86484883029448 13.567566595775501 0.0 0.0 0.0 0.0 0.0 0.0 0.0 0.0 0.0 0.0 0.0 0.0 0.0 0.0 0.0 0.0 0.0 0.0 0.0 0.0 0.0 0.0 27.135133191551002 81.40539957465295 81.40539957465295 13.567566595775501 0.0 0.0 0.0 0.0 0.0 0.0 0.0 0.0 0.0 0.0 0.0 0.0 0.0 0.0 0.0 0.0 0.0 0.0 0.0 0.0 0.0 0.0 0.0 0.0 0.0 0.0 0.0 0.0 0.0 0.0 0.0 0.0 0.0 0.0 0.0 0.0 0.0 0.0 0.0 0.0 0.0 0.0 0.0 0.0 0.0 0.0 0.0 0.0 0.0 0.0 0.0 0.0 0.0 0.0 0.0 0.0 0.0 0.0 0.0 0.0 0.0 0.0 0.0 0.0 0.0 0.0 0.0 0.0 0.0 0.0 0.0 0.0 0.0 0.0 0.0 0.0 0.0 0.0 0.0 0.0 0.0 0.0 0.0 0.0 0.0 0.0 0.0 0.0 0.0 0.0 0.0 0.0 0.0 0.0 0.0 0.0 0.0 0.0 0.0 0.0 0.0 0.0 0.0 0.0 0.0 0.0 0.0 0.0 0.0 0.0 0.0 0.0 0.0 0.0 0.0 0.0 0.0 0.0 0.0 0.0 0.0 0.0 0.0 0.0 0.0 0.0 0.0 0.0 0.0 0.0 0.0 0.0 0.0 0.0 0.0 0.0 0.0 0.0 0.0 0.0 0.0 0.0 0.0 0.0 0.0 0.0 0.0 0.0 0.0 0.0 0.0 0.0 0.0 0.0"
     ]
    },
    {
     "name": "stdout",
     "output_type": "stream",
     "text": [
      " 0.0 0.0 0.0 0.0 0.0 0.0 0.0 0.0 0.0 0.0 0.0 0.0 0.0 0.0 0.0 0.0 0.0 0.0 0.0 0.0 0.0 0.0; 0.0 0.0 0.0 0.0 0.0 0.0 0.0 0.0 0.0 0.0 0.0 0.0 0.0 0.0 0.0 0.0 0.0 0.0 0.0 0.0 0.0 0.0 0.0 0.0 0.0 0.0 0.0 0.0 0.0 0.0 0.0 0.0 0.0 0.0 0.0 0.0 0.0 0.0 0.0 0.0 0.0 0.0 0.0 0.0 0.0 0.0 0.0 0.0 0.0 0.0 0.0 0.0 0.0 0.0 0.0 0.0 0.0 0.0 0.0 0.0 0.0 0.0 0.0 0.0 0.0 0.0 0.0 0.0 0.0 0.0 0.0 0.0 0.0 0.0 0.0 0.0 0.0 0.0 0.0 0.0 0.0 0.0 0.0 0.0 0.0 0.0 0.0 0.0 0.0 0.0 0.0 0.0 0.0 0.0 0.0 0.0 0.0 0.0 0.0 0.0 0.0 0.0 0.0 0.0 0.0 0.0 0.0 0.0 0.0 0.0 0.0 0.0 0.0 0.0 0.0 0.0 0.0 3124.329240279689 40616.28012363637 0.0 0.0 0.0 0.0 0.0 0.0 0.0 0.0 0.0 0.0 0.0 0.0 0.0 0.0 0.0 0.0 0.0 0.0 0.0 0.0 0.0 0.0 0.0 0.0 0.0 0.0 62486.58480559397 75296.33469074078 0.0 0.0 0.0 0.0 0.0 0.0 0.0 0.0 0.0 0.0 0.0 0.0 0.0 0.0 0.0 0.0 0.0 0.0 0.0 0.0 0.0 0.0 0.0 0.0 0.0 0.0 79670.39562713225 75296.33469074078 0.0 0.0 0.0 0.0 0.0 0.0 0.0 0.0 0.0 0.0 0.0 0.0 3124.329240279689 7810.823100699246 7810.823100699246 624.865848055939 0.0 0.0 0.0 0.0 0.0 0.0 0.0 0.0 0.0 0.0 79670.39562713225 75296.33469074078 0.0 0.0 0.0 0.0 0.0 0.0 0.0 0.0 0.0 0.0 0.0 21557.871757929996 59674.68848934213 79045.52977907658 79045.52977907658 33742.755795020996 624.865848055939 0.0 0.0 0.0 0.0 0.0 0.0 0.0 0.0 0.0 79670.39562713225 75296.33469074078 0.0 0.0 0.0 0.0 0.0 0.0 0.0 0.0 0.0 0.0 0.0 56237.92632503443 67485.51159004199 67485.51159004199 78108.2310069922 79045.52977907658 28431.396086545577 0.0 0.0 0.0 0.0 0.0 0.0 0.0 0.0 0.0 79357.96270310543 75296.33469074078 0.0 0.0 0.0 0.0 0.0 2811.896316251749 40928.71304766417 20620.572985846233 0.0 0.0 0.0 0.0 0.0 0.0 45927.6398321117 79045.52977907658 66548.21281795813 1249.731696111878 0.0 0.0 0.0 0.0 0.0 0.0 0.0 0.0 79670.39562713225 75296.33469074078 0.0 0.0 0.0 0.0 0.0 15621.646201398493 79045.52977907658 59674.68848934213 0.0 0.0 0.0 0.0 0.0 0.0 10622.719416950973 75296.33469074078 79045.52977907658 9372.987720839204 0.0 0.0 0.0 0.0 0.0 0.0 0.0 0.0 79357.96270310543 78108.2310069922 24682.200998209755 0.0 0.0 0.0 0.0 24369.76807418175 79045.52977907658 59674.68848934213 0.0 0.0 0.0 0.0 0.0 0.0 0.0 73734.1700706016 79045.52977907658 40303.84719960857 0.0 0.0 0.0 0.0 0.0 0.0 0.0 0.0 79357.96270310543 77170.93223490879 17808.67666959446 0.0 0.0 0.0 0.0 54363.32878086756 79045.52977907658 59674.68848934213 0.0 0.0 0.0 0.0 0.0 0.0 0.0 73734.1700706016 79045.52977907658 40303.84719960857 0.0 0.0 0.0 0.0 0.0 0.0 0.0 0.0 79357.96270310543 77170.93223490879 17808.67666959446 0.0 0.0 0.0 20933.005909874195 73109.30422254543 79045.52977907658 59674.68848934213 0.0 0.0 0.0 0.0 0.0 0.0 0.0 73734.1700706016 79045.52977907658 69672.54205823732 0.0 0.0 0.0 0.0 0.0 0.0 0.0 0.0 79357.96270310543 79045.52977907658 34680.05456710495 0.0 0.0 20620.572985846233 73421.73714657324 79045.52977907658 79045.52977907658 59674.68848934213 0.0 0.0 0.0 0.0 0.0 0.0 0.0 73734.1700706016 79045.52977907658 48739.5361483635 0.0 0.0 0.0 0.0 0.0 0.0 0.0 0.0 79357.96270310543 79045.52977907658 34680.05456710495 0.0 20308.140061818183 73734.1700706016 79045.52977907658 79045.52977907658 79045.52977907658 65923.34696990211 6248.658480559378 0.0 0.0 0.0 0.0 0.0 26869.23146640542 78108.2310069922 79045.52977907658 28118.963162517215 0.0 0.0 0.0 0.0 0.0 0.0 0.0 0.0 79357.96270310543 79045.52977907658 34680.05456710495 19995.707137790047 74046.60299462947 79045.52977907658 67797.94451407019 13434.61573320271 59987.121413370136 79045.52977907658 58737.38971725877 5936.225556531434 0.0 0.0 0.0 25931.93269432175 71547.1396024049 79045.52977907658 48427.10322433537 312.4329240279695 0.0 0.0 0.0 0.0 0.0 0.0 0.0 0.0 46240.07275613985 79045.52977907658 72796.8712985173 74359.03591865674 79045.52977907658 74983.90176671364 22495.17053001399 0.0 16871.377897510498 71547.1396024049 79045.52977907658 31555.725326824893 0.0 0.0 25307.066846265803 67797.94451407019 79045.52977907658 66235.77989392969 7810.823100699246 0.0 0.0 0.0 0.0 0.0 0.0 0.0 0.0 0.0 25619.499770293784 79045.52977907658 79045.52977907658 79045.52977907658 75296.33469074078 22182.737605985934 0.0 0.0 0.0 58112.52386920298 79045.52977907658 64986.0481978183 31243.292402796986 31243.292402796986 72172.00545046113 79045.52977907658 79045.52977907658 29368.694858629384 0.0 0.0 0.0 0.0 0.0 0.0 0.0 0.0 0.0 0.0 312.4329240279695 29993.560706685068 79045.52977907658 55925.49340100693 6561.091404587385 0.0 0.0 0.0 0.0 14996.780353342534 71234.70667837784 79045.52977907658 79045.52977907658 79045.52977907658 79045.52977907658 79045.52977907658 14371.914505286606 624.865848055939 0.0 0.0 0.0 0.0 0.0 0.0 0.0 0.0 0.0 0.0 0.0 312.4329240279695 5623.792632503498 2499.463392223756 0.0 0.0 0.0 0.0 0.0 0.0 14684.347429314692 54363.32878086756 79045.52977907658 79045.52977907658 49051.96907239124 10310.286492923116 624.865848055939 0.0 0.0 0.0 0.0 0.0 0.0 0.0 0.0 0.0 0.0 0.0 0.0 0.0 0.0 0.0 0.0 0.0 0.0 0.0 0.0 0.0 0.0 1249.731696111878 3749.1950883356335 3749.1950883356335 624.865848055939 0.0 0.0 0.0 0.0 0.0 0.0 0.0 0.0 0.0 0.0 0.0 0.0 0.0 0.0 0.0 0.0 0.0 0.0 0.0 0.0 0.0 0.0 0.0 0.0 0.0 0.0 0.0 0.0 0.0 0.0 0.0 0.0 0.0 0.0 0.0 0.0 0.0 0.0 0.0 0.0 0.0 0.0 0.0 0.0 0.0 0.0 0.0 0.0 0.0 0.0 0.0 0.0 0.0 0.0 0.0 0.0 0.0 0.0 0.0 0.0 0.0 0.0 0.0 0.0 0.0 0.0 0.0 0.0 0.0 0.0 0.0 0.0 0.0 0.0 0.0 0.0 0.0 0.0 0.0 0.0 0.0 0.0 0.0 0.0 0.0 0.0 0.0 0.0 0.0 0.0 0.0 0.0 0.0 0.0 0.0 0.0 0.0 0.0 0.0 0.0 0.0 0.0 0.0 0.0 0.0 0.0 0.0 0.0 0.0 0.0 0.0 0.0 0.0 0.0 0.0 0.0 0.0 0.0 0.0 0.0 0.0 0.0 0.0 0.0 0.0 0.0 0.0 0.0 0.0 0.0 0.0 0.0 0.0 0.0 0.0 0.0 0.0 0.0 0.0 0.0 0.0 0.0 0.0 0.0 0.0 0.0 0.0 0.0 0.0 0.0 0.0 0.0 0.0 0.0 0.0 0.0 0.0 0.0 0.0 0.0 0.0 0.0 0.0 0.0 0.0 0.0 0.0 0.0 0.0 0.0 0.0 0.0 0.0 0.0 0.0 0.0; 0.0 0.0 0.0 0.0 0.0 0.0 0.0 0.0 0.0 0.0 0.0 0.0 0.0 0.0 0.0 0.0 0.0 0.0 0.0 0.0 0.0 0.0 0.0 0.0 0.0 0.0 0.0 0.0 0.0 0.0 0.0 0.0 0.0 0.0 0.0 0.0 0.0 0.0 0.0 0.0 0.0 0.0 0.0 0.0 0.0 0.0 0.0 0.0 0.0 0.0 0.0 0.0 0.0 0.0 0.0 0.0 0.0 0.0 0.0 0.0 0.0 0.0 0.0 0.0 0.0 0.0 0.0 0.0 0.0 0.0 0.0 0.0 0.0 0.0 0.0 0.0 0.0 0.0 0.0 0.0 0.0 0.0 0.0 0.0 0.0 0.0 0.0 0.0 0.0 0.0 0.0 0.0 0.0 0.0 0.0 0.0 0.0 0.0 0.0 0.0 0.0 0.0 0.0 0.0 0.0 0.0 0.0 0.0 0.0 0.0 0.0 0.0 0.0 0.0 0.0 0.0 0.0 63.110319202393995 820.4341496311248 0.0 0.0 0.0 0.0 0.0 0.0 0.0 0.0 0.0 0.0 0.0 0.0 0.0 0.0 0.0 0.0 0.0 0.0 0.0 0.0 0.0 0.0 0.0 0.0 0.0 0.0 1262.2063840478877 1520.958692777708 0.0 0.0 0.0 0.0 0.0 0.0 0.0 0.0 0.0 0.0 0.0 0.0 0.0 0.0 0.0 0.0 0.0 0.0 0.0 0.0 0.0 0.0 0.0 0.0 0.0 0.0 1609.3131396610565 1520.958692777708 0.0 0.0 0.0 0.0 0.0 0.0 0.0 0.0 0.0 0.0 0.0 0.0 63.110319202393995 157.77579800598596 157.77579800598596 12.622063840478848 0.0 0.0 0.0 0.0 0.0 0.0 0.0 0.0 0.0 0.0 1609.3131396610565 1520.958692777708 0.0 0.0 0.0 0.0 0.0 0.0 0.0 0.0 0.0 0.0 0.0 435.4612024965173 1205.407096765728 1596.6910758205806 1596.6910758205806 681.5914473858594 12.622063840478848 0.0 0.0 0.0 0.0 0.0 0.0 0.0 0.0 0.0 1609.3131396610565 1520.958692777708 0.0 0.0 0.0 0.0 0.0 0.0 0.0 0.0 0.0 0.0 0.0 1135.9857456431 1363.1828947717188 1363.1828947717188 1577.7579800598614 1596.6910758205806 574.3039047417901 0.0 0.0 0.0 0.0 0.0 0.0 0.0 0.0 0.0 1603.0021077408046 1520.958692777708 0.0 0.0 0.0 0.0 0.0 56.7992872821554 826.7451815513672 416.52810673580126 0.0 0.0 0.0 0.0 0.0 0.0 927.7216922751995 1596.6910758205806 1344.2497990109937 25.244127680957696 0.0 0.0 0.0 0.0 0.0 0.0 0.0 0.0 1609.3131396610565 1520.958692777708 0.0 0.0 0.0 0.0 0.0 315.5515960119719 1596.6910758205806 1205.407096765728 0.0 0.0 0.0 0.0 0.0 0.0 214.57508528814134 1520.958692777708 1596.6910758205806 189.33095760718317 0.0 0.0 0.0 0.0 0.0 0.0 0.0 0.0 1603.0021077408046 1577.7579800598614 498.57152169892004 0.0 0.0 0.0 0.0 492.2604897786755 1596.6910758205806 1205.407096765728 0.0 0.0 0.0 0.0 0.0 0.0 0.0 1489.4035331765156 1596.6910758205806 814.1231177108907 0.0 0.0 0.0 0.0 0.0 0.0 0.0 0.0 1603.0021077408046 1558.8248842991395 359.72881945364765 0.0 0.0 0.0 0.0 1098.1195541216646 1596.6910758205806 1205.407096765728 0.0 0.0 0.0 0.0 0.0 0.0 0.0 1489.4035331765156 1596.6910758205806 814.1231177108907 0.0 0.0 0.0 0.0 0.0 0.0 0.0 0.0 1603.0021077408046 1558.8248842991395 359.72881945364765 0.0 0.0 0.0 422.839138656042 1476.7814693360376 1596.6910758205806 1205.407096765728 0.0 0.0 0.0 0.0 0.0 0.0 0.0 1489.4035331765156 1596.6910758205806 1407.3601182133887 0.0 0.0 0.0 0.0 0.0 0.0 0.0 0.0 1603.0021077408046 1596.6910758205806 700.5245431465754 0.0 0.0 416.52810673580126 1483.0925012562743 1596.6910758205806 1596.6910758205806 1205.407096765728 0.0 0.0 0.0 0.0 0.0 0.0 0.0 1489.4035331765156 1596.6910758205806 984.520979557351 0.0 0.0 0.0 0.0 0.0 0.0 0.0 0.0 1603.0021077408046 1596.6910758205806 700.5245431465754 0.0 410.2170748155624 1489.4035331765156 1596.6910758205806 1596.6910758205806 1596.6910758205806 1331.6277351705205 126.22063840478799 0.0 0.0 0.0 0.0 0.0 542.7487451405864 1577.7579800598614 1596.6910758205806 567.99287282155 0.0 0.0 0.0 0.0 0.0 0.0 0.0 0.0 1603.0021077408046 1596.6910758205806 700.5245431465754 403.90604289532314 1495.7145650967352 1596.6910758205806 1369.493926691956 271.3743725702932 1211.718128685963 1596.6910758205806 1186.4740010050234 119.90960648454897 0.0 0.0 0.0 523.8156493798742 1445.226309734842 1596.6910758205806 978.209947637108 6.311031920239424 0.0 0.0 0.0 0.0 0.0 0.0 0.0 0.0 934.0327241954346 1596.6910758205806 1470.4704374157861 1502.0255970169815 1596.6910758205806 1514.6476608574653 454.3942982572432 0.0 340.7957236929297 1445.226309734842 1596.6910758205806 637.4142239441821 0.0 0.0 511.19358553939395 1369.493926691956 1596.6910758205806 1337.9387670907608 157.77579800598596 0.0 0.0 0.0 0.0 0.0 0.0 0.0 0.0 0.0 517.504617459635 1596.6910758205806 1596.6910758205806 1596.6910758205806 1520.958692777708 448.08326633699704 0.0 0.0 0.0 1173.8519371645377 1596.6910758205806 1312.6946394098106 631.1031920239438 631.1031920239438 1457.8483735753055 1596.6910758205806 1596.6910758205806 593.2370005025117 0.0 0.0 0.0 0.0 0.0 0.0 0.0 0.0 0.0 0.0 6.311031920239424 605.8590643429815 1596.6910758205806 1129.6747137228547 132.53167032502748 0.0 0.0 0.0 0.0 302.92953217149073 1438.9152778145906 1596.6910758205806 1596.6910758205806 1596.6910758205806 1596.6910758205806 1596.6910758205806 290.3074683310142 12.622063840478848 0.0 0.0 0.0 0.0 0.0 0.0 0.0 0.0 0.0 0.0 0.0"
     ]
    },
    {
     "name": "stdout",
     "output_type": "stream",
     "text": [
      " 6.311031920239424 113.5985745643108 50.48825536191539 0.0 0.0 0.0 0.0 0.0 0.0 296.61850025125585 1098.1195541216646 1596.6910758205806 1596.6910758205806 990.8320114775973 208.26405336790063 12.622063840478848 0.0 0.0 0.0 0.0 0.0 0.0 0.0 0.0 0.0 0.0 0.0 0.0 0.0 0.0 0.0 0.0 0.0 0.0 0.0 0.0 0.0 0.0 25.244127680957696 75.73238304287268 75.73238304287268 12.622063840478848 0.0 0.0 0.0 0.0 0.0 0.0 0.0 0.0 0.0 0.0 0.0 0.0 0.0 0.0 0.0 0.0 0.0 0.0 0.0 0.0 0.0 0.0 0.0 0.0 0.0 0.0 0.0 0.0 0.0 0.0 0.0 0.0 0.0 0.0 0.0 0.0 0.0 0.0 0.0 0.0 0.0 0.0 0.0 0.0 0.0 0.0 0.0 0.0 0.0 0.0 0.0 0.0 0.0 0.0 0.0 0.0 0.0 0.0 0.0 0.0 0.0 0.0 0.0 0.0 0.0 0.0 0.0 0.0 0.0 0.0 0.0 0.0 0.0 0.0 0.0 0.0 0.0 0.0 0.0 0.0 0.0 0.0 0.0 0.0 0.0 0.0 0.0 0.0 0.0 0.0 0.0 0.0 0.0 0.0 0.0 0.0 0.0 0.0 0.0 0.0 0.0 0.0 0.0 0.0 0.0 0.0 0.0 0.0 0.0 0.0 0.0 0.0 0.0 0.0 0.0 0.0 0.0 0.0 0.0 0.0 0.0 0.0 0.0 0.0 0.0 0.0 0.0 0.0 0.0 0.0 0.0 0.0 0.0 0.0 0.0 0.0 0.0 0.0 0.0 0.0 0.0 0.0 0.0 0.0 0.0 0.0 0.0 0.0 0.0 0.0 0.0 0.0 0.0 0.0 0.0 0.0 0.0 0.0 0.0 0.0 0.0 0.0 0.0 0.0 0.0 0.0 0.0 0.0 0.0 0.0 0.0 0.0 0.0 0.0 0.0 0.0; 0.0 0.0 0.0 0.0 0.0 0.0 0.0 0.0 0.0 0.0 0.0 0.0 0.0 0.0 0.0 0.0 0.0 0.0 0.0 0.0 0.0 0.0 0.0 0.0 0.0 0.0 0.0 0.0 0.0 0.0 0.0 0.0 0.0 0.0 0.0 0.0 0.0 0.0 0.0 0.0 0.0 0.0 0.0 0.0 0.0 0.0 0.0 0.0 0.0 0.0 0.0 0.0 0.0 0.0 0.0 0.0 0.0 0.0 0.0 0.0 0.0 0.0 0.0 0.0 0.0 0.0 0.0 0.0 0.0 0.0 0.0 0.0 0.0 0.0 0.0 0.0 0.0 0.0 0.0 0.0 0.0 0.0 0.0 0.0 0.0 0.0 0.0 0.0 0.0 0.0 0.0 0.0 0.0 0.0 0.0 0.0 0.0 0.0 0.0 0.0 0.0 0.0 0.0 0.0 0.0 0.0 0.0 0.0 0.0 0.0 0.0 0.0 0.0 0.0 0.0 0.0 0.0 -0.6794611290794877 -8.832994678033323 0.0 0.0 0.0 0.0 0.0 0.0 0.0 0.0 0.0 0.0 0.0 0.0 0.0 0.0 0.0 0.0 0.0 0.0 0.0 0.0 0.0 0.0 0.0 0.0 0.0 0.0 -13.589222581589627 -16.37501321081564 0.0 0.0 0.0 0.0 0.0 0.0 0.0 0.0 0.0 0.0 0.0 0.0 0.0 0.0 0.0 0.0 0.0 0.0 0.0 0.0 0.0 0.0 0.0 0.0 0.0 0.0 -17.32625879152696 -16.37501321081564 0.0 0.0 0.0 0.0 0.0 0.0 0.0 0.0 0.0 0.0 0.0 0.0 -0.6794611290794877 -1.6986528226987034 -1.6986528226987034 -0.1358922258158968 0.0 0.0 0.0 0.0 0.0 0.0 0.0 0.0 0.0 0.0 -17.32625879152696 -16.37501321081564 0.0 0.0 0.0 0.0 0.0 0.0 0.0 0.0 0.0 0.0 0.0 -4.688281790648478 -12.977707565418193 -17.19036656571111 -17.19036656571111 -7.338180194058473 -0.1358922258158968 0.0 0.0 0.0 0.0 0.0 0.0 0.0 0.0 0.0 -17.32625879152696 -16.37501321081564 0.0 0.0 0.0 0.0 0.0 0.0 0.0 0.0 0.0 0.0 0.0 -12.230300323430663 -14.676360388116946 -14.676360388116946 -16.98652822698716 -17.19036656571111 -6.183096274623332 0.0 0.0 0.0 0.0 0.0 0.0 0.0 0.0 0.0 -17.25831267861906 -16.37501321081564 0.0 0.0 0.0 0.0 0.0 -0.611515016171538 -8.90094079094128 -4.484443451924599 0.0 0.0 0.0 0.0 0.0 0.0 -9.988078597468359 -17.19036656571111 -14.472522049393122 -0.2717844516317936 0.0 0.0 0.0 0.0 0.0 0.0 0.0 0.0 -17.32625879152696 -16.37501321081564 0.0 0.0 0.0 0.0 0.0 -3.397305645397407 -17.19036656571111 -12.977707565418193 0.0 0.0 0.0 0.0 0.0 0.0 -2.310167838870233 -16.37501321081564 -17.19036656571111 -2.03838338723847 0.0 0.0 0.0 0.0 0.0 0.0 0.0 0.0 -17.25831267861906 -16.98652822698716 -5.367742919727936 0.0 0.0 0.0 0.0 -5.29979680681996 -17.19036656571111 -12.977707565418193 0.0 0.0 0.0 0.0 0.0 0.0 0.0 -16.035282646275803 -17.19036656571111 -8.765048565125332 0.0 0.0 0.0 0.0 0.0 0.0 0.0 0.0 -17.25831267861906 -16.782689888263405 -3.872928435753071 0.0 0.0 0.0 0.0 -11.822623645982915 -17.19036656571111 -12.977707565418193 0.0 0.0 0.0 0.0 0.0 0.0 0.0 -16.035282646275803 -17.19036656571111 -8.765048565125332 0.0 0.0 0.0 0.0 0.0 0.0 0.0 0.0 -17.25831267861906 -16.782689888263405 -3.872928435753071 0.0 0.0 0.0 -4.552389564832548 -15.899390420459916 -17.19036656571111 -12.977707565418193 0.0 0.0 0.0 0.0 0.0 0.0 0.0 -16.035282646275803 -17.19036656571111 -15.151983178472607 0.0 0.0 0.0 0.0 0.0 0.0 0.0 0.0 -17.25831267861906 -17.19036656571111 -7.542018532782312 0.0 0.0 -4.484443451924599 -15.967336533367945 -17.19036656571111 -17.19036656571111 -12.977707565418193 0.0 0.0 0.0 0.0 0.0 0.0 0.0 -16.035282646275803 -17.19036656571111 -10.59959361363992 0.0 0.0 0.0 0.0 0.0 0.0 0.0 0.0 -17.25831267861906 -17.19036656571111 -7.542018532782312 0.0 -4.4164973390166615 -16.035282646275803 -17.19036656571111 -17.19036656571111 -17.19036656571111 -14.336629823577054 -1.3589222581589755 0.0 0.0 0.0 0.0 0.0 -5.843365710083579 -16.98652822698716 -17.19036656571111 -6.115150161715332 0.0 0.0 0.0 0.0 0.0 0.0 0.0 0.0 -17.25831267861906 -17.19036656571111 -7.542018532782312 -4.348551226108698 -16.103228759183757 -17.19036656571111 -14.744306501024779 -2.9216828550417895 -13.04565367832615 -17.19036656571111 -12.773869226694336 -1.2909761452510264 0.0 0.0 0.0 -5.63952737135973 -15.559659855920275 -17.19036656571111 -10.531647500731976 -0.0679461129079484 0.0 0.0 0.0 0.0 0.0 0.0 0.0 0.0 -10.056024710376343 -17.19036656571111 -15.83144430755197 -16.17117487209193 -17.19036656571111 -16.30706709790776 -4.892120129372304 0.0 -3.6690900970292364 -15.559659855920275 -17.19036656571111 -6.862557403702839 0.0 0.0 -5.5036351455438615 -14.744306501024779 -17.19036656571111 -14.404575936485097 -1.6986528226987034 0.0 0.0 0.0 0.0 0.0 0.0 0.0 0.0 0.0 -5.571581258451769 -17.19036656571111 -17.19036656571111 -17.19036656571111 -16.37501321081564 -4.824174016464336 0.0 0.0 0.0 -12.637977000878424 -17.19036656571111 -14.132791484853353 -6.794611290794814 -6.794611290794814 -15.69555208173602 -17.19036656571111 -17.19036656571111 -6.386934613347168 0.0 0.0 0.0 0.0 0.0 0.0 0.0 0.0 0.0 0.0 -0.0679461129079484 -6.522826839163075 -17.19036656571111 -12.162354210522734 -1.4268683710669219 0.0 0.0 0.0 0.0 -3.2614134195815376 -15.491713743012284 -17.19036656571111 -17.19036656571111 -17.19036656571111 -17.19036656571111 -17.19036656571111 -3.125521193765625 -0.1358922258158968 0.0 0.0 0.0 0.0 0.0 0.0 0.0 0.0 0.0 0.0 0.0 -0.0679461129079484 -1.223030032343076 -0.5435689032635872 0.0 0.0 0.0 0.0 0.0 0.0 -3.193467306673584 -11.822623645982915 -17.19036656571111 -17.19036656571111 -10.667539726547963 -2.2422217259622994 -0.1358922258158968 0.0 0.0 0.0 0.0 0.0 0.0 0.0 0.0 0.0 0.0 0.0 0.0 0.0 0.0 0.0 0.0 0.0 0.0 0.0 0.0 0.0 0.0 -0.2717844516317936 -0.8153533548953844 -0.8153533548953844 -0.1358922258158968 0.0 0.0 0.0 0.0 0.0 0.0 0.0 0.0 0.0 0.0 0.0 0.0 0.0 0.0 0.0 0.0 0.0 0.0 0.0 0.0 0.0 0.0 0.0 0.0 0.0 0.0 0.0 0.0 0.0 0.0 0.0 0.0 0.0 0.0 0.0 0.0 0.0 0.0 0.0 0.0 0.0 0.0 0.0 0.0 0.0 0.0 0.0 0.0 0.0 0.0 0.0 0.0 0.0 0.0 0.0 0.0 0.0 0.0 0.0 0.0 0.0 0.0 0.0 0.0 0.0 0.0 0.0 0.0 0.0 0.0 0.0 0.0 0.0 0.0 0.0 0.0 0.0 0.0 0.0 0.0 0.0 0.0 0.0 0.0 0.0 0.0 0.0 0.0 0.0 0.0 0.0 0.0 0.0 0.0 0.0 0.0 0.0 0.0 0.0 0.0 0.0 0.0 0.0 0.0 0.0 0.0 0.0 0.0 0.0 0.0 0.0 0.0 0.0 0.0 0.0 0.0 0.0 0.0 0.0 0.0 0.0 0.0 0.0 0.0 0.0 0.0 0.0 0.0 0.0 0.0 0.0 0.0 0.0 0.0 0.0 0.0 0.0 0.0 0.0 0.0 0.0 0.0 0.0 0.0 0.0 0.0 0.0 0.0 0.0 0.0 0.0 0.0 0.0 0.0 0.0 0.0 0.0 0.0 0.0 0.0 0.0 0.0 0.0 0.0 0.0 0.0 0.0 0.0 0.0 0.0 0.0 0.0 0.0 0.0 0.0 0.0; 0.0 0.0 0.0 0.0 0.0 0.0 0.0 0.0 0.0 0.0 0.0 0.0 0.0 0.0 0.0 0.0 0.0 0.0 0.0 0.0 0.0 0.0 0.0 0.0 0.0 0.0 0.0 0.0 0.0 0.0 0.0 0.0 0.0 0.0 0.0 0.0 0.0 0.0 0.0 0.0 0.0 0.0 0.0 0.0 0.0 0.0 0.0 0.0 0.0 0.0 0.0 0.0 0.0 0.0 0.0 0.0 0.0 0.0 0.0 0.0 0.0 0.0 0.0 0.0 0.0 0.0 0.0 0.0 0.0 0.0 0.0 0.0 0.0 0.0 0.0 0.0 0.0 0.0 0.0 0.0 0.0 0.0 0.0 0.0 0.0 0.0 0.0 0.0 0.0 0.0 0.0 0.0 0.0 0.0 0.0 0.0 0.0 0.0 0.0 0.0 0.0 0.0 0.0 0.0 0.0 0.0 0.0 0.0 0.0 0.0 0.0 0.0 0.0 0.0 0.0 0.0 0.0 26.841965063817458 348.94554582962735 0.0 0.0 0.0 0.0 0.0 0.0 0.0 0.0 0.0 0.0 0.0 0.0 0.0 0.0 0.0 0.0 0.0 0.0 0.0 0.0 0.0 0.0 0.0 0.0 0.0 0.0 536.8393012763469 646.8913580379966 0.0 0.0 0.0 0.0 0.0 0.0 0.0 0.0 0.0 0.0 0.0 0.0 0.0 0.0 0.0 0.0 0.0 0.0 0.0 0.0 0.0 0.0 0.0 0.0 0.0 0.0 684.4701091273434 646.8913580379966 0.0 0.0 0.0 0.0 0.0 0.0 0.0 0.0 0.0 0.0 0.0 0.0 26.841965063817458 67.10491265954336 67.10491265954336 5.368393012763436 0.0 0.0 0.0 0.0 0.0 0.0 0.0 0.0 0.0 0.0 684.4701091273434 646.8913580379966 0.0 0.0 0.0 0.0 0.0 0.0 0.0 0.0 0.0 0.0 0.0 185.20955894033935 512.6815327189116 679.1017161145814 679.1017161145814 289.8932226892252 5.368393012763436 0.0 0.0 0.0 0.0 0.0 0.0 0.0 0.0 0.0 684.4701091273434 646.8913580379966 0.0 0.0 0.0 0.0 0.0 0.0 0.0 0.0 0.0 0.0 0.0 483.1553711487072 579.7864453784504 579.7864453784504 671.0491265954339 679.1017161145814 244.26188208073654 0.0 0.0 0.0 0.0 0.0 0.0 0.0 0.0 0.0 681.7859126209622 646.8913580379966 0.0 0.0 0.0 0.0 0.0 24.157768557435528 351.62974233600573 177.15696942119456 0.0 0.0 0.0 0.0 0.0 0.0 394.57688643811446 679.1017161145814 571.7338558593112 10.736786025526872 0.0 0.0 0.0 0.0 0.0 0.0 0.0 0.0 684.4701091273434 646.8913580379966 0.0 0.0 0.0 0.0 0.0 134.20982531908672 679.1017161145814 512.6815327189116 0.0 0.0 0.0 0.0 0.0 0.0 91.2626812169785 646.8913580379966 679.1017161145814 80.52589519145168 0.0 0.0 0.0 0.0 0.0 0.0 0.0 0.0 681.7859126209622 671.0491265954339 212.05152400415534 0.0 0.0 0.0 0.0 209.36732749777494 679.1017161145814 512.6815327189116 0.0 0.0 0.0 0.0 0.0 0.0 0.0 633.4703755060874 679.1017161145814 346.2613493232425 0.0 0.0 0.0 0.0 0.0 0.0 0.0 0.0 681.7859126209622 662.9965370762859 152.9992008637583 0.0 0.0 0.0 0.0 467.0501921104245 679.1017161145814 512.6815327189116 0.0 0.0 0.0 0.0 0.0 0.0 0.0 633.4703755060874 679.1017161145814 346.2613493232425 0.0 0.0 0.0 0.0 0.0 0.0 0.0 0.0 681.7859126209622 662.9965370762859 152.9992008637583 0.0 0.0 0.0 179.84116592757485 628.1019824933259 679.1017161145814 512.6815327189116 0.0 0.0 0.0 0.0 0.0 0.0 0.0 633.4703755060874 679.1017161145814 598.5758209231282 0.0 0.0 0.0 0.0 0.0 0.0 0.0 0.0 681.7859126209622 679.1017161145814 297.94581220837347 0.0 0.0 177.15696942119456 630.7861789997055 679.1017161145814 679.1017161145814 512.6815327189116 0.0 0.0 0.0 0.0 0.0 0.0 0.0 633.4703755060874 679.1017161145814 418.7346549955499 0.0 0.0 0.0 0.0 0.0 0.0 0.0 0.0 681.7859126209622 679.1017161145814 297.94581220837347 0.0 174.47277291481367 633.4703755060874 679.1017161145814 679.1017161145814 679.1017161145814 566.3654628465483 53.683930127634916 0.0 0.0 0.0 0.0 0.0 230.84089954882896 671.0491265954339 679.1017161145814 241.5776855743536 0.0 0.0 0.0 0.0 0.0 0.0 0.0 0.0 681.7859126209622 679.1017161145814 297.94581220837347 171.78857640842995 636.1545720124717 679.1017161145814 582.4706418848335 115.42044977441448 515.3657292252934 679.1017161145814"
     ]
    },
    {
     "name": "stdout",
     "output_type": "stream",
     "text": [
      " 504.6289431997654 50.999733621252936 0.0 0.0 0.0 222.78831002968477 614.6809999614153 679.1017161145814 416.050458489164 2.684196506381718 0.0 0.0 0.0 0.0 0.0 0.0 0.0 0.0 397.26108294449716 679.1017161145814 625.4177859869448 638.8387685188536 679.1017161145814 644.2071615316135 193.26214845948422 0.0 144.9466113446126 614.6809999614153 679.1017161145814 271.10384714455427 0.0 0.0 217.41991701692015 582.4706418848335 679.1017161145814 569.0496593529272 67.10491265954336 0.0 0.0 0.0 0.0 0.0 0.0 0.0 0.0 0.0 220.1041135233024 679.1017161145814 679.1017161145814 679.1017161145814 646.8913580379966 190.57795195310237 0.0 0.0 0.0 499.26055018700436 679.1017161145814 558.3128733273999 268.41965063817344 268.41965063817344 620.0493929741782 679.1017161145814 679.1017161145814 252.3144715998827 0.0 0.0 0.0 0.0 0.0 0.0 0.0 0.0 0.0 0.0 2.684196506381718 257.6828646126467 679.1017161145814 480.4711746423285 56.368126634016214 0.0 0.0 0.0 0.0 128.84143230632336 611.9968034550332 679.1017161145814 679.1017161145814 679.1017161145814 679.1017161145814 679.1017161145814 123.4730392935592 5.368393012763436 0.0 0.0 0.0 0.0 0.0 0.0 0.0 0.0 0.0 0.0 0.0 2.684196506381718 48.315537114871056 21.473572051053743 0.0 0.0 0.0 0.0 0.0 0.0 126.15723579994135 467.0501921104245 679.1017161145814 679.1017161145814 421.41885150193156 88.57848471059728 5.368393012763436 0.0 0.0 0.0 0.0 0.0 0.0 0.0 0.0 0.0 0.0 0.0 0.0 0.0 0.0 0.0 0.0 0.0 0.0 0.0 0.0 0.0 0.0 10.736786025526872 32.21035807658084 32.21035807658084 5.368393012763436 0.0 0.0 0.0 0.0 0.0 0.0 0.0 0.0 0.0 0.0 0.0 0.0 0.0 0.0 0.0 0.0 0.0 0.0 0.0 0.0 0.0 0.0 0.0 0.0 0.0 0.0 0.0 0.0 0.0 0.0 0.0 0.0 0.0 0.0 0.0 0.0 0.0 0.0 0.0 0.0 0.0 0.0 0.0 0.0 0.0 0.0 0.0 0.0 0.0 0.0 0.0 0.0 0.0 0.0 0.0 0.0 0.0 0.0 0.0 0.0 0.0 0.0 0.0 0.0 0.0 0.0 0.0 0.0 0.0 0.0 0.0 0.0 0.0 0.0 0.0 0.0 0.0 0.0 0.0 0.0 0.0 0.0 0.0 0.0 0.0 0.0 0.0 0.0 0.0 0.0 0.0 0.0 0.0 0.0 0.0 0.0 0.0 0.0 0.0 0.0 0.0 0.0 0.0 0.0 0.0 0.0 0.0 0.0 0.0 0.0 0.0 0.0 0.0 0.0 0.0 0.0 0.0 0.0 0.0 0.0 0.0 0.0 0.0 0.0 0.0 0.0 0.0 0.0 0.0 0.0 0.0 0.0 0.0 0.0 0.0 0.0 0.0 0.0 0.0 0.0 0.0 0.0 0.0 0.0 0.0 0.0 0.0 0.0 0.0 0.0 0.0 0.0 0.0 0.0 0.0 0.0 0.0 0.0 0.0 0.0 0.0 0.0 0.0 0.0 0.0 0.0 0.0 0.0 0.0 0.0 0.0 0.0 0.0 0.0 0.0 0.0; 0.0 0.0 0.0 0.0 0.0 0.0 0.0 0.0 0.0 0.0 0.0 0.0 0.0 0.0 0.0 0.0 0.0 0.0 0.0 0.0 0.0 0.0 0.0 0.0 0.0 0.0 0.0 0.0 0.0 0.0 0.0 0.0 0.0 0.0 0.0 0.0 0.0 0.0 0.0 0.0 0.0 0.0 0.0 0.0 0.0 0.0 0.0 0.0 0.0 0.0 0.0 0.0 0.0 0.0 0.0 0.0 0.0 0.0 0.0 0.0 0.0 0.0 0.0 0.0 0.0 0.0 0.0 0.0 0.0 0.0 0.0 0.0 0.0 0.0 0.0 0.0 0.0 0.0 0.0 0.0 0.0 0.0 0.0 0.0 0.0 0.0 0.0 0.0 0.0 0.0 0.0 0.0 0.0 0.0 0.0 0.0 0.0 0.0 0.0 0.0 0.0 0.0 0.0 0.0 0.0 0.0 0.0 0.0 0.0 0.0 0.0 0.0 0.0 0.0 0.0 0.0 0.0 -1911.9174693132097 -24854.927101071855 0.0 0.0 0.0 0.0 0.0 0.0 0.0 0.0 0.0 0.0 0.0 0.0 0.0 0.0 0.0 0.0 0.0 0.0 0.0 0.0 0.0 0.0 0.0 0.0 0.0 0.0 -38238.34938626441 -46077.21101044847 0.0 0.0 0.0 0.0 0.0 0.0 0.0 0.0 0.0 0.0 0.0 0.0 0.0 0.0 0.0 0.0 0.0 0.0 0.0 0.0 0.0 0.0 0.0 0.0 0.0 0.0 -48753.895467486785 -46077.21101044847 0.0 0.0 0.0 0.0 0.0 0.0 0.0 0.0 0.0 0.0 0.0 0.0 -1911.9174693132097 -4779.793673283051 -4779.793673283051 -382.3834938626412 0.0 0.0 0.0 0.0 0.0 0.0 0.0 0.0 0.0 0.0 -48753.895467486785 -46077.21101044847 0.0 0.0 0.0 0.0 0.0 0.0 0.0 0.0 0.0 0.0 0.0 -13192.230538261127 -36517.623663882296 -48371.51197362407 -48371.51197362407 -20648.708668582698 -382.3834938626412 0.0 0.0 0.0 0.0 0.0 0.0 0.0 0.0 0.0 -48753.895467486785 -46077.21101044847 0.0 0.0 0.0 0.0 0.0 0.0 0.0 0.0 0.0 0.0 0.0 -34414.51444763799 -41297.417337165396 -41297.417337165396 -47797.93673283012 -48371.51197362407 -17398.44897075004 0.0 0.0 0.0 0.0 0.0 0.0 0.0 0.0 0.0 -48562.703720555524 -46077.21101044847 0.0 0.0 0.0 0.0 0.0 -1720.7257223818917 -25046.118848003127 -12618.655297467078 0.0 0.0 0.0 0.0 0.0 0.0 -28105.186798904037 -48371.51197362407 -40723.84209637153 -764.7669877252824 0.0 0.0 0.0 0.0 0.0 0.0 0.0 0.0 -48753.895467486785 -46077.21101044847 0.0 0.0 0.0 0.0 0.0 -9559.587346566102 -48371.51197362407 -36517.623663882296 0.0 0.0 0.0 0.0 0.0 0.0 -6500.519395664856 -46077.21101044847 -48371.51197362407 -5735.752407939605 0.0 0.0 0.0 0.0 0.0 0.0 0.0 0.0 -48562.703720555524 -47797.93673283012 -15104.148007574335 0.0 0.0 0.0 0.0 -14912.956260643072 -48371.51197362407 -36517.623663882296 0.0 0.0 0.0 0.0 0.0 0.0 0.0 -45121.25227579194 -48371.51197362407 -24663.73535414031 0.0 0.0 0.0 0.0 0.0 0.0 0.0 0.0 -48562.703720555524 -47224.36149203636 -10897.929575085256 0.0 0.0 0.0 0.0 -33267.36396604967 -48371.51197362407 -36517.623663882296 0.0 0.0 0.0 0.0 0.0 0.0 0.0 -45121.25227579194 -48371.51197362407 -24663.73535414031 0.0 0.0 0.0 0.0 0.0 0.0 0.0 0.0 -48562.703720555524 -47224.36149203636 -10897.929575085256 0.0 0.0 0.0 -12809.847044398557 -44738.86878192893 -48371.51197362407 -36517.623663882296 0.0 0.0 0.0 0.0 0.0 0.0 0.0 -45121.25227579194 -48371.51197362407 -42635.75956568419 0.0 0.0 0.0 0.0 0.0 0.0 0.0 0.0 -48562.703720555524 -48371.51197362407 -21222.283909376507 0.0 0.0 -12618.655297467078 -44930.060528860646 -48371.51197362407 -48371.51197362407 -36517.623663882296 0.0 0.0 0.0 0.0 0.0 0.0 0.0 -45121.25227579194 -48371.51197362407 -29825.912521286144 0.0 0.0 0.0 0.0 0.0 0.0 0.0 0.0 -48562.703720555524 -48371.51197362407 -21222.283909376507 0.0 -12427.463550535927 -45121.25227579194 -48371.51197362407 -48371.51197362407 -48371.51197362407 -40341.45860250862 -3823.8349386264194 0.0 0.0 0.0 0.0 0.0 -16442.490236093643 -47797.93673283012 -48371.51197362407 -17207.257223818993 0.0 0.0 0.0 0.0 0.0 0.0 0.0 0.0 -48562.703720555524 -48371.51197362407 -21222.283909376507 -12236.271803604519 -45312.44402272313 -48371.51197362407 -41488.60908409655 -8221.245118046822 -36708.81541081373 -48371.51197362407 -35944.048423088156 -3632.6431916950605 0.0 0.0 0.0 -15868.914995299661 -43782.91004727229 -48371.51197362407 -29634.720774354562 -191.1917469313206 0.0 0.0 0.0 0.0 0.0 0.0 0.0 0.0 -28296.37854583522 -48371.51197362407 -44547.67703499746 -45503.63576965429 -48371.51197362407 -45886.01926351684 -13765.805779055134 0.0 -10324.354334291349 -43782.91004727229 -48371.51197362407 -19310.36644006335 0.0 0.0 -15486.53150143694 -41488.60908409655 -48371.51197362407 -40532.65034943987 -4779.793673283051 0.0 0.0 0.0 0.0 0.0 0.0 0.0 0.0 0.0 -15677.723248368362 -48371.51197362407 -48371.51197362407 -48371.51197362407 -46077.21101044847 -13574.614032123787 0.0 0.0 0.0 -35561.66492922569 -48371.51197362407 -39767.88336171487 -19119.174693132205 -19119.174693132205 -44165.29354113492 -48371.51197362407 -48371.51197362407 -17972.024211544078 0.0 0.0 0.0 0.0 0.0 0.0 0.0 0.0 0.0 0.0 -191.1917469313206 -18354.407705406866 -48371.51197362407 -34223.322700706405 -4015.02668555773 0.0 0.0 0.0 0.0 -9177.203852703433 -43591.718300341025 -48371.51197362407 -48371.51197362407 -48371.51197362407 -48371.51197362407 -48371.51197362407 -8794.8203588407 -382.3834938626412 0.0 0.0 0.0 0.0 0.0 0.0 0.0 0.0 0.0 0.0 0.0 -191.1917469313206 -3441.4514447637835 -1529.5339754505649 0.0 0.0 0.0 0.0 0.0 0.0 -8986.012105772039 -33267.36396604967 -48371.51197362407 -48371.51197362407 -30017.104268217485 -6309.327648733539 -382.3834938626412 0.0 0.0 0.0 0.0 0.0 0.0 0.0 0.0 0.0 0.0 0.0 0.0 0.0 0.0 0.0 0.0 0.0 0.0 0.0 0.0 0.0 0.0 -764.7669877252824 -2294.300963175858 -2294.300963175858 -382.3834938626412 0.0 0.0 0.0 0.0 0.0 0.0 0.0 0.0 0.0 0.0 0.0 0.0 0.0 0.0 0.0 0.0 0.0 0.0 0.0 0.0 0.0 0.0 0.0 0.0 0.0 0.0 0.0 0.0 0.0 0.0 0.0 0.0 0.0 0.0 0.0 0.0 0.0 0.0 0.0 0.0 0.0 0.0 0.0 0.0 0.0 0.0 0.0 0.0 0.0 0.0 0.0 0.0 0.0 0.0 0.0 0.0 0.0 0.0 0.0 0.0 0.0 0.0 0.0 0.0 0.0 0.0 0.0 0.0 0.0 0.0 0.0 0.0 0.0 0.0 0.0 0.0 0.0 0.0 0.0 0.0 0.0 0.0 0.0 0.0 0.0 0.0 0.0 0.0 0.0 0.0 0.0 0.0 0.0 0.0 0.0 0.0 0.0 0.0 0.0 0.0 0.0 0.0 0.0 0.0 0.0 0.0 0.0 0.0 0.0 0.0 0.0 0.0 0.0 0.0 0.0 0.0 0.0 0.0 0.0 0.0 0.0 0.0 0.0 0.0 0.0 0.0 0.0 0.0 0.0 0.0 0.0 0.0 0.0 0.0 0.0 0.0 0.0 0.0 0.0 0.0 0.0 0.0 0.0 0.0 0.0 0.0 0.0 0.0 0.0 0.0 0.0 0.0 0.0 0.0 0.0 0.0 0.0 0.0 0.0 0.0 0.0 0.0 0.0 0.0 0.0 0.0 0.0 0.0 0.0 0.0 0.0 0.0 0.0 0.0 0.0 0.0]\n"
     ]
    },
    {
     "name": "stdout",
     "output_type": "stream",
     "text": [
      "4. [-6.532863815005648e10; 2.7074850082167224e11; -6.944558916030504e10; -6.881178237869911e10; -1.0613653310264409e11; 5.052861912290615e10; 4.277547743300812e10; -5.7207756277026596e10; -1.1944405886804825e10; -8.650894196961314e10; -7.955682598490828e10; -5.733544846525831e10; 6.90052802234968e10; 2.823106995165286e11; -1.0352488382362343e11; 1.249845722314434e11; 1.8573168205708176e10; -7.760879796463034e10; -1.2152230930234793e11; 2.1305968835838425e11; 2.0306574501468777e11; -1.3354765119596756e10; 1.203423044287245e11; 1.8523666406229367e11; -2.0284333488385342e11; 2.87135435450322e10; -4.225856261062209e10; -2.1608131222422232e11; -2.5292340355406952e11; 6.053474128271525e10; 4.448199023226819e10; -1.289167212978377e10; -1.7121404845692737e11; 1.8641173419023257e11; -1.4072444656427386e11; -1.682389996611782e11; 1.4412029472990993e10; -4.398119598983462e10; 5.232582182926803e10; 5.630534791404422e10; 1.7357719236394615e10; 1.515692067753355e11; 7.222944260783932e10; 1.841094869782292e11; -5.057112361131293e10; -1.74191714816141e11; -9.192751591840775e10; 9.693244695568692e10; -8.585065737901878e10; -2.2156498355112387e11; -2.285809695041395e9; 5.307449614481443e10; -1.9306753564378384e11; -2.4844069044955197e11; 1.268616039400158e11; 1.7350701915101407e11; -8.679176638799347e10; -1.383075999777376e11; 1.7083676086228043e11; -1.0344506443851418e11; -2.266029328001501e11; 5.9066920166199684e10; -1.0066911154416563e11; 2.429055874982806e10; -2.6012336762347327e11; -9.646240385892537e10; 1.5008224553841013e11; -8.068438053394308e10; -4.408908339322964e10; -1.7085244836446985e11; -1.180962866200974e11; 7.579460427401596e9; 1.4935542334517282e11; -1.959063896459518e11; 1.257603628516817e10; -6.7415508769152466e10; 2.8567020747738373e10; -9.124599277720392e10; 2.915523733742087e11; 1.6786681137172968e11; 2.3354656071867966e10; 1.1265090426270497e11; 1.0325542105672148e11; 9.871086102483221e10; -9.654357225660725e10; 1.6192271926836993e11; -3.71023859639434e10; 7.901973109594803e10; -5.523272948688217e10; -1.4346770364450296e11; 1.0244445561477953e11; -7.715128608717326e10; -1.813116533062507e11; -3.680678882045239e11; -2.8928062182775826e10; 2.5297858040292484e11; -5.815181508859942e10; 5.127576534414526e9; 5.57781191519531e10; 1.3413858954907616e11; -4.089110222932638e10; -2.39679019978105e11; -1.6528608858092625e10; 4.343089152609121e10; 5.190196812294573e10; -2.833253085545168e11; -5.8763865159468094e10; 3.5513630561980095e10; 1.6152538631052945e11; -2.680749394999473e11; -4.1395120292769346e9; 6.312247960467768e10; 2.5787669677354095e11; -2.4607281771640236e10; -3.497905559115793e10; -1.2948230677451216e10; 6.723888962989733e10; -1.693559469729801e11; -1.6794198941344974e11; 2.697315940852359e11; -1.9281819066306702e11; 6.191042338789623e10; -2.6524810053271378e11; -1.4019892094212125e11; 2.4362229216916776e11; -9.666894232132275e10; 2.0073750391909573e11; -1.3538966976523276e11; -1.5496838057765933e11; -2.6394116721454538e11; 3.936447587033166e10; 2.1745864899853204e11; 1.7481158693565643e10; 5.955021795274763e10; 1.0613935138237549e11; -2.626744235235156e10; 4.048598225580384e10; 6.0957286250496e10; 5.5744604053981e10; -3.4203064449084846e10; 4.8609708058140976e10; 1.3611292635352512e11; 2.3829566065313663e11; -6.6406346588854866e10; -4.281685279590364e10; 2.083523089943863e11; 3.724222662735688e10; 3.4541157612304565e10; 5.1976014685261e10; -1.3102266222075105e11; 1.1549582157970992e11; -2.5446238705069003e11; -2.19719460077561e11; 5.577724624586123e10; 3.0480456952508344e11; 3.160197200934819e11; 5.959237883866728e10; 4.015864236877331e10; 2.8296443751839916e10; -1.7943185680113647e11; 1.3121841360556691e11; -6.941630694164724e9; -2.2681665736843018e11; 7.369473161934448e10; -8.906396802568628e10; -1.2385056286961943e11; -2.4511637267209525e11; 3.476714184275577e10; 1.6138828925574182e11; 5.8365415799347e10; -3.3670531434287743e10; -1.442621534264069e11; 2.2598936433917908e10; -8.118347494903856e10; 7.758371527096161e10; -9.46595684637977e10; -3.897124241626916e10; 1.439816786713748e11; 9.212196282407845e9; 5.770152556070011e10; 8.438684837080229e10; -7.901736514522974e10; -6.057387044091795e10; 1.2142359487255508e11; -3.9609166633446075e10; -4.036975290566506e10; 3.60477216782594e10; -9.474163895789623e9; -3.783870758127262e10; 5.100379801193482e10; 8.902030041922217e10; 1.384172315674218e11; 5.407965363540449e10; -5.0877281310634415e10; -4.084758354711104e10; 5.040585619599977e10; -3.3353076378030594e10; 9.445624185465776e10; -1.1497060501745224e11; -1.1609919260455067e11; -1.1504465764734174e11; 2.108886860046972e11; -1.4145274208685724e11; 1.6861250274795536e10; -1.3240638188802872e11; -1.9862449044144504e11; -1.457571478234005e11; -8.507053641852126e10; -1.6685813310432657e11; 1.2360894350878777e11; 7.608150683329428e10; -1.0011438257798658e10; 4.5844755270750046e10; -7.659763907168571e10; 6.96866795285265e10; 1.5070100804792072e11; 3.436468636442566e10; -5.470650484515919e10; -1.0539788275514197e11; -6.514385782759536e10; -1.036509162140479e11; 5.492841923021339e10; 3.256055556703707e8; 1.55547413596234e11; -2.3233918941508188e11; -5.5306231012846016e10; -3.8287138137538345e10; 2.8291599459648303e11; -1.7707586824148566e11; -3.974507832114894e10; 8.458043104679129e10; -1.4215882797617126e11; -7.976301342933665e10; -1.20994434191263e10; -1.856566249213307e9; -6.024235465197423e10; 2.3856899767923517e11; -2.4532531865880173e11; 2.105234572656642e11; 1.652018743168827e11; -5.427715392679809e10; 2.868171745091674e11; 1.606996421087061e10; 2.1339951264497974e11; -1.2250218263092221e11; 4.576860472048797e10; -2.691293917565348e11; -3.3546784241195663e10; 1.6509412502287012e10; -5.4888865872432144e10; 2.5247724050283485e10; 3.9678556383494286e10; 1.2032112198647385e11; 5.361111359529339e10; 1.3749665159911047e11; -1.8093024377601566e11; -2.134162278140467e11; -1.173224796937958e10; -2.233799851596154e11; -1.5821338458833005e11; 1.797041755945454e11; -1.477005505347744e11; -1.3075095801201967e11; 4.6385599873524475e9; -3.2016486175775818e10; 6.547072348971786e10; -2.4035635876230008e11; -8.391089373498778e10; 2.4711750758953333e9; 2.735447250466059e11; 2.3625265529047064e11; 1.1339122480837465e11; 1.3973731930214575e11; -7.01871321754347e10; -1.0413057139823868e11; 6.214123058577823e10; 3.2138061263623737e11; -1.5304275068093e11; 1.655766134513185e11; 1.5182675244369183e11; -2.5278711376975716e10; -6.689547365652474e10; 1.061815080254797e11; -2.4788105421577216e11; 1.1611229167000278e10; -8.46414284180917e10; -1.0340008921042635e10; -4.8404083996501884e10; 7.028830643726701e10; -6.021498994605907e9; 2.826942584729397e10; -2.106151797980569e10; 3.525219523780535e10; -1.0406852020589424e11; 7.456588401375677e10; 1.5592430236787228e11; -4.881020904599264e10; 2.166488222947821e9; -1.1422229987922766e11; 1.03711843166439e11; -2.433229250777957e10; 3.249459997975669e11; 1.5767143689636337e11; 2.3466214301894345e11; 3.912587634893744e10; 8.001664769756166e10; 3.129655426713522e10; 2.0812890362313483e11; -9.236554909643936e10; -1.417887821249985e11; 4.026688245305438e10; -1.102546385539001e11; 1.916976212394002e11; -5.736539357700274e10; -1.404675457258044e11; -1.3325542118688594e11; -2.3008293661357794e11; -2.6805232805883267e11; 5.561395530430898e10; 6.793282888784833e10; 3.885745631064339e10; 2.198392501990159e11; -2.8791314669201492e10; -6.467443244841818e10; 2.078960622013821e10; -9.20219180416239e10; -1.115519580858492e10; -1.945276127373049e10; -1.0688757669258133e11; 9.792758581083115e10; 3.540238856299813e10; 1.6681430811867618e11; -1.2764286459837227e11; -4.742944668392152e9; 1.146420379932657e10; 2.2748221768252606e11; 1.1627977597841286e11; -1.1237979552805681e11; -3.4878502751169165e11; 8.873058410514029e10; 2.5137997725267536e10; 1.2359243288991203e11; -8.3559794310378e10; -3.8063660891896255e10; 3.4820207699589935e10; 7.057117103494116e10; 3.32397039706722e9; 1.0125051175346504e11; -7.265839547639404e10; -1.4308797383135248e11; 2.122426556863397e11; -1.3676968683605362e11; -1.2420179327216115e11; -2.800931437244338e11; -1.5315373525298822e11; 1.645265645118623e11; 7.171132309537943e10; 1.0022402814253473e11; -1.1628386377839361e10; -2.43537750343591e11; 9.738343159719803e10; 2.4301301038219528e11; 5.889606072844541e10; -4.3844581635600655e10; -2.7832288101674145e10; 1.0655583644534587e11; -6.740938735948077e10; 3.6948883421369643e9; -1.5630377195417087e11; 3.4671716261072745e9; 1.3510384316551492e9; 2.4732305339151485e10; -7.957005248104398e10; 1.0709870790163483e11; -1.423529193980881e11; -1.6826446666042618e11; -2.6324562169900323e11; -2.2710792074893593e10; -1.4848518020777747e11; -5.444659158066113e9; -3.324490278147353e11; -1.9248666328859152e11; -2.76865094340725e11; 4.693268479110653e7; -1.1330605649056163e11; -1.4948393478128757e11; 6.081222201023834e10; 1.949744749699071e11; 1.6748759277574222e11; -1.2089854680228012e10; -2.3909938637201434e11; -9.981825802480823e10; 5.534389497104541e10; 1.1356385531155473e11; -2.454267696420906e11; -7.479541893845755e10; -7.194549821039722e10; -3.5079778388508835e10; 1.059733943791873e11; -6.953492877613643e10; -2.116305682648616e11; -1.342997347057743e11; -7.318906484413094e10; 5.4721889402755554e10; 6.662549983996453e10; -1.2439513757229228e11; -2.7231330351863538e11; -2.8599329667635913e11; -2.168706319179971e11; -2.4366756406473294e11; -2.0162405630187546e11; -2.377717633128795e11; -5.8403992394423454e10; 1.694501930108784e9; -9.282688303342142e10; 1.6413026450028192e11; -1.554663079602293e11; 6.32488552783018e10; 1.1959729280457515e11; 1.3157423736508068e10; -1.268727849281504e11; 1.5668885886874347e11; 1.7899522465819922e11; -5.292093074971723e10; 2.0031877278511017e11; 6.645499138666365e10; -1.5589000990376276e11; 1.6371150545316504e11; 2.7079728328592343e11; 2.957186329075888e11; -9.767101285596361e10; -4.167669253209776e10; -1.8842168277964966e11; -1.6390684542457925e11; -7.120877323808315e10; 6.540759322196138e10; -2.792269831991888e11; -3.4060527888719055e10; -2.2362555047316104e11; -1.1541440597205627e11; 4.9740071480259155e10; -5.602461546689228e10; -8.453255423187659e10; -2.3916611133596558e10; 1.055703895373254e11; -5.32457115466685e10; -1.3307874182615986e10; 1.1050751568027946e11; 1.9081216979625296e11; -1.7650765792609634e9; -7.818303224127861e10; -1.3216269315242205e10; -1.9670213238874124e11; -7.463272679157042e10; 1.9241618421499625e11; 2.3634227371910067e9; -2.5591786813887356e10; -1.4792978407709036e11; 3.674349805490091e10; 4.496124517800567e10; -3.547106344348849e11; -2.278533855584501e11; -2.3845972857004843e11; -2.5480364680902148e11; -2.1089595458543735e11; -1.956883913676634e11; -1.2864526598046333e11; -6.6639068285725876e10; -2.298194850972591e9; 9.284978675792697e10; -8.282124333836809e10; -1.5863451827351266e11; 8.239116992807188e10; 1.5359120032819437e11; 3.0689180679373596e10; -8.375954973469424e10; -3.7004309446481366e9; 8.23244164363172e10; 3.925476092403869e10; -2.243477254031409e11; -8.470268578209914e10; -2.065680071823964e11; 6.4705884741762905e9; -7.129172721257814e10; -1.4366013716243567e11; -9.181873421178401e10; 4.4701110301994415e10; -5.536501350404277e10; -3.4514821637722725e10; -1.0073951338820229e11; -5.623837954623866e10; -9.491959672956407e10; 6.670231240727125e10; -6.248856429938393e10; 1.7808613669375125e11; -1.6775229866173245e11; -7.934112020141534e10; -1.8715665322871807e10; 1.6477520616047568e11; -2.5521584286451028e11; -6.908290461906613e10; 7.133832223627475e10; -2.1545488621944336e11; 1.2126719631666942e11; -2.1228465550695984e11; -1.9182019954157596e11; -1.3271743656212158e11; -2.1934057737741458e11; 4.715840048012519e10; 1.590833478496981e11; 1.6176219979443774e11; -2.7196767744786462e11; 1.68474200965142e11; 4.890158059945267e10; 3.626845603718071e10; -1.651271897436672e11; 6.455183437045728e10; 1.0135411549287954e10; 2.1340189174113197e10; 1.273392033432033e11; -2.909800256544053e11; -2.4731071476026343e11; -1.3619325659372871e11; 1.4728560255691913e11; 7.887415651406929e10; -3.1369379798446704e11; 1.2169874842236905e11; 7.380864915248522e8; -1.5902825859197205e11; -1.1188973053384897e11; 2.837398692976926e11; 1.6433952286611703e11; 2.7348058342784668e10; 9.524962810284259e10; -2.468233223756496e11; -1.2686759256238872e11; 1.6131171736291803e11; -2.6181342295922476e11; 5.097858799657404e10; 3.213502011847521e11; 1.854634127634401e9; -2.0795271937179776e11; 9.161522690945618e10; 1.1085244749217532e11; -7.796969692210707e10"
     ]
    },
    {
     "name": "stdout",
     "output_type": "stream",
     "text": [
      "; 4.310188204805086e10; -1.8325251924253838e10; -1.418389837613255e11; 1.490781490587453e11; -8.04913875867555e10; 1.2283008435257382e11; -2.7382085152190863e11; -2.3303874942482494e10; -1.778390386919773e11; 8.576620956847684e10; -2.153606621799341e11; -2.0560773704460144e11; -1.2669344617820131e11; 4.847123069217197e10; 1.9326774037826782e10; 1.5733224907475833e11; 4.8139187432327675e10; -1.522363651999897e11; 1.290546766850464e10; -4.7587328666131226e10; 1.8711096965093665e11; -1.3461222307168855e11; -1.2016204229267836e10; -1.337078177007652e10; -9.289025651718927e10; 2.5226647101829773e11; 8.2942001410316e10; -7.013854718786804e10; 2.9038891983168224e10; -9.031313644956691e10; 3.178771904051985e10; -1.6273562039397043e11; 1.6659360285093863e11; 5.331154343207553e8; -1.517646171820701e11; 7.229388488270505e10; -6.902626216051524e10; -1.1304618169285492e11; 5.769217735108105e10; -9.054861416121826e10; -1.754530246944117e11; -1.2268183588459807e11; 1.1901861065138672e10; -1.1684381435810307e11; 2.254828122727085e11; 5.309655920107326e10; 1.1546863140576196e11; -1.7351391681566324e11; 1.1849812552664812e11; 1.1012321333426578e11; -2.237271336329577e11; 2.0522327771440424e11; -3.2070128901432377e10; -1.0917631145565625e11; 1.4597736701436774e11; -1.5102931531765796e11; 2.763471528575428e11; 2.6099906110877084e11; -2.316195699288549e11; -1.1639028610073303e11; 9.797306588725545e10; 7.403258203843806e10; 1.6920680849216604e9; -4.568901280658531e10; 3.234294825520404e9; -6.601157724859939e9; -9.673613302340433e10; -6.980990087584738e10; -1.4678418064293995e10; -3.08969368588187e9; -1.0596041259405362e11; -1.9392212446974136e11; -1.7662261341402698e11; -2.844088274462017e11; -1.2210707776862921e11; -1.7629807266232025e11; 7.503382492738635e10; 2.01405533855177e10; -6.890938222268511e9; -2.195245328094967e10; 6.681106894451076e10; -1.7742498961749683e11; 1.6033395145678256e11; 2.109465930897195e11; 1.8483266068241992e11; 1.0332823785312674e10; -4.765043558261786e10; 1.0039724372651804e11; -1.1745011029508409e11; -1.98692607764814e10; -1.2718355149925084e11; 1.183498508344483e11; 3.6550060478817184e10; 7.569788558701947e10; -1.5228772211397266e11; -1.5888337602020971e10; -1.3716168428762844e10; -1.9983551271599994e11; -1.6566771903598734e11; 2.6414238522221988e11; -1.4324615703262787e11; -8.486890750985513e9; 1.3602251807708522e11; 1.633136791153874e11; 5.103074107594488e10; 1.1426550771078714e10; -4.195501174325981e10; 9.277679762995944e10; -2.1856289059967213e10; 1.2630496228634175e11; 7.372388202872487e10; 1.810778234388902e11; 1.439449409119243e11; -1.3431383335259068e11; 1.2148396682878911e11; 6.374127947353056e10; -1.3946717369140536e11; -6.2488251510321846e10; -3.6886396297824036e10; -2.0952223876926144e10; 2.390411996085935e10; 3.928715966693536e10; 4.232281474681395e10; 6.5368796665585335e10; -1.494418446525841e11; 1.2041089658053336e11; -1.1743327264641858e11; -1.6745594512505224e10; -6.8437628676063286e10; 6.08290876885607e10; -6.682843216600353e10; -3.903577793193218e10; -1.0905806209104048e11; -4.5340021478457275e10; 3.121126595954449e10; -9.815386123370322e10; -9.94225796677856e10; -8.273945061634677e9; 2.502013393209239e10; -1.145532052865621e11; -5.560338408513486e10; 2.995532305216214e11; -4.937078782053255e10; 1.3323378465062276e11; -5.1170429582883965e10; -1.4493070250344754e11; -6.477949935494403e10; -8.72517857218532e10; -1.2019166915197604e11; 1.8436931510734885e11; -5.135250365926866e10; 2.845830172792453e11; -2.0347443722996826e11; -1.3131317809503229e11; 2.232301767597499e10; 1.8441724087923485e10; -5.147356464604121e10; -4.0884604800085884e10; -2.1408477988208557e11; 6.0500380465343285e10; -1.9733535285722903e11; -1.2669424871552031e11; 2.3119759552300943e11; -1.3437097073874554e11; 6.162339188751243e10; -2.1841751842117545e11; 7.189601729899498e9; -9.593886022407066e9; -2.199324684669429e11; -2.138037785581963e11; 1.2960050684501538e11; -4.9808937286229515e10; 3.072377329002892e10; -8.826297041056245e10; -3.2120542903276978e10; 8.730705587583794e10; -1.742272725005102e11; -8.720784718757988e10; -5.964646284900695e10; 1.1911171569899864e11; -1.7912146626874576e11; 1.4627123807795892e11; -1.1971123978465587e11; 8.234183376159592e10; -2.0281886435722745e11; 5.15721866254097e10; -1.0792143145477281e11; -1.9410688565113824e11; 1.2396074267831798e11; -4.5492310774716064e10; 2.2062621564075732e11; -7.779973461673946e10; -1.0186079295637296e11; -1.8364443949738876e10; -1.367517429058816e11; 4.425583705727929e10; 3.079175403002606e11; -1.0464520596702103e11; -5.065963591029199e10; 4.678743170935082e10; 7.776296601155125e10; -7.595905538078896e10; -3.3161403805365032e10; -7.132249375731758e10; 5.3521930127913445e10; 1.0284170875869978e10; -1.1465818480666231e11; -2.089007037091734e11; -4.3988107899872665e10; -8.973919946261717e10; 1.8436839419957654e11; 1.6806803416259955e11; -2.1662713997062354e11; -2.1839545632786584e11; 6.664512773440431e10; -5.429483594736839e10; 1.3140818027547832e10; -2.325010567179936e10; -2.5537445238337082e11; -2.4044229978438854e10; -1.9189927226508987e11; 1.2730664878925258e11; 1.8189717198443848e11; -9.008037692931592e10; -2.360962242342409e11; 3.387218285694419e10; -2.0391586908862924e11; -1.0185765386688466e11; -4.2191644760275085e10; 1.2497299421996173e11; -2.0311809183008887e11; 7.912616609505772e10; -4.4268675577432175e10; 3.3509544648922997e10; -1.8558005250228345e11; -5.4377857807282425e10; 1.0762915118629626e11; 2.5475779065578214e11; 1.497936911136787e11;;]\n",
      "5. [-0.0012190987309264423; -0.729907756042697; 5.933166962357447e6; 9.446737904689614; -0.0065666176055765085; -0.013611404101738687; 1.642829823133799e6; 8.854808406813177; -2.511346498262035; 581.731821223821; 242.39359891452744; 14031.339249027513; 3055.5556763714567; -66.94240860474797; 0.07986356302264895; 3.6781844912745574; 0.0742979946981509; -0.0007999103792211243; 0.03160028665999369; -2.25084638762176;;]\n",
      "6. [-1.045037668448343e7; -2.249200696211525e8; 5.896541856469174e7; 7.810456209787983e7; -7.72514228498145e7; -7.536536387483029e7; 2.27594889415151e8; 3.1156480211582965e8; -1.7074272803188585e7; 5.802047761974467e8; 5.884690149422759e8; 1.7974789123604125e8; 4.364938505094431e8; -4.9224803576545054e8; 1.661281923555211e8; 2.0735963894990864e8; 1.1944024787913094e8; -6.55610392353464e7; 2.884627846480225e7; -5.1301750480119866e8;;]\n",
      "7. [-335.2467308035413; -206.38622736357718; 181.85666716692174; -8686.751341218853; -608.0824577444204; 6105.089822658039; 1215.0279061984006; 15.682718589728873; 906.1258959167495; 1417.366798673552;;]\n",
      "8. 1.0\n"
     ]
    }
   ],
   "source": [
    "for (i,n) in enumerate(graph)\n",
    "    try\n",
    "        print(i, \". \"); println(n.gradient)\n",
    "    catch\n",
    "        println(\"Constans\")\n",
    "    end\n",
    "\n",
    "end"
   ]
  }
 ],
 "metadata": {
  "kernelspec": {
   "display_name": "Julia 1.7.2",
   "language": "julia",
   "name": "julia-1.7"
  },
  "language_info": {
   "file_extension": ".jl",
   "mimetype": "application/julia",
   "name": "julia",
   "version": "1.7.2"
  }
 },
 "nbformat": 4,
 "nbformat_minor": 5
}
